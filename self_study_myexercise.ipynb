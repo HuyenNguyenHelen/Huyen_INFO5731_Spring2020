{
  "nbformat": 4,
  "nbformat_minor": 0,
  "metadata": {
    "colab": {
      "name": "self-study_myexercise",
      "provenance": [],
      "include_colab_link": true
    },
    "kernelspec": {
      "name": "python3",
      "display_name": "Python 3"
    }
  },
  "cells": [
    {
      "cell_type": "markdown",
      "metadata": {
        "id": "view-in-github",
        "colab_type": "text"
      },
      "source": [
        "<a href=\"https://colab.research.google.com/github/HuyenNguyenHelen/Huyen_INFO5731_Spring2020/blob/master/self_study_myexercise.ipynb\" target=\"_parent\"><img src=\"https://colab.research.google.com/assets/colab-badge.svg\" alt=\"Open In Colab\"/></a>"
      ]
    },
    {
      "cell_type": "code",
      "metadata": {
        "id": "URDqnPlSgtCO",
        "colab_type": "code",
        "outputId": "31e53bdb-1063-4bbd-c8cf-0506caffb8d5",
        "colab": {
          "base_uri": "https://localhost:8080/",
          "height": 156
        }
      },
      "source": [
        "#p. 101/ ex 9-4\n",
        "def use_only (word, letter):\n",
        "    if letter not in word:\n",
        "        return True \n",
        "    return False\n",
        "use_only (\"cantin\", \"l\")\n",
        "letter = [\"a\",\"c\",\"e\",\"f\",\"h\",\"l\",\"o\"]\n",
        "sentence= input()\n",
        "for item in a:\n",
        "    if use_only (a,b) == True:\n",
        "        print(item)\n"
      ],
      "execution_count": 0,
      "outputs": [
        {
          "output_type": "stream",
          "text": [
            "my sentence\n",
            "a\n",
            "c\n",
            "e\n",
            "f\n",
            "h\n",
            "l\n",
            "o\n"
          ],
          "name": "stdout"
        }
      ]
    },
    {
      "cell_type": "code",
      "metadata": {
        "id": "Tk9JDJH2FVeU",
        "colab_type": "code",
        "colab": {
          "base_uri": "https://localhost:8080/",
          "height": 339
        },
        "outputId": "662dcae7-6037-48cf-c365-361702d35bdb"
      },
      "source": [
        "# p 105/ ex 9-7\n",
        "def triple_double_letter (word):\n",
        "  i=len (word)-1\n",
        "  i=0\n",
        "  count=0\n",
        "  while i <len(word):\n",
        "    if word [i]==word[i+1]:\n",
        "      count+=1\n",
        "      if count ==3:\n",
        "        return True\n",
        "      i=i+2\n",
        "triple_double_letter (\"mississippi\")\n",
        " "
      ],
      "execution_count": 9,
      "outputs": [
        {
          "output_type": "error",
          "ename": "KeyboardInterrupt",
          "evalue": "ignored",
          "traceback": [
            "\u001b[0;31m---------------------------------------------------------------------------\u001b[0m",
            "\u001b[0;31mKeyboardInterrupt\u001b[0m                         Traceback (most recent call last)",
            "\u001b[0;32m<ipython-input-9-d8240ad3d12b>\u001b[0m in \u001b[0;36m<module>\u001b[0;34m()\u001b[0m\n\u001b[1;32m      9\u001b[0m         \u001b[0;32mreturn\u001b[0m \u001b[0;32mTrue\u001b[0m\u001b[0;34m\u001b[0m\u001b[0;34m\u001b[0m\u001b[0m\n\u001b[1;32m     10\u001b[0m       \u001b[0mi\u001b[0m\u001b[0;34m=\u001b[0m\u001b[0mi\u001b[0m\u001b[0;34m+\u001b[0m\u001b[0;36m2\u001b[0m\u001b[0;34m\u001b[0m\u001b[0;34m\u001b[0m\u001b[0m\n\u001b[0;32m---> 11\u001b[0;31m \u001b[0mtriple_double_letter\u001b[0m \u001b[0;34m(\u001b[0m\u001b[0;34m\"mississippi\"\u001b[0m\u001b[0;34m)\u001b[0m\u001b[0;34m\u001b[0m\u001b[0;34m\u001b[0m\u001b[0m\n\u001b[0m\u001b[1;32m     12\u001b[0m \u001b[0;34m\u001b[0m\u001b[0m\n",
            "\u001b[0;32m<ipython-input-9-d8240ad3d12b>\u001b[0m in \u001b[0;36mtriple_double_letter\u001b[0;34m(word)\u001b[0m\n\u001b[1;32m      3\u001b[0m   \u001b[0mi\u001b[0m\u001b[0;34m=\u001b[0m\u001b[0;36m0\u001b[0m\u001b[0;34m\u001b[0m\u001b[0;34m\u001b[0m\u001b[0m\n\u001b[1;32m      4\u001b[0m   \u001b[0mcount\u001b[0m\u001b[0;34m=\u001b[0m\u001b[0;36m0\u001b[0m\u001b[0;34m\u001b[0m\u001b[0;34m\u001b[0m\u001b[0m\n\u001b[0;32m----> 5\u001b[0;31m   \u001b[0;32mwhile\u001b[0m \u001b[0mi\u001b[0m \u001b[0;34m<\u001b[0m\u001b[0mlen\u001b[0m\u001b[0;34m(\u001b[0m\u001b[0mword\u001b[0m\u001b[0;34m)\u001b[0m\u001b[0;34m:\u001b[0m\u001b[0;34m\u001b[0m\u001b[0;34m\u001b[0m\u001b[0m\n\u001b[0m\u001b[1;32m      6\u001b[0m     \u001b[0;32mif\u001b[0m \u001b[0mword\u001b[0m \u001b[0;34m[\u001b[0m\u001b[0mi\u001b[0m\u001b[0;34m]\u001b[0m\u001b[0;34m==\u001b[0m\u001b[0mword\u001b[0m\u001b[0;34m[\u001b[0m\u001b[0mi\u001b[0m\u001b[0;34m+\u001b[0m\u001b[0;36m1\u001b[0m\u001b[0;34m]\u001b[0m\u001b[0;34m:\u001b[0m\u001b[0;34m\u001b[0m\u001b[0;34m\u001b[0m\u001b[0m\n\u001b[1;32m      7\u001b[0m       \u001b[0mcount\u001b[0m\u001b[0;34m+=\u001b[0m\u001b[0;36m1\u001b[0m\u001b[0;34m\u001b[0m\u001b[0;34m\u001b[0m\u001b[0m\n",
            "\u001b[0;31mKeyboardInterrupt\u001b[0m: "
          ]
        }
      ]
    },
    {
      "cell_type": "code",
      "metadata": {
        "id": "vgMPRwnPZmvt",
        "colab_type": "code",
        "colab": {
          "base_uri": "https://localhost:8080/",
          "height": 131
        },
        "outputId": "dde586ce-c621-497d-90e6-17318c5288f9"
      },
      "source": [
        "#dont understand\n",
        "i = 0\n",
        "count = 0\n",
        "while i < len(word)-1:\n",
        "  if word[i] == word[i+1]:\n",
        "    count = count + 1\n",
        "    if count == 3:\n",
        "      return True\n",
        "    i = i + 2\n",
        "  else:\n",
        "    i = i + 1 - 2*count\n",
        "    count = 0\n",
        "return False"
      ],
      "execution_count": 14,
      "outputs": [
        {
          "output_type": "error",
          "ename": "SyntaxError",
          "evalue": "ignored",
          "traceback": [
            "\u001b[0;36m  File \u001b[0;32m\"<ipython-input-14-93fb274fd406>\"\u001b[0;36m, line \u001b[0;32m7\u001b[0m\n\u001b[0;31m    return True\u001b[0m\n\u001b[0m    ^\u001b[0m\n\u001b[0;31mSyntaxError\u001b[0m\u001b[0;31m:\u001b[0m 'return' outside function\n"
          ]
        }
      ]
    },
    {
      "cell_type": "markdown",
      "metadata": {
        "id": "VhYSbHBwulgE",
        "colab_type": "text"
      },
      "source": [
        "CHAPTER 10 LIST\n"
      ]
    },
    {
      "cell_type": "code",
      "metadata": {
        "id": "UCQ3_hZDuqjt",
        "colab_type": "code",
        "colab": {}
      },
      "source": [
        "#P120 EXT 10-1\n",
        "def nested_sum (list):\n",
        "  sum=0\n",
        "  for item in list:\n",
        "    sum(list, item[0])\n",
        "    "
      ],
      "execution_count": 0,
      "outputs": []
    }
  ]
}