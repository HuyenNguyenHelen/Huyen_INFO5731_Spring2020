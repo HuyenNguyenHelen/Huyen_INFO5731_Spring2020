{
  "nbformat": 4,
  "nbformat_minor": 0,
  "metadata": {
    "colab": {
      "name": "self-study_myexercise",
      "provenance": [],
      "include_colab_link": true
    },
    "kernelspec": {
      "name": "python3",
      "display_name": "Python 3"
    }
  },
  "cells": [
    {
      "cell_type": "markdown",
      "metadata": {
        "id": "view-in-github",
        "colab_type": "text"
      },
      "source": [
        "<a href=\"https://colab.research.google.com/github/HuyenNguyenHelen/Huyen_INFO5731_Spring2020/blob/master/self_study_myexercise.ipynb\" target=\"_parent\"><img src=\"https://colab.research.google.com/assets/colab-badge.svg\" alt=\"Open In Colab\"/></a>"
      ]
    },
    {
      "cell_type": "code",
      "metadata": {
        "id": "URDqnPlSgtCO",
        "colab_type": "code",
        "outputId": "31e53bdb-1063-4bbd-c8cf-0506caffb8d5",
        "colab": {
          "base_uri": "https://localhost:8080/",
          "height": 156
        }
      },
      "source": [
        "#p. 101/ ex 9-4\n",
        "def use_only (word, letter):\n",
        "    if letter not in word:\n",
        "        return True \n",
        "    return False\n",
        "use_only (\"cantin\", \"l\")\n",
        "letter = [\"a\",\"c\",\"e\",\"f\",\"h\",\"l\",\"o\"]\n",
        "sentence= input()\n",
        "for item in a:\n",
        "    if use_only (a,b) == True:\n",
        "        print(item)\n"
      ],
      "execution_count": 0,
      "outputs": [
        {
          "output_type": "stream",
          "text": [
            "my sentence\n",
            "a\n",
            "c\n",
            "e\n",
            "f\n",
            "h\n",
            "l\n",
            "o\n"
          ],
          "name": "stdout"
        }
      ]
    },
    {
      "cell_type": "code",
      "metadata": {
        "id": "Tk9JDJH2FVeU",
        "colab_type": "code",
        "outputId": "662dcae7-6037-48cf-c365-361702d35bdb",
        "colab": {
          "base_uri": "https://localhost:8080/",
          "height": 339
        }
      },
      "source": [
        "# p 105/ ex 9-7\n",
        "def triple_double_letter (word):\n",
        "  i=len (word)-1\n",
        "  i=0\n",
        "  count=0\n",
        "  while i <len(word):\n",
        "    if word [i]==word[i+1]:\n",
        "      count+=1\n",
        "      if count ==3:\n",
        "        return True\n",
        "      i=i+2\n",
        "triple_double_letter (\"mississippi\")\n",
        " "
      ],
      "execution_count": 0,
      "outputs": [
        {
          "output_type": "error",
          "ename": "KeyboardInterrupt",
          "evalue": "ignored",
          "traceback": [
            "\u001b[0;31m---------------------------------------------------------------------------\u001b[0m",
            "\u001b[0;31mKeyboardInterrupt\u001b[0m                         Traceback (most recent call last)",
            "\u001b[0;32m<ipython-input-9-d8240ad3d12b>\u001b[0m in \u001b[0;36m<module>\u001b[0;34m()\u001b[0m\n\u001b[1;32m      9\u001b[0m         \u001b[0;32mreturn\u001b[0m \u001b[0;32mTrue\u001b[0m\u001b[0;34m\u001b[0m\u001b[0;34m\u001b[0m\u001b[0m\n\u001b[1;32m     10\u001b[0m       \u001b[0mi\u001b[0m\u001b[0;34m=\u001b[0m\u001b[0mi\u001b[0m\u001b[0;34m+\u001b[0m\u001b[0;36m2\u001b[0m\u001b[0;34m\u001b[0m\u001b[0;34m\u001b[0m\u001b[0m\n\u001b[0;32m---> 11\u001b[0;31m \u001b[0mtriple_double_letter\u001b[0m \u001b[0;34m(\u001b[0m\u001b[0;34m\"mississippi\"\u001b[0m\u001b[0;34m)\u001b[0m\u001b[0;34m\u001b[0m\u001b[0;34m\u001b[0m\u001b[0m\n\u001b[0m\u001b[1;32m     12\u001b[0m \u001b[0;34m\u001b[0m\u001b[0m\n",
            "\u001b[0;32m<ipython-input-9-d8240ad3d12b>\u001b[0m in \u001b[0;36mtriple_double_letter\u001b[0;34m(word)\u001b[0m\n\u001b[1;32m      3\u001b[0m   \u001b[0mi\u001b[0m\u001b[0;34m=\u001b[0m\u001b[0;36m0\u001b[0m\u001b[0;34m\u001b[0m\u001b[0;34m\u001b[0m\u001b[0m\n\u001b[1;32m      4\u001b[0m   \u001b[0mcount\u001b[0m\u001b[0;34m=\u001b[0m\u001b[0;36m0\u001b[0m\u001b[0;34m\u001b[0m\u001b[0;34m\u001b[0m\u001b[0m\n\u001b[0;32m----> 5\u001b[0;31m   \u001b[0;32mwhile\u001b[0m \u001b[0mi\u001b[0m \u001b[0;34m<\u001b[0m\u001b[0mlen\u001b[0m\u001b[0;34m(\u001b[0m\u001b[0mword\u001b[0m\u001b[0;34m)\u001b[0m\u001b[0;34m:\u001b[0m\u001b[0;34m\u001b[0m\u001b[0;34m\u001b[0m\u001b[0m\n\u001b[0m\u001b[1;32m      6\u001b[0m     \u001b[0;32mif\u001b[0m \u001b[0mword\u001b[0m \u001b[0;34m[\u001b[0m\u001b[0mi\u001b[0m\u001b[0;34m]\u001b[0m\u001b[0;34m==\u001b[0m\u001b[0mword\u001b[0m\u001b[0;34m[\u001b[0m\u001b[0mi\u001b[0m\u001b[0;34m+\u001b[0m\u001b[0;36m1\u001b[0m\u001b[0;34m]\u001b[0m\u001b[0;34m:\u001b[0m\u001b[0;34m\u001b[0m\u001b[0;34m\u001b[0m\u001b[0m\n\u001b[1;32m      7\u001b[0m       \u001b[0mcount\u001b[0m\u001b[0;34m+=\u001b[0m\u001b[0;36m1\u001b[0m\u001b[0;34m\u001b[0m\u001b[0;34m\u001b[0m\u001b[0m\n",
            "\u001b[0;31mKeyboardInterrupt\u001b[0m: "
          ]
        }
      ]
    },
    {
      "cell_type": "code",
      "metadata": {
        "id": "vgMPRwnPZmvt",
        "colab_type": "code",
        "outputId": "dde586ce-c621-497d-90e6-17318c5288f9",
        "colab": {
          "base_uri": "https://localhost:8080/",
          "height": 131
        }
      },
      "source": [
        "#dont understand\n",
        "i = 0\n",
        "count = 0\n",
        "while i < len(word)-1:\n",
        "  if word[i] == word[i+1]:\n",
        "    count = count + 1\n",
        "    if count == 3:\n",
        "      return True\n",
        "    i = i + 2\n",
        "  else:\n",
        "    i = i + 1 - 2*count\n",
        "    count = 0\n",
        "return False"
      ],
      "execution_count": 0,
      "outputs": [
        {
          "output_type": "error",
          "ename": "SyntaxError",
          "evalue": "ignored",
          "traceback": [
            "\u001b[0;36m  File \u001b[0;32m\"<ipython-input-14-93fb274fd406>\"\u001b[0;36m, line \u001b[0;32m7\u001b[0m\n\u001b[0;31m    return True\u001b[0m\n\u001b[0m    ^\u001b[0m\n\u001b[0;31mSyntaxError\u001b[0m\u001b[0;31m:\u001b[0m 'return' outside function\n"
          ]
        }
      ]
    },
    {
      "cell_type": "markdown",
      "metadata": {
        "id": "VhYSbHBwulgE",
        "colab_type": "text"
      },
      "source": [
        "CHAPTER 10 LIST\n"
      ]
    },
    {
      "cell_type": "code",
      "metadata": {
        "id": "UCQ3_hZDuqjt",
        "colab_type": "code",
        "colab": {
          "base_uri": "https://localhost:8080/",
          "height": 35
        },
        "outputId": "e0f92865-543c-4480-ceab-95187350d128"
      },
      "source": [
        "#P120 EXT 10-1\n",
        "# MY CODE\n",
        "def nested_sum (sum_list):\n",
        "  i=0\n",
        "  total=0\n",
        "  while i <len(sum_list):\n",
        "    total+=sum(sum_list[i])\n",
        "    i+=1\n",
        "  return total\n",
        "t=[[1,2],[3],[4,5,6]]\n",
        "nested_sum(t)\n",
        "\n",
        "    \n",
        "\n",
        "    "
      ],
      "execution_count": 34,
      "outputs": [
        {
          "output_type": "execute_result",
          "data": {
            "text/plain": [
              "21"
            ]
          },
          "metadata": {
            "tags": []
          },
          "execution_count": 34
        }
      ]
    },
    {
      "cell_type": "code",
      "metadata": {
        "id": "gWuAwgkEIGS_",
        "colab_type": "code",
        "colab": {
          "base_uri": "https://localhost:8080/",
          "height": 35
        },
        "outputId": "b8c54c92-a729-45ce-ecbc-de1a84296c69"
      },
      "source": [
        "# BOOK SOLUTION\n",
        "def nested_sum(t):\n",
        "    \"\"\"Computes the total of all numbers in a list of lists.\n",
        "   \n",
        "    t: list of list of numbers\n",
        "\n",
        "    returns: number\n",
        "    \"\"\"\n",
        "    total = 0\n",
        "    for nested in t:\n",
        "        total += sum(nested)\n",
        "    return total\n",
        "t=[[1,2],[3],[4,5,6]]\n",
        "nested_sum(t)"
      ],
      "execution_count": 29,
      "outputs": [
        {
          "output_type": "execute_result",
          "data": {
            "text/plain": [
              "21"
            ]
          },
          "metadata": {
            "tags": []
          },
          "execution_count": 29
        }
      ]
    },
    {
      "cell_type": "code",
      "metadata": {
        "id": "90YlqX-AKkRz",
        "colab_type": "code",
        "colab": {
          "base_uri": "https://localhost:8080/",
          "height": 35
        },
        "outputId": "06a07c7e-071b-4fed-97a1-c5ba2453552f"
      },
      "source": [
        "\n",
        "#p 102 Ex 10-2: SOlution/ Need to practice\n",
        "def cumsum(t):\n",
        "    \"\"\"Computes the cumulative sum of the numbers in t.\n",
        "\n",
        "    t: list of numbers\n",
        "\n",
        "    returns: list of numbers\n",
        "    \"\"\"\n",
        "    total = 0\n",
        "    res = []\n",
        "    for x in t:\n",
        "        total += x\n",
        "        res.append(total)\n",
        "    return res\n",
        "t=[1,2,3,4,5,6]\n",
        "cumsum(t)"
      ],
      "execution_count": 37,
      "outputs": [
        {
          "output_type": "execute_result",
          "data": {
            "text/plain": [
              "[1, 3, 6, 10, 15, 21]"
            ]
          },
          "metadata": {
            "tags": []
          },
          "execution_count": 37
        }
      ]
    },
    {
      "cell_type": "code",
      "metadata": {
        "id": "l0OnZTnJNjbl",
        "colab_type": "code",
        "colab": {
          "base_uri": "https://localhost:8080/",
          "height": 35
        },
        "outputId": "f0573ba3-2b61-4e6a-9503-30fabfd8b0ed"
      },
      "source": [
        "# p121/ EX 10-3\n",
        "# my code\n",
        "new=[]\n",
        "def middle(t):\n",
        "  i=0\n",
        "  for i in range(1,len(t)-1):\n",
        "    x=t[i]\n",
        "    new.append(x)\n",
        "  return new\n",
        "t=[1,2,3,4,5,6]\n",
        "middle(t)\n",
        "\n",
        "    "
      ],
      "execution_count": 45,
      "outputs": [
        {
          "output_type": "execute_result",
          "data": {
            "text/plain": [
              "[2, 3, 4, 5]"
            ]
          },
          "metadata": {
            "tags": []
          },
          "execution_count": 45
        }
      ]
    },
    {
      "cell_type": "code",
      "metadata": {
        "id": "fKWNW8FuRD5X",
        "colab_type": "code",
        "colab": {
          "base_uri": "https://localhost:8080/",
          "height": 35
        },
        "outputId": "9a4db00b-2fc9-4acf-b220-8fbb57ac3e86"
      },
      "source": [
        "# p121/ EX 10-3\n",
        "# Book Solution\n",
        "# I need to think more smartly and more simply :()\n",
        "def middle(t):\n",
        "    \"\"\"Returns all but the first and last elements of t.\n",
        "\n",
        "    t: list\n",
        "\n",
        "    returns: new list\n",
        "    \"\"\"\n",
        "    return t[1:-1]\n",
        "t=[1,2,3,4,5,6]\n",
        "middle(t)"
      ],
      "execution_count": 47,
      "outputs": [
        {
          "output_type": "execute_result",
          "data": {
            "text/plain": [
              "[2, 3, 4, 5]"
            ]
          },
          "metadata": {
            "tags": []
          },
          "execution_count": 47
        }
      ]
    },
    {
      "cell_type": "markdown",
      "metadata": {
        "id": "eurYOFmcUIlo",
        "colab_type": "text"
      },
      "source": [
        "NOte: Remember that it is very different when we return a new list and modify a list. Create a new list with .Append() function or index[], but modify a list with del which no longer return the list (mean None)"
      ]
    },
    {
      "cell_type": "code",
      "metadata": {
        "id": "ehDWvwBrRmac",
        "colab_type": "code",
        "colab": {
          "base_uri": "https://localhost:8080/",
          "height": 35
        },
        "outputId": "218f7eba-89ee-4c70-f4ad-bf55ffbd78a8"
      },
      "source": [
        " \n",
        " #p121/ EX 10-3\n",
        " def chop(t):\n",
        "   del t[0] \n",
        "   del t[-1]\n",
        "   return t\n",
        "t=[1,2,3,4,5,6]\n",
        "chop(t)\n"
      ],
      "execution_count": 56,
      "outputs": [
        {
          "output_type": "execute_result",
          "data": {
            "text/plain": [
              "[2, 3, 4, 5]"
            ]
          },
          "metadata": {
            "tags": []
          },
          "execution_count": 56
        }
      ]
    },
    {
      "cell_type": "markdown",
      "metadata": {
        "id": "-omSGZwEWT2W",
        "colab_type": "text"
      },
      "source": [
        "Sort a list with: sorted (t) (mean that it changes the original list) and t.sort() (means that it creates a new list)\n",
        "\n"
      ]
    },
    {
      "cell_type": "code",
      "metadata": {
        "id": "6tTVpUxrNgIj",
        "colab_type": "code",
        "colab": {
          "base_uri": "https://localhost:8080/",
          "height": 35
        },
        "outputId": "e0d7e9aa-2a38-4c9b-de5c-6279577e3651"
      },
      "source": [
        "# p 121/ EX 10-5\n",
        "def is_sorted (t):\n",
        "  if t == sorted(t):\n",
        "    return True\n",
        "  return False\n",
        "t=[2,5,1,3]  \n",
        "is_sorted(t)"
      ],
      "execution_count": 61,
      "outputs": [
        {
          "output_type": "execute_result",
          "data": {
            "text/plain": [
              "False"
            ]
          },
          "metadata": {
            "tags": []
          },
          "execution_count": 61
        }
      ]
    },
    {
      "cell_type": "code",
      "metadata": {
        "id": "ONq6gcPbVz0U",
        "colab_type": "code",
        "colab": {
          "base_uri": "https://localhost:8080/",
          "height": 35
        },
        "outputId": "7d3f07ae-b341-4760-8997-4bbd40681bae"
      },
      "source": [
        "t=[2,5,1,3]\n",
        "t.sort()\n",
        "print(t)"
      ],
      "execution_count": 74,
      "outputs": [
        {
          "output_type": "stream",
          "text": [
            "[1, 2, 3, 5]\n"
          ],
          "name": "stdout"
        }
      ]
    }
  ]
}