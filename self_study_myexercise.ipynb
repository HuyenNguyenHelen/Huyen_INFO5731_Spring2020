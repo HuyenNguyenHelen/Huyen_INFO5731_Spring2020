{
  "nbformat": 4,
  "nbformat_minor": 0,
  "metadata": {
    "colab": {
      "name": "self-study_myexercise",
      "provenance": [],
      "include_colab_link": true
    },
    "kernelspec": {
      "name": "python3",
      "display_name": "Python 3"
    }
  },
  "cells": [
    {
      "cell_type": "markdown",
      "metadata": {
        "id": "view-in-github",
        "colab_type": "text"
      },
      "source": [
        "<a href=\"https://colab.research.google.com/github/HuyenNguyenHelen/Huyen_INFO5731_Spring2020/blob/master/self_study_myexercise.ipynb\" target=\"_parent\"><img src=\"https://colab.research.google.com/assets/colab-badge.svg\" alt=\"Open In Colab\"/></a>"
      ]
    },
    {
      "cell_type": "code",
      "metadata": {
        "id": "URDqnPlSgtCO",
        "colab_type": "code",
        "colab": {
          "base_uri": "https://localhost:8080/",
          "height": 156
        },
        "outputId": "31e53bdb-1063-4bbd-c8cf-0506caffb8d5"
      },
      "source": [
        "#p. 101/ ex 9-4\n",
        "def use_only (word, letter):\n",
        "    if letter not in word:\n",
        "        return True \n",
        "    return False\n",
        "use_only (\"cantin\", \"l\")\n",
        "letter = [\"a\",\"c\",\"e\",\"f\",\"h\",\"l\",\"o\"]\n",
        "sentence= input()\n",
        "for item in a:\n",
        "    if use_only (a,b) == True:\n",
        "        print(item)\n"
      ],
      "execution_count": 6,
      "outputs": [
        {
          "output_type": "stream",
          "text": [
            "my sentence\n",
            "a\n",
            "c\n",
            "e\n",
            "f\n",
            "h\n",
            "l\n",
            "o\n"
          ],
          "name": "stdout"
        }
      ]
    },
    {
      "cell_type": "code",
      "metadata": {
        "id": "Tk9JDJH2FVeU",
        "colab_type": "code",
        "colab": {}
      },
      "source": [
        "def is_abecedarian (word):\n",
        "  previous "
      ],
      "execution_count": 0,
      "outputs": []
    }
  ]
}