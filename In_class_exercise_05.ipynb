{
  "nbformat": 4,
  "nbformat_minor": 0,
  "metadata": {
    "colab": {
      "name": "In_class_exercise_05.ipynb",
      "provenance": [],
      "collapsed_sections": [],
      "include_colab_link": true
    },
    "kernelspec": {
      "name": "python3",
      "display_name": "Python 3"
    }
  },
  "cells": [
    {
      "cell_type": "markdown",
      "metadata": {
        "id": "view-in-github",
        "colab_type": "text"
      },
      "source": [
        "<a href=\"https://colab.research.google.com/github/HuyenNguyenHelen/Huyen_INFO5731_Spring2020/blob/master/In_class_exercise_05.ipynb\" target=\"_parent\"><img src=\"https://colab.research.google.com/assets/colab-badge.svg\" alt=\"Open In Colab\"/></a>"
      ]
    },
    {
      "cell_type": "markdown",
      "metadata": {
        "id": "z7TahL04sVvR",
        "colab_type": "text"
      },
      "source": [
        "# **The fifth in-class-exercise**"
      ]
    },
    {
      "cell_type": "markdown",
      "metadata": {
        "id": "ejyZITr8sjnh",
        "colab_type": "text"
      },
      "source": [
        "## **1. Rule-based information extraction**\n",
        "\n",
        "Use any keywords related to data science, natural language processing, machine learning to search from google scholar, get the **titles** of 100 articles (either by web scraping or manually) about this topic, define a set of patterns to extract the research questions/problems, methods/algorithms/models, datasets, applications, or any other important information about this topic. "
      ]
    },
    {
      "cell_type": "code",
      "metadata": {
        "id": "PxGl5wuDQi0G",
        "colab_type": "code",
        "outputId": "fab5da0b-79c2-4c71-b281-ee7b410e7055",
        "colab": {
          "base_uri": "https://localhost:8080/",
          "height": 53
        }
      },
      "source": [
        "import pandas as pd\n",
        "import csv\n",
        "with open(\"knowledge_graph_100_titles.txt\", \"r\",  newline=\"\", encoding='utf-8') as file:\n",
        "    titles = file.read()\n",
        "titles\n"
      ],
      "execution_count": 7,
      "outputs": [
        {
          "output_type": "execute_result",
          "data": {
            "text/plain": [
              "'\"Knowledge Graph Embedding by Translating on Hyperplanes\"\\r\\n\"Learning Entity and Relation Embeddings for Knowledge Graph Completion\"\\r\\n\"Knowledge Graph Embedding via Dynamic Mapping Matrix\"\\r\\n\"Freebase: a collaboratively created graph database for structuring human knowledge\"\\r\\n\"Holographic Embeddings of Knowledge Graphs\"\\r\\n\"Knowledge vault: a web-scale approach to probabilistic knowledge fusion\"\\r\\n\"Semi-Supervised Classification with Graph Convolutional Networks\"\\r\\nTopological Graph Theory\\r\\nWavelets on Graphs via Spectral Graph Theory\\r\\nA random graph model for massive graphs\\r\\nAlgorithmic graph theory and perfect graphs\\r\\nGraph Coloring Problems\\r\\nWeisfeiler-Lehman Graph Kernels\\r\\n\"Graph-based Knowledge Representation - Computational Foundations of Conceptual Graphs\"\\r\\nAlgebraic Graph Theory\\r\\nIntroduction to Graph Theory\\r\\nGraph Classes: A Survey\\r\\nIntroduction to Graph Theory\\r\\n\"A Review of Relational Machine Learning for Knowledge Graphs\"\\r\\nGraph Theory\\r\\nModern Graph Theory\\r\\nSpectral Graph Theory\\r\\n\"Context-Dependent Knowledge Graph Embedding\"\\r\\n\"Knowledge Graph Identification\"\\r\\n\"Open-World Knowledge Graph Completion\"\\r\\n\"Variational Knowledge Graph Reasoning\"\\r\\n\"Convolutional 2D Knowledge Graph Embeddings\"\\r\\n\"Multilingual Knowledge Graph Embeddings for Cross-lingual Knowledge Alignment\"\\r\\nLocal Graph Partitioning using PageRank Vectors\\r\\nA (sub)graph isomorphism algorithm for matching large graphs\\r\\n\"ConceptNet 5.5: An Open Multilingual Graph of General Knowledge\"\\r\\nCongruent Graphs and the Connectivity of Graphs\\r\\n\"Knowledge-based graph document modeling\"\\r\\nGraph Theory\\r\\nGraph-Based Visual Saliency\\r\\n\"Semantically Smooth Knowledge Graph Embedding\"\\r\\n\"Semantic Parsing via Staged Query Graph Generation: Question Answering with Knowledge Base\"\\r\\n\"Cross-lingual Knowledge Graph Alignment via Graph Convolutional Networks\"\\r\\n\"Knowledge Graph and Text Jointly Embedding\"\\r\\n\"Knowledge Graph Embedding Based Question Answering\"\\r\\n\"KBGAN: Adversarial Learning for Knowledge Graph Embeddings\"\\r\\n\"Accurate Text-Enhanced Knowledge Graph Representation Learning\"\\r\\n\"Text-Enhanced Representation Learning for Knowledge Graph\"\\r\\n\"Knowledge Graph Completion via Complex Tensor Factorization\"\\r\\n\"Recurrent knowledge graph embedding for effective recommendation\"\\r\\n\"Knowledge Graph Embedding by Flexible Translation\"\\r\\n\"ProjE: Embedding Projection for Knowledge Graph Completion\"\\r\\nUnit disk graphs\\r\\nGraph Theory and Its Applications\\r\\n\"GAKE: Graph Aware Knowledge Embedding\"\\r\\n\"Locally Adaptive Translation for Knowledge Graph Embedding\"\\r\\n\"Fast Linear Model for Knowledge Graph Embeddings\"\\r\\n\"Object Detection Meets Knowledge Graphs\"\\r\\nHandbook of Graph Grammars and Computing by Graph Transformations, Volume 1: Foundations\\r\\n\"PowerGraph: Distributed Graph-Parallel Computation on Natural Graphs\"\\r\\n\"Graph Attention Networks\"\\r\\nPractical graph isomorphism, II\\r\\n\"Knowledge, knowledge work and organizations: an overview and interpretation (reprinted)\"\\r\\n\"Knowledge tracing: Modeling the acquisition of procedural knowledge\"\\r\\nGraph Minors .XIII. The Disjoint Paths Problem\\r\\nGraph Sparsification by Effective Resistances\\r\\n\"The area above the ordinal dominance graph and the area below the receiver operating characteristic graph\"\\r\\nTesting for the Consecutive Ones Property, Interval Graphs, and Graph Planarity Using PQ-Tree Algorithms\\r\\nSome Simplified NP-Complete Graph Problems\\r\\n\"Gated Graph Sequence Neural Networks\"\\r\\nDistance Regular Graphs\\r\\nMotion graphs\\r\\nEfficient graph representations\\r\\nChemical Graph Theory\\r\\n\"Traversing Knowledge Graphs in Vector Space\"\\r\\nDividing a Graph into Triconnected Components\\r\\n\"Towards a Definition of Knowledge Graphs\"\\r\\n\"Fast top-k search in knowledge graphs\"\\r\\n\"Building event-centric knowledge graphs from news\"\\r\\n\"Sound and Music Recommendation with Knowledge Graphs\"\\r\\nFast Approximate Energy Minimization via Graph Cuts\\r\\nFace Recognition by Elastic Bunch Graph Matching\\r\\n\"Type-Constrained Representation Learning in Knowledge Graphs\"\\r\\n\"One-Shot Relational Learning for Knowledge Graphs\"\\r\\n\"Explaining and Suggesting Relatedness in Knowledge Graphs\"\\r\\n\"Embedding Logical Queries on Knowledge Graphs\"\\r\\n\"Explainable Reasoning over Knowledge Graphs for Recommendation\"\\r\\n\"Improving Knowledge Graph Embedding Using Simple Constraints\"\\r\\n\"The Knowledge Level\"\\r\\n\"Completeness-Aware Rule Learning from Knowledge Graphs\"\\r\\n\"Marrying Uncertainty and Time in Knowledge Graphs\"\\r\\n\"Faceted search over RDF-based knowledge graphs\"\\r\\nThe strong perfect graph theorem\\r\\nSurvey of graph database models\\r\\n\"G2o: A general framework for graph optimization\"\\r\\nFundamentals of Algebraic Graph Transformation\\r\\n\"Scalable, graph-based network vulnerability analysis\"\\r\\nLANDSCAPE CONNECTIVITY: A GRAPH‐THEORETIC PERSPECTIVE\\r\\nLocality in Distributed Graph Algorithms\\r\\n\"Random graph models of social networks.\"\\r\\n\"How to Draw a Graph\"\\r\\nEfficient hierarchical graph-based video segmentation\\r\\n\"The Graph Neural Network Model\"\\r\\nNearly-linear time algorithms for graph partitioning, graph sparsification, and solving linear systems\\r\\n\"Group lasso with overlap and graph lasso\"\\r\\n'"
            ]
          },
          "metadata": {
            "tags": []
          },
          "execution_count": 7
        }
      ]
    },
    {
      "cell_type": "code",
      "metadata": {
        "id": "O1PtB4FnfCcu",
        "colab_type": "code",
        "colab": {}
      },
      "source": [
        "import re \n",
        "import string \n",
        "import nltk \n",
        "import spacy \n",
        "import pandas as pd \n",
        "import numpy as np \n",
        "import math \n",
        "from tqdm import tqdm \n",
        "\n",
        "from spacy.matcher import Matcher \n",
        "from spacy.tokens import Span \n",
        "from spacy import displacy \n",
        "\n",
        "pd.set_option('display.max_colwidth', 200)\n",
        "# load spaCy model\n",
        "nlp = spacy.load(\"en_core_web_sm\")\n",
        "\n"
      ],
      "execution_count": 0,
      "outputs": []
    },
    {
      "cell_type": "code",
      "metadata": {
        "id": "1QFIn5iQW9ic",
        "colab_type": "code",
        "colab": {
          "base_uri": "https://localhost:8080/",
          "height": 217
        },
        "outputId": "e7b4ae3b-72d0-4c15-a13b-0363fe1f4a18"
      },
      "source": [
        "doc=nlp('Cross-lingual Knowledge Graph Alignment via Graph Convolutional Networks')\n",
        "#token, dependency, POS tag \n",
        "# detect research methods\n",
        "for token in doc:\n",
        "  print (token.text, \"-->\",token.dep_,\"-->\", token.pos_)\n",
        "pattern2=[{},\n",
        "          {'lower': 'knowledge', 'OP':'?'}, \n",
        "          {'lower': 'graph', 'OP':'?'},\n",
        "          {},\n",
        "          {'lower': 'via'},\n",
        "          {'POS': 'PROPN', 'OP': '+'},\n",
        "          {},\n",
        "          {'POS': 'Noun', 'OP': '*'}\n",
        "           ]\n",
        "\n",
        "matcher = Matcher(nlp.vocab) \n",
        "matcher.add(\"matching_1\", None, pattern2) \n",
        "matches = matcher(doc) \n",
        "span1 = doc[matches[0][1]:matches[1][2]]\n",
        "span2 = doc[matches[0][1]:matches[2][2]]\n",
        "if len(span1) >=len(span2):\n",
        "  print( span1.text)\n",
        "print(span2.text)"
      ],
      "execution_count": 62,
      "outputs": [
        {
          "output_type": "stream",
          "text": [
            "Cross --> subtok --> PROPN\n",
            "- --> subtok --> PUNCT\n",
            "lingual --> amod --> ADJ\n",
            "Knowledge --> compound --> PROPN\n",
            "Graph --> compound --> PROPN\n",
            "Alignment --> ROOT --> PROPN\n",
            "via --> prep --> ADP\n",
            "Graph --> compound --> PROPN\n",
            "Convolutional --> compound --> PROPN\n",
            "Networks --> pobj --> NOUN\n",
            "Graph Alignment via Graph Convolutional\n",
            "Graph Alignment via Graph Convolutional\n"
          ],
          "name": "stdout"
        }
      ]
    },
    {
      "cell_type": "code",
      "metadata": {
        "id": "G5W_cBmqfwB8",
        "colab_type": "code",
        "outputId": "94db46c1-e3cf-4f84-bc96-1d6951682044",
        "colab": {
          "base_uri": "https://localhost:8080/",
          "height": 987
        }
      },
      "source": [
        "doc=nlp(titles)\n",
        "#token, dependency, POS tag \n",
        "# detect research methods\n",
        "#for token in doc:\n",
        " # print (token.text, \"-->\",token.dep_,\"-->\", token.pos_)\n",
        "\n",
        "def find_pattern (pattern):\n",
        "  matcher = Matcher(nlp.vocab) \n",
        "  matcher.add(\"matching_1\", None, pattern) \n",
        "  matches = matcher(doc) \n",
        "  span1 = doc[matches[0][1]:matches[1][2]]\n",
        "  span2 = doc[matches[0][1]:matches[2][2]]\n",
        "  if len(span1) >=len(span2):\n",
        "    print( span1.text)\n",
        "  print(span2.text)\n",
        "  \n",
        "\n",
        "\n",
        "\n",
        "pattern1 = [{},\n",
        "            {'lower': 'knowledge', 'OP':'?'}, \n",
        "            {'lower': 'graph', 'OP':'?'},\n",
        "            {},\n",
        "           {'lower': 'by'},\n",
        "           {'POS': 'PROPN'},\n",
        "           {'POS': 'PROPN', 'OP': '*'}\n",
        "           ]\n",
        "\n",
        "\n",
        "pattern2=[{},\n",
        "          {'lower': 'knowledge', 'OP':'?'}, \n",
        "          {'lower': 'graph', 'OP':'?'},\n",
        "          {'lower': 'via'},\n",
        "          {'POS': 'PROPN'},\n",
        "          {'POS': 'PROPN', 'OP': '*'},\n",
        "          {}\n",
        "           ]\n",
        "\n",
        "pattern3 = [{},\n",
        "            {'lower': 'knowledge', 'OP':'?'}, \n",
        "            {'lower': 'graph', 'OP':'?'},\n",
        "            {},\n",
        "            {'lower': 'based'},\n",
        "            {'POS': 'PROPN','OP':'*'}\n",
        "             ]\n",
        "\n",
        "pattern4=[ {'POS': 'NOUN', 'OP':'*'},\n",
        "          {'POS': 'PROPN', 'OP':'*'},\n",
        "          {'lower': 'model'}\n",
        "           ]\n",
        "\n",
        "pattern5=[{'POS':'PROPN', 'OP':'*'},\n",
        "          {'POS':'NOUN', 'OP':'*'},\n",
        "          {'POS':'VERB', 'OP':'*'},\n",
        "          {'ORTH': ':'},\n",
        "          {'POS':'PROPN', 'OP':'*'},\n",
        "          {'POS':'NOUN', 'OP':'*'}\n",
        "           ]\n",
        "\n",
        "\n",
        "pattern6=[{},\n",
        "          {},\n",
        "          {},\n",
        "          {'lower': 'for'},\n",
        "          {'POS':'PROPN', 'OP':'+'}\n",
        "           ]\n",
        "print(\"by:\")\n",
        "find_pattern (pattern1)\n",
        "print(\"via:\")\n",
        "find_pattern (pattern2)\n",
        "print(\"based:\")\n",
        "find_pattern (pattern3)\n",
        "print(\"model:\")\n",
        "find_pattern (pattern4)\n",
        "print(\":\")\n",
        "find_pattern (pattern5)\n",
        "print('for')\n",
        "find_pattern (pattern6)\n",
        "\n",
        "# detect research application \n",
        "\n"
      ],
      "execution_count": 64,
      "outputs": [
        {
          "output_type": "stream",
          "text": [
            "by:\n",
            "Graph Embedding by Translating\n",
            "Graph Embedding by Translating\n",
            "via:\n",
            "Embedding via Dynamic Mapping Matrix\"\n",
            "based:\n",
            "Graph-based Knowledge\n",
            "model:\n",
            "graph model for massive graphs\r\n",
            "Algorithmic graph theory and perfect graphs\r\n",
            "Graph Coloring Problems\r\n",
            "Weisfeiler-Lehman Graph Kernels\r\n",
            "\"Graph-based Knowledge Representation - Computational Foundations of Conceptual Graphs\"\r\n",
            "Algebraic Graph Theory\r\n",
            "Introduction to Graph Theory\r\n",
            "Graph Classes: A Survey\r\n",
            "Introduction to Graph Theory\r\n",
            "\"A Review of Relational Machine Learning for Knowledge Graphs\"\r\n",
            "Graph Theory\r\n",
            "Modern Graph Theory\r\n",
            "Spectral Graph Theory\r\n",
            "\"Context-Dependent Knowledge Graph Embedding\"\r\n",
            "\"Knowledge Graph Identification\"\r\n",
            "\"Open-World Knowledge Graph Completion\"\r\n",
            "\"Variational Knowledge Graph Reasoning\"\r\n",
            "\"Convolutional 2D Knowledge Graph Embeddings\"\r\n",
            "\"Multilingual Knowledge Graph Embeddings for Cross-lingual Knowledge Alignment\"\r\n",
            "Local Graph Partitioning using PageRank Vectors\r\n",
            "A (sub)graph isomorphism algorithm for matching large graphs\r\n",
            "\"ConceptNet 5.5: An Open Multilingual Graph of General Knowledge\"\r\n",
            "Congruent Graphs and the Connectivity of Graphs\r\n",
            "\"Knowledge-based graph document modeling\"\r\n",
            "Graph Theory\r\n",
            "Graph-Based Visual Saliency\r\n",
            "\"Semantically Smooth Knowledge Graph Embedding\"\r\n",
            "\"Semantic Parsing via Staged Query Graph Generation: Question Answering with Knowledge Base\"\r\n",
            "\"Cross-lingual Knowledge Graph Alignment via Graph Convolutional Networks\"\r\n",
            "\"Knowledge Graph and Text Jointly Embedding\"\r\n",
            "\"Knowledge Graph Embedding Based Question Answering\"\r\n",
            "\"KBGAN: Adversarial Learning for Knowledge Graph Embeddings\"\r\n",
            "\"Accurate Text-Enhanced Knowledge Graph Representation Learning\"\r\n",
            "\"Text-Enhanced Representation Learning for Knowledge Graph\"\r\n",
            "\"Knowledge Graph Completion via Complex Tensor Factorization\"\r\n",
            "\"Recurrent knowledge graph embedding for effective recommendation\"\r\n",
            "\"Knowledge Graph Embedding by Flexible Translation\"\r\n",
            "\"ProjE: Embedding Projection for Knowledge Graph Completion\"\r\n",
            "Unit disk graphs\r\n",
            "Graph Theory and Its Applications\r\n",
            "\"GAKE: Graph Aware Knowledge Embedding\"\r\n",
            "\"Locally Adaptive Translation for Knowledge Graph Embedding\"\r\n",
            "\"Fast Linear Model\n",
            ":\n",
            "Freebase: a collaboratively created graph database for structuring human knowledge\"\r\n",
            "\"Holographic Embeddings of Knowledge Graphs\"\r\n",
            "\"Knowledge vault:\n",
            "for\n",
            "and Relation Embeddings for Knowledge Graph Completion\n"
          ],
          "name": "stdout"
        }
      ]
    },
    {
      "cell_type": "code",
      "metadata": {
        "id": "QMyEDPd8bKk7",
        "colab_type": "code",
        "colab": {}
      },
      "source": [
        ""
      ],
      "execution_count": 0,
      "outputs": []
    },
    {
      "cell_type": "markdown",
      "metadata": {
        "id": "Dq_7VGmrsum4",
        "colab_type": "text"
      },
      "source": [
        "## **2. Domain-specific information extraction**\n",
        "\n",
        "For the legal case used in the data cleaning exercise: [01-05-1 Adams v Tanner.txt](https://raw.githubusercontent.com/unt-iialab/INFO5731_Spring2020/master/In_class_exercise/01-05-1%20%20Adams%20v%20Tanner.txt), use [legalNLP](https://lexpredict-lexnlp.readthedocs.io/en/latest/modules/extract/extract.html#nlp-based-extraction-methods) to extract the following inforation from the text (if the information is not exist, just print None):\n",
        "\n",
        "(1) acts, e.g., “section 1 of the Advancing Hope Act, 1986”\n",
        "\n",
        "(2) amounts, e.g., “ten pounds” or “5.8 megawatts”\n",
        "\n",
        "(3) citations, e.g., “10 U.S. 100” or “1998 S. Ct. 1”\n",
        "\n",
        "(4) companies, e.g., “Lexpredict LLC”\n",
        "\n",
        "(5) conditions, e.g., “subject to …” or “unless and until …”\n",
        "\n",
        "(6) constraints, e.g., “no more than”\n",
        "\n",
        "(7) copyright, e.g., “(C) Copyright 2000 Acme”\n",
        "\n",
        "(8) courts, e.g., “Supreme Court of New York”\n",
        "\n",
        "(9) CUSIP, e.g., “392690QT3”\n",
        "\n",
        "(10) dates, e.g., “June 1, 2017” or “2018-01-01”\n",
        "\n",
        "(11) definitions, e.g., “Term shall mean …”\n",
        "\n",
        "(12) distances, e.g., “fifteen miles”\n",
        "\n",
        "(13) durations, e.g., “ten years” or “thirty days”\n",
        "\n",
        "(14) geographic and geopolitical entities, e.g., “New York” or “Norway”\n",
        "\n",
        "(15) money and currency usages, e.g., “$5” or “10 Euro”\n",
        "\n",
        "(16) percents and rates, e.g., “10%” or “50 bps”\n",
        "\n",
        "(17) PII, e.g., “212-212-2121” or “999-999-9999”\n",
        "\n",
        "(18) ratios, e.g.,” 3:1” or “four to three”\n",
        "\n",
        "(19) regulations, e.g., “32 CFR 170”\n",
        "\n",
        "(20) trademarks, e.g., “MyApp (TM)”\n",
        "\n",
        "(21) URLs, e.g., “http://acme.com/”\n",
        "\n",
        "(22) addresses, e.g., “1999 Mount Read Blvd, Rochester, NY, USA, 14615”\n",
        "\n",
        "(23) persons, e.g., “John Doe"
      ]
    },
    {
      "cell_type": "code",
      "metadata": {
        "id": "qc7NtJrLx5tS",
        "colab_type": "code",
        "outputId": "32a68ecf-0da2-4cfe-9195-05f8bca2fd78",
        "colab": {
          "base_uri": "https://localhost:8080/",
          "height": 1000
        }
      },
      "source": [
        "# write your code here\n",
        "with open(\"Legal.txt\", \"r\", newline=\"\", encoding=\"utf-8\") as f:\n",
        "  text = f.read()\n",
        "print(text)\n"
      ],
      "execution_count": 66,
      "outputs": [
        {
          "output_type": "stream",
          "text": [
            "\r\n",
            "5 Ala. 740\r\n",
            "Supreme Court of Alabama.\r\n",
            "ADAMS\r\n",
            "v.\r\n",
            "TANNER AND HORTON.\r\n",
            "June Term, 1843.\r\n",
            "Synopsis\r\n",
            "WRIT of Error to the Circuit Court of Sumter.\r\n",
            " \r\n",
            "\r\n",
            "\r\n",
            "West Headnotes (2)\r\n",
            "\r\n",
            "\r\n",
            "[1]\r\n",
            "Chattel Mortgages\r\n",
            "Crops\r\n",
            "A growing crop has such an existence as to be the subject-matter of a mortgage or other contract which passes an interest to vest in possession, either immediately or at a future time.\r\n",
            "4 Cases that cite this headnote\r\n",
            "\r\n",
            "[2]\r\n",
            "Creditors’ Remedies\r\n",
            "Lien and Priority\r\n",
            "Under St.1821, prohibiting a levy on a crop until it has been gathered, no lien attaches in favor of a fi. fa. on a growing crop, nor does such lien attach until after the crop has been gathered.\r\n",
            "5 Cases that cite this headnote\r\n",
            "\r\n",
            "**1 This was a trial of the right of property under the statute. In November, 1840, an execution issued from the circuit court of Sumter, at the suit of the plaintiff in error, requiring the sheriff of that county, to make of the goods, &c., of Allen Harrison and others, the sum of thirty-seven hundred and seventy-seven 80-100 dollars, besides costs. This execution was levied on thirty bales of cotton, as the property of Allen Harrison, which was claimed, and a bond given to try the right. An issue was made up to try the question of the liability of the cotton to the plaintiff’s execution, and submitted to a jury. On the trial, a bill of exceptions was sealed at the instance of the plaintiff. The plaintiff proved that he recovered his judgment in October, 1839; that an execution *741 was issued thereon on the 7th Nov. thereafter, and that alias and pluries fieri facias’, issued regularly up to the time levy was made; that the cotton levied on was growed on the plantation of Harrison, and cultivated by the hands in his service. It was proved by the claimants, by the production of a written contract, that Harrison, on the twenty-second of May, 1840, in consideration that the claimants were involved, as indorsers for Burton & Harrison of Sumter county, and were then exposed to an execution, amounting to upwards of fourteen thousand dollars, bargained and sold to the claimants all his growing crop of cotton &c., consisting of one hundred and twenty acres, &c. Allen Harrison promised and obliged himself to give up his crop to the use of the claimants at any time to save them from suffering as his indorsers; if the crop matured and was gathered he undertook to deliver the cotton in Gainesville. The claimants came from Tennessee, (where they resided) about the first of September, 1840, bringing with them three or four white laborers, and took possession of the crop and slaves, and with the latter, and white laborers, gathered the cotton, prepared it for market, and when levied on, it was in a ware-house in Gainesville. The plaintiff then proved by Harrison, that the claimants took possession of the crop, while he was absent, and disposed of it without his consent. It was admitted, that the contract was made in good faith.\r\n",
            "The court charged the jury, that the plaintiff had no lien by virtue of his judgment, and execution on the growing crop; that Harrison had a right to convey it, without being in any manner restrained by them; that the writing adduced, was a sale of the crop, but if it was not, and the lien of the fieri facias would have attached upon it, when gathered, yet if the claimants obtained possession on the first of September, and controlled the gathering of the crop, then no lien attached, and it was not subject to the levy.\r\n",
            "Attorneys and Law Firms\r\n",
            "R. H. SMITH, for the plaintiff, in error, made the following points.--1. The crop of Harrison, must, in May, 1840, have been in an immature state, and it is insisted, was not the subject of a sale. 2. By the common law, a growing crop could be levied on and sold, [1 Salk. Rep. 361; 1 Bos. & P. Rep. 307; 6 East’s Rep. 604, note 1; 2 Johns. Rep. 418, 422; 7 Mass. Rep. 34,] and our statue, [[[Aik. Dig. § 41, p. 167,] which forbids the levy of an *742 execution on a growing crop, is to receive a strict construction. It merely inhibits the levy, but the lien attaches, and a levy and sale may be made after the crop matures, and is gathered. 3. The contract does not purport to convey the growing crop, but is a mere executory agreement, requiring some act to be done by Harrison, in order to invest the claimants with the right of property. [Chit. on Con. 112, 207; 3 Johns. Rep. 338, 424; 5 Wend. Rep. 26; 13 Johns. Rep. 235; 8 Dowl. Rep, 693;] and until this act was done, the crop, no matter by who gathered, because liable to be seized for Harrison’s debts. A court of chancery would not compel a specific performance of the contract at the claimant’s instance. 4. The charge of the court is also objectionable in deciding disputed facts.\r\n",
            "W. M. MURPHY, with whom was W. G. JONES, for the defendant--cited the act of 1821, [Aik. Dig. 167,] which declares it to be lawful to levy an execution on a planted crop, until it is gathered, and contended that no lien attached in favor of the plaintiff. This being the case, the defendant in execution was not restrained from making the contract which he did with the claimants.\r\n",
            "**2 The lien of an execution is destroyed by an injunction, because it takes away the right to levy it. In short, whenever the right to levy an execution is but temporarily suspended, or withdrawn, the lien is during that time lost. [[[[Whipple v. Foot, 2 Johns. Rep. 216; 3 Wash. C. C. Rep. 66; 4 How. Rep. 130.]\r\n",
            "It is admitted that the contract between the defendant in execution, and the claimants, was in good faith, if so, the severance and removal of the cotton gave the latter a good title against all creditors of the former.\r\n",
            "Opinion\r\n",
            "\r\n",
            "COLLIER, C. J.\r\n",
            "\r\n",
            "There can be no doubt that a growing crop has such an existence as to be the subject matter of a sale, mortgage, or other contract which possess an interest to vest in possession, either immediately or at some future time. This proposition has frequently been assumed as unquestionable; the point of inquiry generally being, whether under a statute of frauds, such as the 29 Chas. 2, it is a mere chattel, and transferrable by parol without writing. [Chitty on Con. 241-2, 332; Whipple v. Foot, 2 Johns. Rep. 422; Stewart v. Doughty, 9 Johns. Rep. 112; *743 Austin v. Sawyer, 9 Cow. Rep. 39. See also Ravesies v. Lee & Alston, at last term.] The contract set out in the bill of exceptions, we are inclined to think evidences rather a mortgage than an absolute sale. It recites that the claimants are involved as indorsers of a mercantile firm, of which the defendant was a partner; that an execution for upwards of fourteen thousand dollars against their estate, is in the sheriff’s hands, and that a conveyance is made of the crop of cotton, corn and oats, which the grantor agrees to give up at any time to the use of the claimants, so as to prevent injury to them as indorsers. The defendant in execution might at any time have divested the interest which the contract vested in the claimants, by discharging their liability as his indorsers, or a judgment creditor might have satisfied the lien, and when the crop was gathered, have levied on, and sold it under a fieri facias.\r\n",
            "We will then consider the writing under which the claimants assert a right, as a mortgage with a power to take possession any time during the year, unless they should be relieved from their engagements as indorsers. It is not pretended that their liability has been satisfied, and it is admitted that the parties have acted with good faith, so that it is a dry question of law, whether the right of the plaintiff, or the claimants shall prevail. Assuming for the present that the execution of the plaintiffs did not operate a lien upon the planted crop previous to the contract of May, 1840, we will inquire whether the defendant in execution had such an interest as could be levied on and sold.\r\n",
            "The claimants had previous to the levy of the execution taken possession of the crop, prepared the cotton for market, and removed it to a ware-house. This possession, it is insisted, was a trespass, because it was acquired in the absence of the defendant in execution, and without his consent then given. Conceding the truth of the facts stated in the bill of exceptions, and we think it will not follow, that the possession of the claimants is a nullity, and that the case must be considered as if they had never interfered with the crop. The contract contains an express undertaking to give up the crop at any time the claimants might require it for their indemnity, and if they took possession of it in the absence of the grantor, (though without his consent,) if he subsequently acquiesced in it, the inference would be, if necessary, that their acts were approved by him. Taking this to be clear *744 law, and it will be seen, that the defendant in execution at the time of the levy had nothing more than a mere equitable right to redeem the cotton by paying the debts indorsed by the claimants. He had no possession coupled with this equity, but only a naked equity, which it has been held cannot be reached by an ordinary execution. [Perkins and Elliott v. Mayfield, 5 Porter’s Rep. 182.]\r\n",
            "**3 This brings us back to the question, whether the execution of the plaintiff was a lien on the growing crop, so as to defeat the mortgage to the claimants. It has been frequently mooted whether, at common law, corn, &c., before it is gathered, can be seized under a fieri facias. Mr. Dane, in remarking upon this point, says, “The American editor of Bacon’s Abridgment, says, ‘Wheat growing in the ground is a chattel, and subject to be taken in execution; and the sheriff may suffer it to grow till harvest, and then cut and sell it; or may perhaps sell it growing, and the purchaser will then be entitled to enter, for the purpose of cutting and carrying it away.” [He cites Whipple v. Foot, ut supra, also Poole’s case, Salk. 368; 1 Bos. & P. 397; 6 East, 604, n.] But Whipple v. Foot seems to be the only case that supports his position, that unripe wheat or corn may be taken in execution; and the same editor states that nothing can be taken in execution which cannot be sold. This position, says the learned commentator, is no doubt law. But it is unnecessary to consider how this matter stands at common law. The first section of the act of 1821, “To prevent sheriffs and other officers from levying executions in certain cases, enacts, that “It shall not be lawful for any sheriff or other officer, to levy a writ of fieri facias or other execution on the planted crop of a debtor, or person against whom an execution may issue, until the crop is gathered.” [Aik. Dig. 167.] Now here is an express inhibition to levy an execution on a crop while it remains on, or in the ground, and until it is severed from the soil to which it owes its growth. In respect to property thus situated, will the lien of an execution attach eo instanti upon its being placed in the hands of an officer? If so, the act cited, will only have the effect of keeping the right to levy it in abeyance until the crop is gathered. The lien of an execution does, not only operate so as to prevent the debtor from disposing of the property on which it attaches, but gives to the creditor the right to have it sold to satisfy his *745 judgment. The lien and the right to levy are intimately connected, and if the latter be taken away, or suspended, the effect, at common law, is the destruction of the former. This principle is fully established by Mansony and Hurtell v. The President, &c. of the Bank of the United States, and its assignees, and the citations contained in the opinion of the court in that case, as also in my opinion in Wood v. Gary, et al., both decided at the last term. That it was competent for the legislature to have made it unlawful to levy an execution on particular property, until its condition was changed, and still to give it a continuing lien, cannot be doubted; but there is nothing in the act in question to indicate that such is its intention. If the object was merely to suspend the sale, until the crop was gathered, it would have been very easy to have said so in explicit terms, but declaring as the statute does, in totidem verbis, that the execution shall not be levied, the legislature must be supposed to have meant what they have expressed. The act was induced by the doubts which existed as to what was the common law, and was intended to remove those doubts by declaring what should be the law in future. It does not create a lien or authorize a levy in a case in which the law, as it then existed, was silent. The idea that the lien attached upon the planted crop as soon as the execution was delivered to the sheriff, though the right to levy it was postponed until a severance took place, is attempted to be deduced from the last words of the section cited, viz: “until the crop is gathered.” These words cannot, upon any just principles of construction be regarded so potent as to give to an execution a retrospective effect. They do not refer to the lien, if they did they would postpone it until the crop was gathered; but it is the levy they relate to and postpone until that event takes place.\r\n",
            "**4 The right to levy an execution on a planted crop, then, being expressly taken away by the statute, the lien which is connected with and consequent upon that right, never attaches until severance. This being the case, the right of the defendant in execution to make the contract which he did, is unquestionable, and the title of the claimants, coupled as it was with the possession, was paramount to any lien which the execution could exert.\r\n",
            "The circuit judge may have mistaken the law in supposing that the contract was a sale, but if he did, an error in that respect was very immaterial, for whether a sale or mortgage, as we have *746 seen, under the facts of the case, the defendant in execution has no interest that could be seised and sold under execution. There is no assumption of any material fact in the charge; but the possession of the claimant, the time when acquired, the gathering of the crop, &c., are all referred to the determination of the jury; who are instructed, if they find them according to the evidence adduced, that no lien ever attached in favor of the plaintiff. The bona fides of the contract was conceded, so that no charge was necessary on that point, and it could not with propriety enter into the inquiry of the jury.\r\n",
            "It results from what has been said, that the judgment of the circuit court is affirmed.\r\n",
            "\r\n",
            "DISSENTING OPINION.\r\n",
            "\r\n",
            "ORMOND, J.\r\n",
            "**4 The statute which presents the question before the court is, that “it shall not be lawful for any sheriff or other officer to levy a writ of fieei facias or other execution, on the planted crop of a debtor, or person against whom an execution may issue, until the crop is gathered.” [Clay’s Dig. 210, § 46.]\r\n",
            "I shall not enter upon the enquiry, whether, at common law, an execution could be levied upon a growing crop, though I apprehend, it would not be difficult to maintain the affirmative of the proposition. It is sufficient for my purpose, that the statute supposes such to have been the law, as it doubtless was the practice.\r\n",
            "This act must be considered in connection with the other acts upon the same subject. The policy of the State, as indicated by these statutes, is undeniably that all the property of a debtor, real and personal, to which he has a legal title, shall be subject to sale by execution, and it appears to me that it would be difficult to assign a reason for the exemption of this species of property from the claims of judgment creditors, and for giving to the defendant in execution the right to dispose of it. It appears to me, with all deference, that the argument that because the sheriff was prohibited from levying on a ““planted crop,” that therefore the execution had lost its lien, and the debtor had the right to sell it, is a non sequitur. The mischief which the statute designed to remedy was, the sacrifice which would be necessarily made by the sale of an immature crop: the statute enables the debtor to retain it until it matures, and by severing it from the soil to put it *747 in a condition to bring its value--the lien in the mean time continuing in the plaintiff in execution.\r\n",
            "**5 If further confirmation of the correctness of this view were necessary, it will be found, I think, in the language employed by the legislature. The sheriff is forbidden to levy on a “planted crop” until the crop is gathered. Now, if the view taken by the majority of the court, is correct, the right secured to the plaintiff in execution, of levying on the crop after it is gathered, may be frustrated, as it was in this case, by a sale by the defendant in execution, whilst the crop is in an immature state. The construction which has been put upon the statute, involves the singular anomaly, that the legislature, for the protection of the debtor, has forbidden the plaintiff in execution to sell the property of his debtor, because it is not in a condition to bring its value, and yet permits the debtor, voluntarily, by a sale, to submit to the same sacrifice, for his own benefit. It is, in effect, a gift to the defendant in execution, of the growing crop, provided he does not gather it himself, but disposes of it in its then condition. This, I feel a thorough conviction, was not the intention of the legislature; but that it was to secure him from loss, by prohibiting a levy and sale of the crop, until it was gathered, when the temporary suspension of the right to sell, ceased.\r\n",
            "All Citations\r\n",
            "5 Ala. 740, 1843 WL 284\r\n",
            "End of Document\r\n",
            "© 2019 Thomson Reuters. No claim to original U.S. Government Works.\r\n",
            "Citing References (9)\r\n",
            "Treatment\r\n",
            "Title\r\n",
            "Date\r\n",
            "Type\r\n",
            "Depth\r\n",
            "Headnote(s)\r\n",
            "Cited by\r\n",
            "1.  Booker v. Jones’s Adm’x\r\n",
            "55 Ala. 266, 271 , Ala.\r\n",
            "Trover for Conversion of Cotton, with Counts in Case. APPEAL from the Circuit Court of Hale. Tried before the Hon. M. J. SAFFOLD.\r\n",
            "Dec Term 1876\r\n",
            "Case\r\n",
            "—\r\n",
            "Cited by\r\n",
            "2.  Lehman, Durr & Co. v. Marshall\r\n",
            "47 Ala. 362, 376 , Ala.\r\n",
            "[TROVER FOR CONVERSION OF COTTON.] APPEAL from the City Court of Montgomery. Tried before Hon. JOHN D. CUNNINGHAM.\r\n",
            "Jan Term 1872\r\n",
            "Case\r\n",
            "—\r\n",
            "Cited by\r\n",
            "3.  Bibb v. Janney\r\n",
            "45 Ala. 329, 334 , Ala.\r\n",
            "[GARNISHMENT; WAGES; WAIVER OF EXEMPTION.] APPEAL from City Court of Montgomery. Tried before Hon. JOHN D. CUNNINGHAM.\r\n",
            "Jan Term 1871\r\n",
            "Case\r\n",
            "—\r\n",
            "Cited by\r\n",
            "4.  McKenzie v. Lampley\r\n",
            "31 Ala. 526, 527 , Ala.\r\n",
            "[TRIAL OF RIGHT OF PROPERTY IN COTTON.] APPEAL from the Circuit Court of Barbour. Tried before the Hon. S. D. HALE.\r\n",
            "Jan Term 1858\r\n",
            "Case\r\n",
            "—\r\n",
            "Cited by\r\n",
            "5.  Evans v. Lamar\r\n",
            "21 Ala. 333, 335+ , Ala.\r\n",
            "ERROR to the Circuit Court of Autauga. Tried before the Hon. A. B. MOORE.\r\n",
            "Jun Term 1852\r\n",
            "Case\r\n",
            "—\r\n",
            "Cited by\r\n",
            " 6.  Dewey v. Bowman\r\n",
            "8 Cal. 145, 147 , Cal.\r\n",
            "The judgment of the Court below, against Jacob S. Cohen, should be reversed, for the following reasons: Because the finding of the Court was, so far as Cohen was concerned,...\r\n",
            "Jul Term 1857\r\n",
            "Case\r\n",
            "—\r\n",
            "Mentioned by\r\n",
            "7.  Rees v. Coats\r\n",
            "65 Ala. 256, 258 , Ala.\r\n",
            "Trover for Conversion of Three Bales of Cotton. APPEAL from the Circuit Court of Etowah. Tried before the Hon. WM. L. WHITLOCK.\r\n",
            "Nov Term 1880\r\n",
            "Case\r\n",
            "—\r\n",
            "Mentioned by\r\n",
            "8.  Edwards v. Thompson\r\n",
            "4 S.W. 913, 914 , Tenn.\r\n",
            "Appeal from circuit court, Weakley county.\r\n",
            "May 1887\r\n",
            "Case\r\n",
            "—\r\n",
            "—\r\n",
            "9.  Growing crops as subject to levy and seizure under attachment or execution\r\n",
            "103 A.L.R. 464\r\n",
            "Generally, at common law, growing crops raised by annual planting, while still attached to the soil, are regarded as personal chattels, subject to levy and seizure under attachment...\r\n",
            "1936\r\n",
            "ALR\r\n",
            "—\r\n",
            "—\r\n",
            "Table of Authorities (3)\r\n",
            "Treatment\r\n",
            "Referenced Title\r\n",
            "Type\r\n",
            "Depth\r\n",
            "Quoted\r\n",
            "Page Number\r\n",
            "Mentioned\r\n",
            "1.  Austin v. Sawyer\r\n",
            "9 Cow. 39, N.Y.Sup., 1828\r\n",
            "Parol evidence is not admissible to contradict, or substantially vary, a written contract. And where A. quit-claimed land to W., on which a crop of wheat was growing, reserving the...\r\n",
            "Case\r\n",
            "2\r\n",
            "Cited\r\n",
            " 2.  Perkins v. Mayfield\r\n",
            "5 Port. 182, Ala., 1837\r\n",
            "On writ of error to the Circuit Court of Tuskaloosa.\r\n",
            "Case\r\n",
            "2+\r\n",
            "Mentioned\r\n",
            "3.  Stewart v. Doughty\r\n",
            "9 Johns. 108, N.Y.Sup., 1812\r\n",
            "A. let to B. a farm for six years, and A. agreed “to render, yield and pay to A. the one half of all the wheat, rye, corn and other grain, raised on the farm in each year, in the...\r\n",
            "Case\r\n",
            "2\r\n",
            "Filings\r\n",
            "There are no Filings for this citation.\r\n",
            "Negative Treatment\r\n",
            "There are no Negative Treatment results for this citation.\r\n",
            "History\r\n",
            "There are no History results for this citation.\r\n",
            "\n"
          ],
          "name": "stdout"
        }
      ]
    },
    {
      "cell_type": "code",
      "metadata": {
        "id": "EZN6spCkzGhD",
        "colab_type": "code",
        "outputId": "024b0b69-ecc1-4f41-a80a-a0527065ea2e",
        "colab": {
          "base_uri": "https://localhost:8080/",
          "height": 587
        }
      },
      "source": [
        "!pip install lexnlp==0.2.6\n",
        "import lexnlp.extract.en\n"
      ],
      "execution_count": 68,
      "outputs": [
        {
          "output_type": "stream",
          "text": [
            "Requirement already satisfied: lexnlp==0.2.6 in /usr/local/lib/python3.6/dist-packages (0.2.6)\n",
            "Requirement already satisfied: scipy==1.0.0 in /usr/local/lib/python3.6/dist-packages (from lexnlp==0.2.6) (1.0.0)\n",
            "Requirement already satisfied: pycountry==18.5.26 in /usr/local/lib/python3.6/dist-packages (from lexnlp==0.2.6) (18.5.26)\n",
            "Requirement already satisfied: nltk==3.2.4 in /usr/local/lib/python3.6/dist-packages (from lexnlp==0.2.6) (3.2.4)\n",
            "Requirement already satisfied: requests==2.21.0 in /usr/local/lib/python3.6/dist-packages (from lexnlp==0.2.6) (2.21.0)\n",
            "Requirement already satisfied: reporters-db==1.0.12.1 in /usr/local/lib/python3.6/dist-packages (from lexnlp==0.2.6) (1.0.12.1)\n",
            "Requirement already satisfied: regex==2017.9.23 in /usr/local/lib/python3.6/dist-packages (from lexnlp==0.2.6) (2017.9.23)\n",
            "Requirement already satisfied: gensim==3.4.0 in /usr/local/lib/python3.6/dist-packages (from lexnlp==0.2.6) (3.4.0)\n",
            "Requirement already satisfied: scikit-learn==0.19.1 in /usr/local/lib/python3.6/dist-packages (from lexnlp==0.2.6) (0.19.1)\n",
            "Requirement already satisfied: dateparser==0.7.0 in /usr/local/lib/python3.6/dist-packages (from lexnlp==0.2.6) (0.7.0)\n",
            "Requirement already satisfied: datefinder-lexpredict==0.6.2 in /usr/local/lib/python3.6/dist-packages (from lexnlp==0.2.6) (0.6.2)\n",
            "Requirement already satisfied: typing==3.6.2 in /usr/local/lib/python3.6/dist-packages (from lexnlp==0.2.6) (3.6.2)\n",
            "Requirement already satisfied: Unidecode==0.4.21 in /usr/local/lib/python3.6/dist-packages (from lexnlp==0.2.6) (0.4.21)\n",
            "Requirement already satisfied: us==1.0.0 in /usr/local/lib/python3.6/dist-packages (from lexnlp==0.2.6) (1.0.0)\n",
            "Requirement already satisfied: num2words==0.5.5 in /usr/local/lib/python3.6/dist-packages (from lexnlp==0.2.6) (0.5.5)\n",
            "Requirement already satisfied: pandas==0.23.4 in /usr/local/lib/python3.6/dist-packages (from lexnlp==0.2.6) (0.23.4)\n",
            "Requirement already satisfied: numpy>=1.8.2 in /usr/local/lib/python3.6/dist-packages (from scipy==1.0.0->lexnlp==0.2.6) (1.17.5)\n",
            "Requirement already satisfied: six in /usr/local/lib/python3.6/dist-packages (from nltk==3.2.4->lexnlp==0.2.6) (1.12.0)\n",
            "Requirement already satisfied: idna<2.9,>=2.5 in /usr/local/lib/python3.6/dist-packages (from requests==2.21.0->lexnlp==0.2.6) (2.8)\n",
            "Requirement already satisfied: chardet<3.1.0,>=3.0.2 in /usr/local/lib/python3.6/dist-packages (from requests==2.21.0->lexnlp==0.2.6) (3.0.4)\n",
            "Requirement already satisfied: urllib3<1.25,>=1.21.1 in /usr/local/lib/python3.6/dist-packages (from requests==2.21.0->lexnlp==0.2.6) (1.24.3)\n",
            "Requirement already satisfied: certifi>=2017.4.17 in /usr/local/lib/python3.6/dist-packages (from requests==2.21.0->lexnlp==0.2.6) (2019.11.28)\n",
            "Requirement already satisfied: smart-open>=1.2.1 in /usr/local/lib/python3.6/dist-packages (from gensim==3.4.0->lexnlp==0.2.6) (1.9.0)\n",
            "Requirement already satisfied: python-dateutil in /usr/local/lib/python3.6/dist-packages (from dateparser==0.7.0->lexnlp==0.2.6) (2.6.1)\n",
            "Requirement already satisfied: pytz in /usr/local/lib/python3.6/dist-packages (from dateparser==0.7.0->lexnlp==0.2.6) (2018.9)\n",
            "Requirement already satisfied: tzlocal in /usr/local/lib/python3.6/dist-packages (from dateparser==0.7.0->lexnlp==0.2.6) (1.5.1)\n",
            "Requirement already satisfied: jellyfish==0.5.6 in /usr/local/lib/python3.6/dist-packages (from us==1.0.0->lexnlp==0.2.6) (0.5.6)\n",
            "Requirement already satisfied: boto3 in /usr/local/lib/python3.6/dist-packages (from smart-open>=1.2.1->gensim==3.4.0->lexnlp==0.2.6) (1.11.15)\n",
            "Requirement already satisfied: boto>=2.32 in /usr/local/lib/python3.6/dist-packages (from smart-open>=1.2.1->gensim==3.4.0->lexnlp==0.2.6) (2.49.0)\n",
            "Requirement already satisfied: s3transfer<0.4.0,>=0.3.0 in /usr/local/lib/python3.6/dist-packages (from boto3->smart-open>=1.2.1->gensim==3.4.0->lexnlp==0.2.6) (0.3.3)\n",
            "Requirement already satisfied: jmespath<1.0.0,>=0.7.1 in /usr/local/lib/python3.6/dist-packages (from boto3->smart-open>=1.2.1->gensim==3.4.0->lexnlp==0.2.6) (0.9.4)\n",
            "Requirement already satisfied: botocore<1.15.0,>=1.14.15 in /usr/local/lib/python3.6/dist-packages (from boto3->smart-open>=1.2.1->gensim==3.4.0->lexnlp==0.2.6) (1.14.15)\n",
            "Requirement already satisfied: docutils<0.16,>=0.10 in /usr/local/lib/python3.6/dist-packages (from botocore<1.15.0,>=1.14.15->boto3->smart-open>=1.2.1->gensim==3.4.0->lexnlp==0.2.6) (0.15.2)\n"
          ],
          "name": "stdout"
        }
      ]
    },
    {
      "cell_type": "code",
      "metadata": {
        "id": "TuHvBVlFfF7I",
        "colab_type": "code",
        "colab": {
          "base_uri": "https://localhost:8080/",
          "height": 33
        },
        "outputId": "faa58e6d-27e7-4726-f24c-c93499b3c8f9"
      },
      "source": [
        "# Extracting acts\n",
        "import lexnlp.extract.en.acts\n",
        "try:\n",
        "  print(list(lexnlp.extract.en.acts.get_acts(text)))\n",
        "except:\n",
        "  print(None)"
      ],
      "execution_count": 70,
      "outputs": [
        {
          "output_type": "stream",
          "text": [
            "[]\n"
          ],
          "name": "stdout"
        }
      ]
    },
    {
      "cell_type": "code",
      "metadata": {
        "id": "rVCpdER7gHXh",
        "colab_type": "code",
        "colab": {
          "base_uri": "https://localhost:8080/",
          "height": 53
        },
        "outputId": "07c51f4d-c55e-46a4-a189-75a0f8e18347"
      },
      "source": [
        "#Extracting amounts\n",
        "import lexnlp.extract.en.amounts\n",
        "try:\n",
        "  print(list(lexnlp.extract.en.amounts.get_amounts(text)))\n",
        "except:\n",
        "  print(None)"
      ],
      "execution_count": 71,
      "outputs": [
        {
          "output_type": "stream",
          "text": [
            "[5.0, 740.0, 1843.0, 2.0, 1.0, 4.0, 2.0, 1821.0, 5.0, 1.0, 1840.0, 3777, 80.0, 100.0, 30, 1839.0, 741.0, 22, 1840.0, 14000, 120, 1, 1840.0, 3, 4, 1, 1.0, 1840.0, 2.0, 1.0, 361.0, 1.0, 307.0, 6.0, 604.0, 1.0, 2.0, 418.0, 422.0, 7.0, 34.0, 41.0, 167.0, 742.0, 3.0, 112.0, 207.0, 3.0, 338.0, 424.0, 5.0, 26.0, 13.0, 235.0, 8.0, 693.0, 4.0, 1821.0, 167.0, 2.0, 2.0, 216.0, 3.0, 66.0, 4.0, 130.0, 29.0, 2.0, 241.0, 2.0, 332.0, 2.0, 422.0, 9.0, 112.0, 743.0, 9.0, 39.0, 14000, 1840.0, 744.0, 5.0, 182.0, 3.0, 368.0, 1.0, 397.0, 6.0, 604.0, 1, 1821.0, 167.0, 745.0, 4.0, 746.0, 4.0, 210.0, 46.0, 747.0, 5.0, 5.0, 740.0, 1843.0, 284.0, 2019.0, 9.0, 1.0, 55.0, 266.0, 271.0, 1876.0, 2.0, 47.0, 362.0, 376.0, 1872.0, 3.0, 45.0, 329.0, 334.0, 1871.0, 4.0, 31.0, 526.0, 527.0, 1858.0, 5.0, 21.0, 333.0, 335.0, 1852.0, 6.0, 8.0, 145.0, 147.0, 1857.0, 7.0, 65.0, 256.0, 258.0, 3, 1880.0, 8.0, 4.0, 913.0, 914.0, 1887.0, 9.0, 103.0, 464.0, 1936.0, 3.0, 1.0, 9.0, 39.0, 1828.0, 2.0, 2.0, 5.0, 182.0, 1837.0, 2.0, 3.0, 9.0, 108.0, 1812.0, 6, 1, 2.0]\n"
          ],
          "name": "stdout"
        }
      ]
    },
    {
      "cell_type": "code",
      "metadata": {
        "id": "0YOMmly-giyy",
        "colab_type": "code",
        "colab": {
          "base_uri": "https://localhost:8080/",
          "height": 53
        },
        "outputId": "3325b40a-0b1a-4b12-8a45-00d0951c572a"
      },
      "source": [
        "#Extracting citations\n",
        "import lexnlp.extract.en.citations\n",
        "try:\n",
        "  print(list(lexnlp.extract.en.citations.get_citations(text)))\n",
        "except:\n",
        "  print(None)\n"
      ],
      "execution_count": 72,
      "outputs": [
        {
          "output_type": "stream",
          "text": [
            "[(5, 'Ala.', 'Alabama Reports', 740, None, None, None), (5, 'Ala.', 'Alabama Reports', 740, '1843', None, None), (55, 'Ala.', 'Alabama Reports', 266, '271', None, None), (47, 'Ala.', 'Alabama Reports', 362, '376', None, None), (45, 'Ala.', 'Alabama Reports', 329, '334', None, None), (31, 'Ala.', 'Alabama Reports', 526, '527', None, None), (21, 'Ala.', 'Alabama Reports', 333, '335', None, None), (8, 'Cal.', 'California Reports', 145, '147', None, None), (65, 'Ala.', 'Alabama Reports', 256, '258', None, None), (4, 'S.W.', 'South Western Reporter', 913, '914', None, None), (103, 'A.L.R.', 'American Law Reports', 464, None, None, None), (9, 'Cow.', \"Cowen's Reports\", 39, None, None, None), (5, 'Port.', 'Alabama Reports, Porter', 182, None, None, None), (9, 'Johns.', \"Johnson's Reports\", 108, None, None, None)]\n"
          ],
          "name": "stdout"
        }
      ]
    },
    {
      "cell_type": "code",
      "metadata": {
        "id": "mz1YQMJkgz8l",
        "colab_type": "code",
        "colab": {
          "base_uri": "https://localhost:8080/",
          "height": 33
        },
        "outputId": "1b9cdcf8-0184-47b0-ab62-4688376b6d66"
      },
      "source": [
        "#Extracting companies\n",
        "import lexnlp.extract.en.entities.nltk_re\n",
        "try:\n",
        "  print(list(lexnlp.extract.en.entities.nltk_re.get_entities.nltk_re.get_companies(text)))\n",
        "except:\n",
        "  print(None)\n"
      ],
      "execution_count": 75,
      "outputs": [
        {
          "output_type": "stream",
          "text": [
            "None\n"
          ],
          "name": "stdout"
        }
      ]
    },
    {
      "cell_type": "code",
      "metadata": {
        "id": "y6VKgsJthSZ7",
        "colab_type": "code",
        "colab": {
          "base_uri": "https://localhost:8080/",
          "height": 53
        },
        "outputId": "a878c7a7-c60b-444b-eed2-4be7cd0a1afc"
      },
      "source": [
        "#Extracting condition\n",
        "import lexnlp.extract.en.conditions\n",
        "try:\n",
        "  print(list(lexnlp.extract.en.conditions.get_conditions(text)))\n",
        "except:\n",
        "  print(None)"
      ],
      "execution_count": 76,
      "outputs": [
        {
          "output_type": "stream",
          "text": [
            "[('until', '[2]\\r\\nCreditors’ Remedies\\r\\nLien and Priority\\r\\nUnder St.1821, prohibiting a levy on a crop', ''), ('until', 'on a growing crop, nor does such lien attach', ''), ('if', 'It was proved by the claimants, by the production of a written contract, that Harrison, on the twenty-second of May, 1840, in consideration that the claimants were involved, as indorsers for Burton & Harrison of Sumter county, and were then exposed to an execution, amounting to upwards of fourteen thousand dollars, bargained and sold to the claimants all his growing crop of cotton &c., consisting of one hundred and twenty acres, &c. Allen Harrison promised and obliged himself to give up his crop to the use of the claimants at any time to save them from suffering as his indorsers;', ''), ('when', 'The claimants came from Tennessee, (where they resided) about the first of September, 1840, bringing with them three or four white laborers, and took possession of the crop and slaves, and with the latter, and white laborers, gathered the cotton, prepared it for market, and', ''), ('if', 'The court charged the jury, that the plaintiff had no lien by virtue of his judgment, and execution on the growing crop; that Harrison had a right to convey it, without being in any manner restrained by them; that the writing adduced, was a sale of the crop, but', ''), ('when', 'it was not, and the lien of the fieri facias would have attached upon it,', ''), ('if', 'gathered, yet', ''), ('not subject to', 'the claimants obtained possession on the first of September, and controlled the gathering of the crop, then no lien attached, and it was', ''), ('until', 'Rep, 693;] and', ''), ('until', '167,] which declares it to be lawful to levy an execution on a planted crop,', ''), ('if', 'It is admitted that the contract between the defendant in execution, and the claimants, was in good faith,', ''), ('when', 'The defendant in execution might at any time have divested the interest which the contract vested in the claimants, by discharging their liability as his indorsers, or a judgment creditor might have satisfied the lien, and', ''), ('unless', 'We will then consider the writing under which the claimants assert a right, as a mortgage with a power to take possession any time during the year,', ''), ('if', 'Conceding the truth of the facts stated in the bill of exceptions, and we think it will not follow, that the possession of the claimants is a nullity, and that the case must be considered as', ''), ('if', 'The contract contains an express undertaking to give up the crop at any time the claimants might require it for their indemnity, and', ''), ('if', 'they took possession of it in the absence of the grantor, (though without his consent,)', ''), ('if', 'he subsequently acquiesced in it, the inference would be,', ''), ('subject to', 'Mr. Dane, in remarking upon this point, says, “The American editor of Bacon’s Abridgment, says, ‘Wheat growing in the ground is a chattel, and', ''), ('until', 'The first section of the act of 1821, “To prevent sheriffs and other officers from levying executions in certain cases, enacts, that “It shall not be lawful for any sheriff or other officer, to levy a writ of fieri facias or other execution on the planted crop of a debtor, or person against whom an execution may issue,', ''), ('until', 'Now here is an express inhibition to levy an execution on a crop while it remains on, or in the ground, and', ''), ('until', 'If so, the act cited, will only have the effect of keeping the right to levy it in abeyance', ''), ('if', 'The lien and the right to levy are intimately connected, and', ''), ('until', 'That it was competent for the legislature to have made it unlawful to levy an execution on particular property,', ''), ('until', 'If the object was merely to suspend the sale,', ''), ('as soon as', 'The idea that the lien attached upon the planted crop', ''), ('until', 'the execution was delivered to the sheriff, though the right to levy it was postponed', ''), ('if', 'They do not refer to the lien,', ''), ('until', 'they did they would postpone it', ''), ('until', 'the crop was gathered; but it is the levy they relate to and postpone', ''), ('until', '**4 The right to levy an execution on a planted crop, then, being expressly taken away by the statute, the lien which is connected with and consequent upon that right, never attaches', ''), ('if', 'The circuit judge may have mistaken the law in supposing that the contract was a sale, but', ''), ('when', 'There is no assumption of any material fact in the charge; but the possession of the claimant, the time', ''), ('if', 'acquired, the gathering of the crop, &c., are all referred to the determination of the jury; who are instructed,', ''), ('until', '**4 The statute which presents the question before the court is, that “it shall not be lawful for any sheriff or other officer to levy a writ of fieei facias or other execution, on the planted crop of a debtor, or person against whom an execution may issue,', ''), ('subject to', 'The policy of the State, as indicated by these statutes, is undeniably that all the property of a debtor, real and personal, to which he has a legal title, shall be', ''), ('until', 'The mischief which the statute designed to remedy was, the sacrifice which would be necessarily made by the sale of an immature crop: the statute enables the debtor to retain it', ''), ('if', '**5', ''), ('until', 'The sheriff is forbidden to levy on a “planted crop”', ''), ('if', 'Now,', ''), ('until', 'This, I feel a thorough conviction, was not the intention of the legislature; but that it was to secure him from loss, by prohibiting a levy and sale of the crop,', ''), ('when', 'it was gathered,', ''), ('subject to', 'Growing crops as', ''), ('subject to', '464\\r\\nGenerally, at common law, growing crops raised by annual planting, while still attached to the soil, are regarded as personal chattels,', ''), ('where', 'And', '')]\n"
          ],
          "name": "stdout"
        }
      ]
    },
    {
      "cell_type": "code",
      "metadata": {
        "id": "_ls0zWUJiFXV",
        "colab_type": "code",
        "colab": {
          "base_uri": "https://localhost:8080/",
          "height": 53
        },
        "outputId": "469f8e4e-0d39-4e64-abdd-bc4cceb0bbac"
      },
      "source": [
        "#Extracting constraint statements\n",
        "import lexnlp.extract.en.constraints\n",
        "try:\n",
        "  print(list(lexnlp.extract.en.constraints.get_constraints(text)))\n",
        "except:\n",
        "  print(None)"
      ],
      "execution_count": 77,
      "outputs": [
        {
          "output_type": "stream",
          "text": [
            "[('after', 'on a growing crop, nor does such lien attach until', ''), ('after', '', ' and that alias and pluries fieri facias’, issued regularly up to the time levy was made; that the cotton levied on was growed on the plantation of harrison, and cultivated by the hands in his service.'), ('first of', 'the claimants came from tennessee, (where they resided) about the', ''), ('first of', 'the court charged the jury, that the plaintiff had no lien by virtue of his judgment, and execution on the growing crop; that harrison had a right to convey it, without being in any manner restrained by them; that the writing adduced, was a sale of the crop, but if it was not, and the lien of the fieri facias would have attached upon it, when gathered, yet if the claimants obtained possession on the', ''), ('after', 'it merely inhibits the levy, but the lien attaches, and a levy and sale may be made', ''), ('more than', 'taking this to be clear *744 law, and it will be seen, that the defendant in execution at the time of the levy had nothing', ''), ('before', 'it has been frequently mooted whether, at common law, corn, &c.,', ''), ('before', '**4 the statute which presents the question', ''), ('after', 'now, if the view taken by the majority of the court, is correct, the right secured to the plaintiff in execution, of levying on the crop', ''), ('before', 'tried', ''), ('before', 'tried', ''), ('before', 'tried', ''), ('before', 'tried', ''), ('before', 'tried', ''), ('before', 'tried', '')]\n"
          ],
          "name": "stdout"
        }
      ]
    },
    {
      "cell_type": "code",
      "metadata": {
        "id": "rXA2XRK00biu",
        "colab_type": "code",
        "outputId": "48888e9a-726a-4171-b216-cb43302e4898",
        "colab": {
          "base_uri": "https://localhost:8080/",
          "height": 350
        }
      },
      "source": [
        "try:\n",
        "  print(list(lexnlp.extract.en.acts.get_acts(text)))\n",
        "except:\n",
        "  print(None)\n",
        "try:\n",
        "  print(list(lexnlp.extract.en.amounts.get_amounts(text)))\n",
        "except:\n",
        "  print(None)\n",
        "try:\n",
        "  print(list(lexnlp.extract.en.citations.get_citations(text)))\n",
        "except:\n",
        "  print(None)\n",
        "try:\n",
        "  print(list(lexnlp.extract.en.companies.get_companies(text)))\n",
        "except:\n",
        "  print(None)\n",
        "try:\n",
        "  print(list(lexnlp.extract.en.conditions.get_conditions(text)))\n",
        "except:\n",
        "  print(None)\n",
        "try:\n",
        "  print(list(lexnlp.extract.en.constraints.get_constraints(text)))\n",
        "except:\n",
        "  print(None)\n",
        "try:\n",
        "  print(list(lexnlp.extract.en.copyright.get_copyright(text)))\n",
        "except:\n",
        "  print(None)\n",
        "try:\n",
        "  print(list(lexnlp.extract.en.courts.get_courts(text)))\n",
        "except:\n",
        "  print(None)\n",
        "try:\n",
        "  print(list(lexnlp.extract.en.CUSIP.get_CUSIP(text)))\n",
        "except:\n",
        "  print(None)\n",
        "try:\n",
        "  print(list(lexnlp.extract.en.dates.get_dates(text)))\n",
        "except:\n",
        "  print(None)\n",
        "try:\n",
        "  print(list(lexnlp.extract.en.definitions.get_definitions(text)))\n",
        "except:\n",
        "  print(None)\n",
        "try:\n",
        "  print(list(lexnlp.extract.en.durations.get_durations(text)))\n",
        "except:\n",
        "  print(None)\n",
        "try:\n",
        "  print(list(lexnlp.extract.en.geoentities.get_geoentities(text)))\n",
        "except:\n",
        "  print(None)\n",
        "try:\n",
        "  print(list(lexnlp.extract.en.money.get_money(text)))\n",
        "except:\n",
        "  print(None)\n",
        "try:\n",
        "  print(list(lexnlp.extract.en.percents.get_percents(text)))\n",
        "except:\n",
        "  print(None)\n",
        "try:\n",
        "  print(list(lexnlp.extract.en.pii.get_pii(text)))\n",
        "except:\n",
        "  print(None)\n",
        "try:\n",
        "  print(list(lexnlp.extract.en.ratios.get_ratios(text)))\n",
        "except:\n",
        "  print(None)\n",
        "try:\n",
        "  print(list(lexnlp.extract.en.regulations.get_regulations(text)))\n",
        "except:\n",
        "  print(None)\n",
        "try:\n",
        "  print(list(lexnlp.extract.en.trademarks.get_trademarks(text)))\n",
        "except:\n",
        "  print(None)\n",
        "try:\n",
        "  print(list(lexnlp.extract.en.urls.get_urls(text)))\n",
        "except:\n",
        "  print(None)\n"
      ],
      "execution_count": 0,
      "outputs": [
        {
          "output_type": "stream",
          "text": [
            "None\n",
            "None\n",
            "None\n",
            "None\n",
            "None\n",
            "None\n",
            "None\n",
            "None\n",
            "None\n",
            "None\n",
            "None\n",
            "None\n",
            "None\n",
            "None\n",
            "None\n",
            "None\n",
            "None\n",
            "None\n",
            "None\n",
            "None\n"
          ],
          "name": "stdout"
        }
      ]
    },
    {
      "cell_type": "code",
      "metadata": {
        "id": "kJ8w9sc85PmC",
        "colab_type": "code",
        "outputId": "a80410b9-3b0e-452d-de46-f31b571d805a",
        "colab": {
          "base_uri": "https://localhost:8080/",
          "height": 350
        }
      },
      "source": [
        "# write your code here\n",
        "with open(\"Legal.txt\", \"r\", newline=\"\", encoding=\"utf-8\") as f:\n",
        "  text1 = f.read()\n",
        "try:\n",
        "  print(list(lexnlp.extract.en.acts.get_act_list(text1)))\n",
        "except:\n",
        "  print(None)\n",
        "try:\n",
        "  print(list(lexnlp.extract.en.amounts.get_amounts(text1)))\n",
        "except:\n",
        "  print(None)\n",
        "try:\n",
        "  print(list(lexnlp.extract.en.citations.get_citations(text1)))\n",
        "except:\n",
        "  print(None)\n",
        "try:\n",
        "  print(list(lexnlp.extract.en.entities.nltk_re.get_entities.nltk_re.get_companies(text1)))\n",
        "except:\n",
        "  print(None)\n",
        "try:\n",
        "  print(list(lexnlp.extract.en.conditions.get_conditions(text1)))\n",
        "except:\n",
        "  print(None)\n",
        "try:\n",
        "  print(list(lexnlp.extract.en.constraints.get_constraints(text1)))\n",
        "except:\n",
        "  print(None)\n",
        "try:\n",
        "  print(list(lexnlp.extract.en.copyright.get_copyright(text1)))\n",
        "except:\n",
        "  print(None)\n",
        "try:\n",
        "  print(list(lexnlp.extract.en.courts.get_courts(text1)))\n",
        "except:\n",
        "  print(None)\n",
        "try:\n",
        "  print(list(lexnlp.extract.en.CUSIP.get_CUSIP(text1)))\n",
        "except:\n",
        "  print(None)\n",
        "try:\n",
        "  print(list(lexnlp.extract.en.dates.get_dates(text1)))\n",
        "except:\n",
        "  print(None)\n",
        "try:\n",
        "  print(list(lexnlp.extract.en.definitions.get_definitions(text1)))\n",
        "except:\n",
        "  print(None)\n",
        "try:\n",
        "  print(list(lexnlp.extract.en.durations.get_durations(text1)))\n",
        "except:\n",
        "  print(None)\n",
        "try:\n",
        "  print(list(lexnlp.extract.en.geoentities.get_geoentities(text1)))\n",
        "except:\n",
        "  print(None)\n",
        "try:\n",
        "  print(list(lexnlp.extract.en.money.get_money(text1)))\n",
        "except:\n",
        "  print(None)\n",
        "try:\n",
        "  print(list(lexnlp.extract.en.percents.get_percents(text1)))\n",
        "except:\n",
        "  print(None)\n",
        "try:\n",
        "  print(list(lexnlp.extract.en.pii.get_pii(text1)))\n",
        "except:\n",
        "  print(None)\n",
        "try:\n",
        "  print(list(lexnlp.extract.en.ratios.get_ratios(text1)))\n",
        "except:\n",
        "  print(None)\n",
        "try:\n",
        "  print(list(lexnlp.extract.en.regulations.get_regulations(text1)))\n",
        "except:\n",
        "  print(None)\n",
        "try:\n",
        "  print(list(lexnlp.extract.en.trademarks.get_trademarks(text1)))\n",
        "except:\n",
        "  print(None)\n",
        "try:\n",
        "  print(list(lexnlp.extract.en.urls.get_urls(text1)))\n",
        "except:\n",
        "  print(None)\n"
      ],
      "execution_count": 0,
      "outputs": [
        {
          "output_type": "stream",
          "text": [
            "None\n",
            "None\n",
            "None\n",
            "None\n",
            "None\n",
            "None\n",
            "None\n",
            "None\n",
            "None\n",
            "None\n",
            "None\n",
            "None\n",
            "None\n",
            "None\n",
            "None\n",
            "None\n",
            "None\n",
            "None\n",
            "None\n",
            "None\n"
          ],
          "name": "stdout"
        }
      ]
    },
    {
      "cell_type": "code",
      "metadata": {
        "id": "zLSQu8Vo7xBP",
        "colab_type": "code",
        "colab": {}
      },
      "source": [
        "text1=\"\""
      ],
      "execution_count": 0,
      "outputs": []
    }
  ]
}