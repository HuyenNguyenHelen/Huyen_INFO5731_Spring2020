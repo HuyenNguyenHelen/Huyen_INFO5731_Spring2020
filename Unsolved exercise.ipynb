{
  "nbformat": 4,
  "nbformat_minor": 0,
  "metadata": {
    "colab": {
      "name": "Untitled1.ipynb",
      "provenance": [],
      "include_colab_link": true
    },
    "kernelspec": {
      "name": "python3",
      "display_name": "Python 3"
    }
  },
  "cells": [
    {
      "cell_type": "markdown",
      "metadata": {
        "id": "view-in-github",
        "colab_type": "text"
      },
      "source": [
        "<a href=\"https://colab.research.google.com/github/HuyenNguyenHelen/Huyen_INFO5731_Spring2020/blob/master/Unsolved%20exercise.ipynb\" target=\"_parent\"><img src=\"https://colab.research.google.com/assets/colab-badge.svg\" alt=\"Open In Colab\"/></a>"
      ]
    },
    {
      "cell_type": "code",
      "metadata": {
        "id": "PAbcoCpSfsrl",
        "colab_type": "code",
        "colab": {
          "base_uri": "https://localhost:8080/",
          "height": 139
        },
        "outputId": "3ccba91f-4045-467a-9c8f-f87e966b54da"
      },
      "source": [
        "#p.82/ ex 7-1\n",
        "#????\n",
        "def sqrt (a,y): \n",
        "    x=a**1/2\n",
        "    while True:\n",
        "        print (x)\n",
        "        y=(x+a/x)/2\n",
        "        if abs (y-x)<0.00001:\n",
        "            break\n",
        "        x=y     \n",
        "sqrt(100,9)\n"
      ],
      "execution_count": 1,
      "outputs": [
        {
          "output_type": "stream",
          "text": [
            "50.0\n",
            "26.0\n",
            "14.923076923076923\n",
            "10.812053925455988\n",
            "10.030495203889796\n",
            "10.000046356507898\n",
            "10.000000000107445\n"
          ],
          "name": "stdout"
        }
      ]
    },
    {
      "cell_type": "code",
      "metadata": {
        "id": "ocsCd8Lwf0kB",
        "colab_type": "code",
        "colab": {}
      },
      "source": [
        ""
      ],
      "execution_count": 0,
      "outputs": []
    }
  ]
}