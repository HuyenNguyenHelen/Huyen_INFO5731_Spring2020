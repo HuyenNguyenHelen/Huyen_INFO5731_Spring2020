{
  "nbformat": 4,
  "nbformat_minor": 0,
  "metadata": {
    "colab": {
      "name": "practice_coding_in_book.ipynb",
      "provenance": [],
      "collapsed_sections": [],
      "include_colab_link": true
    },
    "kernelspec": {
      "name": "python3",
      "display_name": "Python 3"
    }
  },
  "cells": [
    {
      "cell_type": "markdown",
      "metadata": {
        "id": "view-in-github",
        "colab_type": "text"
      },
      "source": [
        "<a href=\"https://colab.research.google.com/github/HuyenNguyenHelen/Huyen_INFO5731_Spring2020/blob/master/practice_coding_in_book.ipynb\" target=\"_parent\"><img src=\"https://colab.research.google.com/assets/colab-badge.svg\" alt=\"Open In Colab\"/></a>"
      ]
    },
    {
      "cell_type": "code",
      "metadata": {
        "id": "aSePiqmWGM1x",
        "colab_type": "code",
        "colab": {
          "base_uri": "https://localhost:8080/",
          "height": 35
        },
        "outputId": "d6718440-6e67-4ab0-fa0f-8f0af6b26a98"
      },
      "source": [
        "def is_abecedarian (word):\n",
        "  previous = word [0]\n",
        "  for c in word:\n",
        "    if c<previous:\n",
        "      return False\n",
        "    previous = c\n",
        "  return True\n",
        "is_abecedarian (\"abcde\")\n",
        "is_abecedarian (\"shsusijo\")"
      ],
      "execution_count": 5,
      "outputs": [
        {
          "output_type": "execute_result",
          "data": {
            "text/plain": [
              "False"
            ]
          },
          "metadata": {
            "tags": []
          },
          "execution_count": 5
        }
      ]
    },
    {
      "cell_type": "code",
      "metadata": {
        "id": "9YMvZvJbJqGu",
        "colab_type": "code",
        "colab": {
          "base_uri": "https://localhost:8080/",
          "height": 35
        },
        "outputId": "6cca98b6-5e06-4a70-c619-ebee7b717ffb"
      },
      "source": [
        "#p 103\n",
        "# word[i] < word[i+1] means that the computer understand alphabetical order by indexing alphabet \n",
        "def is_abecedarian (word):\n",
        "  i=0\n",
        "  while i < len (word) +1 :\n",
        "    if word[i] < word[i+1]:\n",
        "      return True\n",
        "    return False\n",
        "is_abecedarian (\"abcde\")"
      ],
      "execution_count": 15,
      "outputs": [
        {
          "output_type": "execute_result",
          "data": {
            "text/plain": [
              "True"
            ]
          },
          "metadata": {
            "tags": []
          },
          "execution_count": 15
        }
      ]
    },
    {
      "cell_type": "code",
      "metadata": {
        "id": "nImqP1nnLeil",
        "colab_type": "code",
        "colab": {
          "base_uri": "https://localhost:8080/",
          "height": 35
        },
        "outputId": "8c2802c0-9d8d-42af-a306-24f893068038"
      },
      "source": [
        "#for exp\n",
        "str(\"d\") < str(\"a\")"
      ],
      "execution_count": 14,
      "outputs": [
        {
          "output_type": "execute_result",
          "data": {
            "text/plain": [
              "False"
            ]
          },
          "metadata": {
            "tags": []
          },
          "execution_count": 14
        }
      ]
    },
    {
      "cell_type": "code",
      "metadata": {
        "id": "dBfbvO5BNHkG",
        "colab_type": "code",
        "colab": {
          "base_uri": "https://localhost:8080/",
          "height": 35
        },
        "outputId": "e5857329-bfd0-4f42-ca6b-b745384dd029"
      },
      "source": [
        "#palindrome: some words are reserved to be themselves\n",
        "#Book's way\n",
        "def is_palindrome (word):\n",
        "  i=0\n",
        "  j=len(word)-1\n",
        "  while i<j:\n",
        "    if word [i] !=word[j]:\n",
        "      return False\n",
        "    i=+1\n",
        "    j=j-1\n",
        "  return True\n",
        "is_palindrome(\"noon\")\n",
        "is_palindrome (\"nottion\")"
      ],
      "execution_count": 27,
      "outputs": [
        {
          "output_type": "execute_result",
          "data": {
            "text/plain": [
              "False"
            ]
          },
          "metadata": {
            "tags": []
          },
          "execution_count": 27
        }
      ]
    },
    {
      "cell_type": "code",
      "metadata": {
        "id": "LwMQz4ENQCvr",
        "colab_type": "code",
        "colab": {
          "base_uri": "https://localhost:8080/",
          "height": 35
        },
        "outputId": "3e1621c0-46f0-4f4d-a87e-060147e3b2bb"
      },
      "source": [
        "#my way, I think its correct, is it?\n",
        "def is_palindrome (word):\n",
        "  i=len(word)-1\n",
        "  if word [:i] == word [-i+1:]:\n",
        "    return True\n",
        "  return False\n",
        "is_palindrome (\"noon\")\n",
        "is_palindrome (\"nottion\")"
      ],
      "execution_count": 29,
      "outputs": [
        {
          "output_type": "execute_result",
          "data": {
            "text/plain": [
              "False"
            ]
          },
          "metadata": {
            "tags": []
          },
          "execution_count": 29
        }
      ]
    }
  ]
}