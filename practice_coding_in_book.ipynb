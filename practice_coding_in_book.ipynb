{
  "nbformat": 4,
  "nbformat_minor": 0,
  "metadata": {
    "colab": {
      "name": "practice_coding_in_book.ipynb",
      "provenance": [],
      "collapsed_sections": [],
      "include_colab_link": true
    },
    "kernelspec": {
      "name": "python3",
      "display_name": "Python 3"
    }
  },
  "cells": [
    {
      "cell_type": "markdown",
      "metadata": {
        "id": "view-in-github",
        "colab_type": "text"
      },
      "source": [
        "<a href=\"https://colab.research.google.com/github/HuyenNguyenHelen/Huyen_INFO5731_Spring2020/blob/master/practice_coding_in_book.ipynb\" target=\"_parent\"><img src=\"https://colab.research.google.com/assets/colab-badge.svg\" alt=\"Open In Colab\"/></a>"
      ]
    },
    {
      "cell_type": "code",
      "metadata": {
        "id": "aSePiqmWGM1x",
        "colab_type": "code",
        "outputId": "d6718440-6e67-4ab0-fa0f-8f0af6b26a98",
        "colab": {
          "base_uri": "https://localhost:8080/",
          "height": 35
        }
      },
      "source": [
        "def is_abecedarian (word):\n",
        "  previous = word [0]\n",
        "  for c in word:\n",
        "    if c<previous:\n",
        "      return False\n",
        "    previous = c\n",
        "  return True\n",
        "is_abecedarian (\"abcde\")\n",
        "is_abecedarian (\"shsusijo\")"
      ],
      "execution_count": 0,
      "outputs": [
        {
          "output_type": "execute_result",
          "data": {
            "text/plain": [
              "False"
            ]
          },
          "metadata": {
            "tags": []
          },
          "execution_count": 5
        }
      ]
    },
    {
      "cell_type": "code",
      "metadata": {
        "id": "9YMvZvJbJqGu",
        "colab_type": "code",
        "outputId": "6cca98b6-5e06-4a70-c619-ebee7b717ffb",
        "colab": {
          "base_uri": "https://localhost:8080/",
          "height": 35
        }
      },
      "source": [
        "#p 103\n",
        "# word[i] < word[i+1] means that the computer understand alphabetical order by indexing alphabet \n",
        "def is_abecedarian (word):\n",
        "  i=0\n",
        "  while i < len (word) +1 :\n",
        "    if word[i] < word[i+1]:\n",
        "      return True\n",
        "    return False\n",
        "is_abecedarian (\"abcde\")"
      ],
      "execution_count": 0,
      "outputs": [
        {
          "output_type": "execute_result",
          "data": {
            "text/plain": [
              "True"
            ]
          },
          "metadata": {
            "tags": []
          },
          "execution_count": 15
        }
      ]
    },
    {
      "cell_type": "code",
      "metadata": {
        "id": "nImqP1nnLeil",
        "colab_type": "code",
        "outputId": "8c2802c0-9d8d-42af-a306-24f893068038",
        "colab": {
          "base_uri": "https://localhost:8080/",
          "height": 35
        }
      },
      "source": [
        "#for exp\n",
        "str(\"d\") < str(\"a\")"
      ],
      "execution_count": 0,
      "outputs": [
        {
          "output_type": "execute_result",
          "data": {
            "text/plain": [
              "False"
            ]
          },
          "metadata": {
            "tags": []
          },
          "execution_count": 14
        }
      ]
    },
    {
      "cell_type": "code",
      "metadata": {
        "id": "dBfbvO5BNHkG",
        "colab_type": "code",
        "outputId": "e5857329-bfd0-4f42-ca6b-b745384dd029",
        "colab": {
          "base_uri": "https://localhost:8080/",
          "height": 35
        }
      },
      "source": [
        "#palindrome: some words are reserved to be themselves\n",
        "#Book's way\n",
        "def is_palindrome (word):\n",
        "  i=0\n",
        "  j=len(word)-1\n",
        "  while i<j:\n",
        "    if word [i] !=word[j]:\n",
        "      return False\n",
        "    i=+1\n",
        "    j=j-1\n",
        "  return True\n",
        "is_palindrome(\"noon\")\n",
        "is_palindrome (\"nottion\")"
      ],
      "execution_count": 0,
      "outputs": [
        {
          "output_type": "execute_result",
          "data": {
            "text/plain": [
              "False"
            ]
          },
          "metadata": {
            "tags": []
          },
          "execution_count": 27
        }
      ]
    },
    {
      "cell_type": "code",
      "metadata": {
        "id": "LwMQz4ENQCvr",
        "colab_type": "code",
        "outputId": "3e1621c0-46f0-4f4d-a87e-060147e3b2bb",
        "colab": {
          "base_uri": "https://localhost:8080/",
          "height": 35
        }
      },
      "source": [
        "#my way, I think its correct, is it?\n",
        "def is_palindrome (word):\n",
        "  i=len(word)-1\n",
        "  if word [:i] == word [-i+1:]:\n",
        "    return True\n",
        "  return False\n",
        "is_palindrome (\"noon\")\n",
        "is_palindrome (\"nottion\")"
      ],
      "execution_count": 0,
      "outputs": [
        {
          "output_type": "execute_result",
          "data": {
            "text/plain": [
              "False"
            ]
          },
          "metadata": {
            "tags": []
          },
          "execution_count": 29
        }
      ]
    },
    {
      "cell_type": "markdown",
      "metadata": {
        "id": "7sn8CDUGhEp7",
        "colab_type": "text"
      },
      "source": [
        "CHAPTER 11: DICTIONARY! \n",
        "h.get(\"a\",0)\n",
        "sorted(h)"
      ]
    },
    {
      "cell_type": "code",
      "metadata": {
        "id": "O0u1vT-0hM1z",
        "colab_type": "code",
        "outputId": "a987ab6b-c83f-4536-e9d2-587b06a2739b",
        "colab": {
          "base_uri": "https://localhost:8080/",
          "height": 277
        }
      },
      "source": [
        "# count letter appearing in the string\n",
        "def histogram(s):\n",
        "  d= dict()\n",
        "  for c in s:\n",
        "    if c not in d:\n",
        "      d[c]=1\n",
        "    else:\n",
        "      d[c]+=1\n",
        "  return d\n",
        "histogram(\"I enjoyed landscape here\")\n"
      ],
      "execution_count": 0,
      "outputs": [
        {
          "output_type": "execute_result",
          "data": {
            "text/plain": [
              "{' ': 3,\n",
              " 'I': 1,\n",
              " 'a': 2,\n",
              " 'c': 1,\n",
              " 'd': 2,\n",
              " 'e': 5,\n",
              " 'h': 1,\n",
              " 'j': 1,\n",
              " 'l': 1,\n",
              " 'n': 2,\n",
              " 'o': 1,\n",
              " 'p': 1,\n",
              " 'r': 1,\n",
              " 's': 1,\n",
              " 'y': 1}"
            ]
          },
          "metadata": {
            "tags": []
          },
          "execution_count": 3
        }
      ]
    },
    {
      "cell_type": "code",
      "metadata": {
        "id": "vgVUf02XjzGv",
        "colab_type": "code",
        "outputId": "b9a953d2-5d58-4f8b-d441-23ea0a510672",
        "colab": {
          "base_uri": "https://localhost:8080/",
          "height": 277
        }
      },
      "source": [
        "# how to print key value pair\n",
        "def print_h (h):\n",
        "  for c in h:\n",
        "    print (c,h[c])\n",
        "h={' ': 3,\n",
        " 'I': 1,\n",
        " 'a': 2,\n",
        " 'c': 1,\n",
        " 'd': 2,\n",
        " 'e': 5,\n",
        " 'h': 1,\n",
        " 'j': 1,\n",
        " 'l': 1,\n",
        " 'n': 2,\n",
        " 'o': 1,\n",
        " 'p': 1,\n",
        " 'r': 1,\n",
        " 's': 1,\n",
        " 'y': 1}\n",
        "print_h (h)"
      ],
      "execution_count": 0,
      "outputs": [
        {
          "output_type": "stream",
          "text": [
            "  3\n",
            "I 1\n",
            "a 2\n",
            "c 1\n",
            "d 2\n",
            "e 5\n",
            "h 1\n",
            "j 1\n",
            "l 1\n",
            "n 2\n",
            "o 1\n",
            "p 1\n",
            "r 1\n",
            "s 1\n",
            "y 1\n"
          ],
          "name": "stdout"
        }
      ]
    },
    {
      "cell_type": "code",
      "metadata": {
        "id": "_uxGm9p_mcVf",
        "colab_type": "code",
        "outputId": "efeed322-82a1-4834-d06b-6fabd29b2947",
        "colab": {
          "base_uri": "https://localhost:8080/",
          "height": 277
        }
      },
      "source": [
        "# how to print key-value pair in a sorted order\n",
        "def sorted_print (h):\n",
        "  for key in sorted(h):\n",
        "    print(key, h[key])\n",
        "h={' ': 3,\n",
        "  'I': 1,\n",
        "  'a': 2,\n",
        "  'c': 1,\n",
        "  'd': 2,\n",
        "  'e': 5,\n",
        "  'h': 1,\n",
        "  'j': 1,\n",
        "  'l': 1,\n",
        "  'n': 2,\n",
        "  'o': 1,\n",
        "  'p': 1,\n",
        "  'r': 1,\n",
        "  's': 1,\n",
        "  'y': 1}\n",
        "sorted_print(h)"
      ],
      "execution_count": 0,
      "outputs": [
        {
          "output_type": "stream",
          "text": [
            "  3\n",
            "I 1\n",
            "a 2\n",
            "c 1\n",
            "d 2\n",
            "e 5\n",
            "h 1\n",
            "j 1\n",
            "l 1\n",
            "n 2\n",
            "o 1\n",
            "p 1\n",
            "r 1\n",
            "s 1\n",
            "y 1\n"
          ],
          "name": "stdout"
        }
      ]
    },
    {
      "cell_type": "code",
      "metadata": {
        "id": "CixEMdNUsyY-",
        "colab_type": "code",
        "outputId": "0f42104d-385e-4618-cb0e-92f5e265db30",
        "colab": {
          "base_uri": "https://localhost:8080/",
          "height": 87
        }
      },
      "source": [
        "# invert a dict\n",
        "# we have a dict with letter: frequency, if we want to invert it to see which letters have the most frequency\n",
        "def invert_dict(h):\n",
        "  invert =dict()\n",
        "  for key in h:\n",
        "    val=h[key]\n",
        "    if val not in invert:\n",
        "      invert[val]=[key]\n",
        "    else:\n",
        "      invert[val].append(key)\n",
        "  return invert\n",
        "h={' ': 3,\n",
        "  'I': 1,\n",
        "  'a': 2,\n",
        "  'c': 1,\n",
        "  'd': 2,\n",
        "  'e': 5,\n",
        "  'h': 1,\n",
        "  'j': 1,\n",
        "  'l': 1,\n",
        "  'n': 2,\n",
        "  'o': 1,\n",
        "  'p': 1,\n",
        "  'r': 1,\n",
        "  's': 1,\n",
        "  'y': 1}\n",
        "invert_dict(h)\n"
      ],
      "execution_count": 0,
      "outputs": [
        {
          "output_type": "execute_result",
          "data": {
            "text/plain": [
              "{1: ['I', 'c', 'h', 'j', 'l', 'o', 'p', 'r', 's', 'y'],\n",
              " 2: ['a', 'd', 'n'],\n",
              " 3: [' '],\n",
              " 5: ['e']}"
            ]
          },
          "metadata": {
            "tags": []
          },
          "execution_count": 27
        }
      ]
    },
    {
      "cell_type": "code",
      "metadata": {
        "id": "nmOUFNZ_quo0",
        "colab_type": "code",
        "outputId": "c09ca7f2-75b6-4881-a5c3-57208abf2b12",
        "colab": {
          "base_uri": "https://localhost:8080/",
          "height": 69
        }
      },
      "source": [
        "cache={}\n",
        "def ackermann(m, n):\n",
        "    \"\"\"Computes the Ackermann function A(m, n)\n",
        "\n",
        "    See http://en.wikipedia.org/wiki/Ackermann_function\n",
        "\n",
        "    n, m: non-negative integers\n",
        "    \"\"\"\n",
        "    if m == 0:\n",
        "        return n+1\n",
        "    if n == 0:\n",
        "        return ackermann(m-1, 1)\n",
        "    else:\n",
        "        cache[m, n] = ackermann(m-1, ackermann(m, n-1))\n",
        "        return cache[m, n]\n",
        "print(cache)\n",
        "\n",
        "print(ackermann(3, 4))\n",
        "print(ackermann(3, 5))\n"
      ],
      "execution_count": 0,
      "outputs": [
        {
          "output_type": "stream",
          "text": [
            "{}\n",
            "125\n",
            "253\n"
          ],
          "name": "stdout"
        }
      ]
    },
    {
      "cell_type": "code",
      "metadata": {
        "id": "_dxtgccWCQ4x",
        "colab_type": "code",
        "outputId": "bc814c4c-4cf6-4618-eb25-2c36a71f6939",
        "colab": {
          "base_uri": "https://localhost:8080/",
          "height": 52
        }
      },
      "source": [
        "def main():\n",
        "  print(\"Hello World!\")\n",
        "  \n",
        "main()\n",
        "print(\"Guru99\")"
      ],
      "execution_count": 0,
      "outputs": [
        {
          "output_type": "stream",
          "text": [
            "Hello World!\n",
            "Guru99\n"
          ],
          "name": "stdout"
        }
      ]
    },
    {
      "cell_type": "code",
      "metadata": {
        "id": "o_IohPakChYL",
        "colab_type": "code",
        "outputId": "1f5d4e25-141b-4785-cc9d-9b7e3cf2fdda",
        "colab": {
          "base_uri": "https://localhost:8080/",
          "height": 52
        }
      },
      "source": [
        "def main():\n",
        "  print(\"Hello World!\")\n",
        "  \n",
        "if __name__== \"__main__\":\n",
        "  main()\n",
        "\n",
        "print(\"Guru99\")"
      ],
      "execution_count": 0,
      "outputs": [
        {
          "output_type": "stream",
          "text": [
            "Hello World!\n",
            "Guru99\n"
          ],
          "name": "stdout"
        }
      ]
    },
    {
      "cell_type": "markdown",
      "metadata": {
        "id": "2Rr7ekS9my8Z",
        "colab_type": "text"
      },
      "source": [
        "TUPLE\n"
      ]
    },
    {
      "cell_type": "code",
      "metadata": {
        "id": "Ia-fnoe3m4vG",
        "colab_type": "code",
        "colab": {
          "base_uri": "https://localhost:8080/",
          "height": 34
        },
        "outputId": "fc85e85f-fd49-4360-f92e-4bb156d72893"
      },
      "source": [
        "t=tuple(\"lupins\")\n",
        "t\n",
        "a=\"lupins\",\n",
        "print(a)"
      ],
      "execution_count": 3,
      "outputs": [
        {
          "output_type": "stream",
          "text": [
            "('lupins',)\n"
          ],
          "name": "stdout"
        }
      ]
    },
    {
      "cell_type": "code",
      "metadata": {
        "id": "UyevBz5zn2v1",
        "colab_type": "code",
        "colab": {
          "base_uri": "https://localhost:8080/",
          "height": 34
        },
        "outputId": "0cffaecb-e80b-4825-d7a1-ef74211098a3"
      },
      "source": [
        "# Access tuple by method .index() or idexing as list t[2], or slice operator t[1:3]\n",
        "t=tuple(\"lupins\")\n",
        "t[2]\n",
        "t.index(\"p\")\n",
        "t[1:3]"
      ],
      "execution_count": 6,
      "outputs": [
        {
          "output_type": "execute_result",
          "data": {
            "text/plain": [
              "('u', 'p')"
            ]
          },
          "metadata": {
            "tags": []
          },
          "execution_count": 6
        }
      ]
    },
    {
      "cell_type": "code",
      "metadata": {
        "id": "ttB60Q2XoelP",
        "colab_type": "code",
        "colab": {
          "base_uri": "https://localhost:8080/",
          "height": 181
        },
        "outputId": "aedb7f20-6824-4eae-c9fd-25d7ce51a655"
      },
      "source": [
        "# But tuple is immutable, so if we try to modify it, we get an error\n",
        "t=tuple(\"lupins\")\n",
        "t[0]=\"A\""
      ],
      "execution_count": 7,
      "outputs": [
        {
          "output_type": "error",
          "ename": "TypeError",
          "evalue": "ignored",
          "traceback": [
            "\u001b[0;31m---------------------------------------------------------------------------\u001b[0m",
            "\u001b[0;31mTypeError\u001b[0m                                 Traceback (most recent call last)",
            "\u001b[0;32m<ipython-input-7-3b6503fe2c4f>\u001b[0m in \u001b[0;36m<module>\u001b[0;34m()\u001b[0m\n\u001b[1;32m      1\u001b[0m \u001b[0mt\u001b[0m\u001b[0;34m=\u001b[0m\u001b[0mtuple\u001b[0m\u001b[0;34m(\u001b[0m\u001b[0;34m\"lupins\"\u001b[0m\u001b[0;34m)\u001b[0m\u001b[0;34m\u001b[0m\u001b[0;34m\u001b[0m\u001b[0m\n\u001b[0;32m----> 2\u001b[0;31m \u001b[0mt\u001b[0m\u001b[0;34m[\u001b[0m\u001b[0;36m0\u001b[0m\u001b[0;34m]\u001b[0m\u001b[0;34m=\u001b[0m\u001b[0;34m\"A\"\u001b[0m\u001b[0;34m\u001b[0m\u001b[0;34m\u001b[0m\u001b[0m\n\u001b[0m",
            "\u001b[0;31mTypeError\u001b[0m: 'tuple' object does not support item assignment"
          ]
        }
      ]
    },
    {
      "cell_type": "code",
      "metadata": {
        "id": "B8x3N4H8o8s-",
        "colab_type": "code",
        "colab": {
          "base_uri": "https://localhost:8080/",
          "height": 198
        },
        "outputId": "811c4021-0ef9-4ec8-cc60-a2039d575b7c"
      },
      "source": [
        "# Therefore, to capitalize A in the example, we can try with other way: create a new tuple, and replace \"a\" by \"A\"\n",
        "# BUT WHY? it doesnt work as the book showed?\n",
        "t=tuple(\"lupins\")\n",
        "t= (\"A\"), + t[1:]\n",
        "t"
      ],
      "execution_count": 14,
      "outputs": [
        {
          "output_type": "error",
          "ename": "TypeError",
          "evalue": "ignored",
          "traceback": [
            "\u001b[0;31m---------------------------------------------------------------------------\u001b[0m",
            "\u001b[0;31mTypeError\u001b[0m                                 Traceback (most recent call last)",
            "\u001b[0;32m<ipython-input-14-f7695edd9c38>\u001b[0m in \u001b[0;36m<module>\u001b[0;34m()\u001b[0m\n\u001b[1;32m      1\u001b[0m \u001b[0mt\u001b[0m\u001b[0;34m=\u001b[0m\u001b[0mtuple\u001b[0m\u001b[0;34m(\u001b[0m\u001b[0;34m\"lupins\"\u001b[0m\u001b[0;34m)\u001b[0m\u001b[0;34m\u001b[0m\u001b[0;34m\u001b[0m\u001b[0m\n\u001b[0;32m----> 2\u001b[0;31m \u001b[0mt\u001b[0m\u001b[0;34m=\u001b[0m \u001b[0;34m(\u001b[0m\u001b[0;34m\"A\"\u001b[0m\u001b[0;34m)\u001b[0m\u001b[0;34m,\u001b[0m \u001b[0;34m+\u001b[0m \u001b[0mt\u001b[0m\u001b[0;34m[\u001b[0m\u001b[0;36m1\u001b[0m\u001b[0;34m:\u001b[0m\u001b[0;34m]\u001b[0m\u001b[0;34m\u001b[0m\u001b[0;34m\u001b[0m\u001b[0m\n\u001b[0m\u001b[1;32m      3\u001b[0m \u001b[0mt\u001b[0m\u001b[0;34m\u001b[0m\u001b[0;34m\u001b[0m\u001b[0m\n",
            "\u001b[0;31mTypeError\u001b[0m: bad operand type for unary +: 'tuple'"
          ]
        }
      ]
    },
    {
      "cell_type": "code",
      "metadata": {
        "id": "nPjcOIIxrGpb",
        "colab_type": "code",
        "colab": {
          "base_uri": "https://localhost:8080/",
          "height": 34
        },
        "outputId": "242af7a8-62d3-4596-db93-a8c5971d0427"
      },
      "source": [
        "#tuple assignment\n",
        "# Assign variable with method .split(\" \")\n",
        "addr= \"ngochuyenanhspk5@gmail.com\"\n",
        "username=addr.split(\"@\")\n",
        "username\n",
        "username,domain=addr.split(\"@\")\n",
        "username\n",
        "domain\n"
      ],
      "execution_count": 22,
      "outputs": [
        {
          "output_type": "execute_result",
          "data": {
            "text/plain": [
              "'gmail.com'"
            ]
          },
          "metadata": {
            "tags": []
          },
          "execution_count": 22
        }
      ]
    },
    {
      "cell_type": "code",
      "metadata": {
        "id": "nEXmMC4Xs9Ap",
        "colab_type": "code",
        "colab": {
          "base_uri": "https://localhost:8080/",
          "height": 34
        },
        "outputId": "a55ed3f8-06af-4313-bf11-5310463724a7"
      },
      "source": [
        "# tuple return multiple value\n",
        "t= divmod(10,3)\n",
        "t\n",
        "#or \n",
        "quotient, remainder=divmod(10,3)\n",
        "quotient\n",
        "remainder\n",
        "# ex\n",
        "def min_max(t):\n",
        "  return min(t), max(t)\n",
        "t=\"cheer\"\n",
        "min_max(t)\n",
        "t=[0,7,10,8]\n",
        "min_max(t)\n",
        "# try with tuple t\n",
        "t=[0,7,10,8,]\n",
        "min_max(t)"
      ],
      "execution_count": 34,
      "outputs": [
        {
          "output_type": "execute_result",
          "data": {
            "text/plain": [
              "(0, 10)"
            ]
          },
          "metadata": {
            "tags": []
          },
          "execution_count": 34
        }
      ]
    },
    {
      "cell_type": "code",
      "metadata": {
        "id": "tqdjJe2zu4XZ",
        "colab_type": "code",
        "colab": {
          "base_uri": "https://localhost:8080/",
          "height": 34
        },
        "outputId": "716a7832-b37a-47ce-9eeb-3c6d47ac5062"
      },
      "source": [
        "# Function with variable number of arguments: begin a paramater with *, \n",
        "#????\n",
        "def printall(*arg):\n",
        "  print(*arg)\n",
        "printall(\"a\", 1, \"uses\")\n",
        "# ex\n",
        "def sum_all(t):\n",
        "  t=tuple()\n",
        "  n=0\n",
        "  sum_all=0\n",
        "  while n<len(t)-1:\n",
        "     sum_all = sum (t[n], t[n+1])\n",
        "     return sum_all\n",
        "t=[1,4,5,3]\n",
        "sum_all(t)    \n",
        "\n"
      ],
      "execution_count": 54,
      "outputs": [
        {
          "output_type": "stream",
          "text": [
            "a 1 uses\n"
          ],
          "name": "stdout"
        }
      ]
    },
    {
      "cell_type": "code",
      "metadata": {
        "id": "bbJ7tZBzG5Fx",
        "colab_type": "code",
        "colab": {
          "base_uri": "https://localhost:8080/",
          "height": 34
        },
        "outputId": "98866bea-8c76-4824-cf31-50bbd5713628"
      },
      "source": [
        "#create a dict with list of tuples\n",
        "t=[(\"a\",0), (\"b\",2), (\"c\",3)]\n",
        "d=dict(t)\n",
        "d"
      ],
      "execution_count": 55,
      "outputs": [
        {
          "output_type": "execute_result",
          "data": {
            "text/plain": [
              "{'a': 0, 'b': 2, 'c': 3}"
            ]
          },
          "metadata": {
            "tags": []
          },
          "execution_count": 55
        }
      ]
    },
    {
      "cell_type": "code",
      "metadata": {
        "id": "GmP_g7rZHmel",
        "colab_type": "code",
        "colab": {
          "base_uri": "https://localhost:8080/",
          "height": 34
        },
        "outputId": "293eb72f-a4ea-4fa2-d798-7e16964b4a5b"
      },
      "source": [
        "# create  a dict with zip\n",
        "d=dict(zip(\"abc\", range(3)))\n",
        "d"
      ],
      "execution_count": 57,
      "outputs": [
        {
          "output_type": "execute_result",
          "data": {
            "text/plain": [
              "{'a': 0, 'b': 1, 'c': 2}"
            ]
          },
          "metadata": {
            "tags": []
          },
          "execution_count": 57
        }
      ]
    }
  ]
}