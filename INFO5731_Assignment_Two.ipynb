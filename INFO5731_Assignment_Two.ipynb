{
  "nbformat": 4,
  "nbformat_minor": 0,
  "metadata": {
    "colab": {
      "name": "INFO5731_Assignment_Two.ipynb",
      "provenance": [],
      "collapsed_sections": [],
      "include_colab_link": true
    },
    "kernelspec": {
      "name": "python3",
      "display_name": "Python 3"
    }
  },
  "cells": [
    {
      "cell_type": "markdown",
      "metadata": {
        "id": "view-in-github",
        "colab_type": "text"
      },
      "source": [
        "<a href=\"https://colab.research.google.com/github/HuyenNguyenHelen/Huyen_INFO5731_Spring2020/blob/master/INFO5731_Assignment_Two.ipynb\" target=\"_parent\"><img src=\"https://colab.research.google.com/assets/colab-badge.svg\" alt=\"Open In Colab\"/></a>"
      ]
    },
    {
      "cell_type": "markdown",
      "metadata": {
        "id": "USSdXHuqnwv9",
        "colab_type": "text"
      },
      "source": [
        "# **INFO5731 Assignment Two**\n",
        "\n",
        "In this assignment, you will try to gather text data from open data source via web scraping or API. After that you need to clean the text data and syntactic analysis of the data."
      ]
    },
    {
      "cell_type": "markdown",
      "metadata": {
        "id": "YWxodXh5n4xF",
        "colab_type": "text"
      },
      "source": [
        "# **Question 1**"
      ]
    },
    {
      "cell_type": "markdown",
      "metadata": {
        "id": "TenBkDJ5n95k",
        "colab_type": "text"
      },
      "source": [
        "(40 points). Write a python program to collect text data from **either of the following sources** and save the data into a **csv file**:\n",
        "\n",
        "(1) Collect all the customer reviews of the product [2019 Dell labtop](https://www.amazon.com/Dell-Inspiron-5000-5570-Laptop/dp/B07N49F51N/ref=sr_1_11?crid=1IJ7UWF2F4GHH&keywords=dell%2Bxps%2B15&qid=1580173569&sprefix=dell%2Caps%2C181&sr=8-11&th=1) on amazon.\n",
        "\n",
        "(2) Collect the top 100 User Reviews of the film [Joker](https://www.imdb.com/title/tt7286456/reviews?ref_=tt_urv) from IMDB.\n",
        "\n",
        "(3) Collect the abstracts of the top 100 research papers by using the query [natural language processing](https://citeseerx.ist.psu.edu/search?q=natural+language+processing&submit.x=0&submit.y=0&sort=rlv&t=doc) from CiteSeerX.\n",
        "\n",
        "(4) Collect the top 100 tweets by using hashtag [\"#wuhancoronovirus\"](https://twitter.com/hashtag/wuhancoronovirus) from Twitter. \n"
      ]
    },
    {
      "cell_type": "code",
      "metadata": {
        "id": "PuFPKhC0m1fd",
        "colab_type": "code",
        "outputId": "cf837d73-1695-4c51-9274-6ddf22e24a38",
        "colab": {
          "base_uri": "https://localhost:8080/",
          "height": 623
        }
      },
      "source": [
        "# Write your code here\n",
        "# Collect the top 100 User Reviews of the film Joker from IMDB \n",
        "import urllib.request\n",
        "from bs4 import BeautifulSoup\n",
        "import pandas as pd\n",
        "host_url = [\"https://www.imdb.com/title/tt7286456/reviews?ref_=tt_urv\"]\n",
        "load_more_urls = [\"https://www.imdb.com/title/tt7286456/reviews/_ajax?ref_=undefined&paginationKey=g4wp7crmqm2dczaa7wxhfmzzrdtmsbzhzfmxvlnomwklyczuf43o6ss6oe2fjmzldj4k5tm5fjyr3a2pn6woclsokk47cma\", \"https://www.imdb.com/title/tt7286456/reviews/_ajax?ref_=undefined&paginationKey=g4wp7cjmqqzde3yk7swhhmjqrxt4ohjjtzpwzouokkd2gbzgpnt6ucc2peyv5mbjb4dwdpdqzcxjfmg3k65z4tqdaz44w\", \"https://www.imdb.com/title/tt7286456/reviews/_ajax?ref_=undefined&paginationKey=g4wp7cbkqmzdizyc76wxvnzrrxs46bzhzfmxvlnomwklyczuf43o6ss6oe4vtpridv4k5vz4e43vvsqoskmtj4psbfq2qni\", \"https://www.imdb.com/title/tt7286456/reviews/_ajax?ref_=undefined&paginationKey=g4wp7cbpryzd6yab62tx7obtrtt4objhzfmxvlnomwklyczuf43o6ss6oe4f5nzldn4k4k7d72vy22axhza7lis2c2y7jzi\"]\n",
        "all_urls = host_url+load_more_urls\n",
        "user_names, user_links, content = [],[], []\n",
        "for url in all_urls:\n",
        "  request = urllib.request.urlopen (u)\n",
        "  webpage  = request.read()\n",
        "  soup = BeautifulSoup(webpage)\n",
        "  #review = soup.find('select', {'class':'lister-list' })\n",
        "  content_soup=soup.find_all(\"div\", class_=\"text show-more__control\")\n",
        "  title_soup = soup.find_all(\"a\", class_=\"title\")\n",
        "  date_soup = soup.find_all(\"span\", class_=\"review-date\")\n",
        "  rating_soup = soup.find_all(\"span\", class_=\"rating-other-user-rating\")\n",
        "  users_soup = soup.find_all(\"span\", class_=\"display-name-link\" )\n",
        "  for tag in users_soup:\n",
        "    href = tag.find_all(\"a\")\n",
        "    for h in href:\n",
        "      user_links.append(h.get(\"href\"))\n",
        "      user_names. append(h.get_text())\n",
        "    content = [a.get_text() for a in content_soup]\n",
        "    title = [b.get_text() for b in title_soup]\n",
        "  date = [c.get_text() for c in date_soup]\n",
        "  rating = [(d.getText()).strip() for d in rating_soup]\n",
        "\n",
        "\n",
        " \n",
        "dict = {\"review_title\": title, \"review_content\": content, \"rates\": rating,  \"reviewer\": user_names, \"reviewer_profile_link\": user_links, \"review_date\": date}\n",
        "df = pd.DataFrame(dict)\n",
        "df\n",
        "\n",
        "with open(\"E:\\Helen\\INFO5731_Assignment2\\Joke_reviews.csv\", \"w\", newline=\"\") as file:\n",
        "  df.to_csv(file)\n",
        "with open(\"E:\\Helen\\INFO5731_Assignment2\\Joke_reviews.csv\", \"r\") as file:\n",
        "  pd.read_csv(file)\n",
        "\n",
        "#webcontent(host)\n",
        "#for link in load_more_links:\n",
        "#  webcontent(link)"
      ],
      "execution_count": 8,
      "outputs": [
        {
          "output_type": "stream",
          "text": [
            "107\n",
            "107\n",
            "107\n"
          ],
          "name": "stdout"
        },
        {
          "output_type": "execute_result",
          "data": {
            "text/html": [
              "<div>\n",
              "<style scoped>\n",
              "    .dataframe tbody tr th:only-of-type {\n",
              "        vertical-align: middle;\n",
              "    }\n",
              "\n",
              "    .dataframe tbody tr th {\n",
              "        vertical-align: top;\n",
              "    }\n",
              "\n",
              "    .dataframe thead th {\n",
              "        text-align: right;\n",
              "    }\n",
              "</style>\n",
              "<table border=\"1\" class=\"dataframe\">\n",
              "  <thead>\n",
              "    <tr style=\"text-align: right;\">\n",
              "      <th></th>\n",
              "      <th>review_title</th>\n",
              "      <th>review_content</th>\n",
              "      <th>rates</th>\n",
              "      <th>reviewer</th>\n",
              "      <th>reviewer_profile_link</th>\n",
              "      <th>review_date</th>\n",
              "    </tr>\n",
              "  </thead>\n",
              "  <tbody>\n",
              "    <tr>\n",
              "      <th>0</th>\n",
              "      <td>[ As a viewer that actually went to TIFF and w...</td>\n",
              "      <td>[I was a person that saw all the hype and clai...</td>\n",
              "      <td>[10/10, 10/10, 10/10, 10/10, 10/10, 10/10, 10/...</td>\n",
              "      <td>JF500</td>\n",
              "      <td>/user/ur107586329/</td>\n",
              "      <td>[10 September 2019, 3 October 2019, 7 October ...</td>\n",
              "    </tr>\n",
              "    <tr>\n",
              "      <th>1</th>\n",
              "      <td>[ As a viewer that actually went to TIFF and w...</td>\n",
              "      <td>[I was a person that saw all the hype and clai...</td>\n",
              "      <td>[10/10, 10/10, 10/10, 10/10, 10/10, 10/10, 10/...</td>\n",
              "      <td>MihaVrhunc</td>\n",
              "      <td>/user/ur35451356/</td>\n",
              "      <td>[10 September 2019, 3 October 2019, 7 October ...</td>\n",
              "    </tr>\n",
              "    <tr>\n",
              "      <th>2</th>\n",
              "      <td>[ As a viewer that actually went to TIFF and w...</td>\n",
              "      <td>[I was a person that saw all the hype and clai...</td>\n",
              "      <td>[10/10, 10/10, 10/10, 10/10, 10/10, 10/10, 10/...</td>\n",
              "      <td>lesterarnoldpinto</td>\n",
              "      <td>/user/ur15820252/</td>\n",
              "      <td>[10 September 2019, 3 October 2019, 7 October ...</td>\n",
              "    </tr>\n",
              "    <tr>\n",
              "      <th>3</th>\n",
              "      <td>[ As a viewer that actually went to TIFF and w...</td>\n",
              "      <td>[I was a person that saw all the hype and clai...</td>\n",
              "      <td>[10/10, 10/10, 10/10, 10/10, 10/10, 10/10, 10/...</td>\n",
              "      <td>Chandler_Bing_</td>\n",
              "      <td>/user/ur68129834/</td>\n",
              "      <td>[10 September 2019, 3 October 2019, 7 October ...</td>\n",
              "    </tr>\n",
              "    <tr>\n",
              "      <th>4</th>\n",
              "      <td>[ As a viewer that actually went to TIFF and w...</td>\n",
              "      <td>[I was a person that saw all the hype and clai...</td>\n",
              "      <td>[10/10, 10/10, 10/10, 10/10, 10/10, 10/10, 10/...</td>\n",
              "      <td>kdagoulis26</td>\n",
              "      <td>/user/ur33655060/</td>\n",
              "      <td>[10 September 2019, 3 October 2019, 7 October ...</td>\n",
              "    </tr>\n",
              "    <tr>\n",
              "      <th>...</th>\n",
              "      <td>...</td>\n",
              "      <td>...</td>\n",
              "      <td>...</td>\n",
              "      <td>...</td>\n",
              "      <td>...</td>\n",
              "      <td>...</td>\n",
              "    </tr>\n",
              "    <tr>\n",
              "      <th>102</th>\n",
              "      <td>[ By far the best DC movie to date, Joaquin Ph...</td>\n",
              "      <td>[Wow, what a movie! I have to admit, When I fi...</td>\n",
              "      <td>[10/10, 2/10, 1/10, 1/10, 10/10, 1/10, 10/10, ...</td>\n",
              "      <td>huntj-59716</td>\n",
              "      <td>/user/ur108786847/</td>\n",
              "      <td>[4 October 2019, 13 October 2019, 2 November 2...</td>\n",
              "    </tr>\n",
              "    <tr>\n",
              "      <th>103</th>\n",
              "      <td>[ By far the best DC movie to date, Joaquin Ph...</td>\n",
              "      <td>[Wow, what a movie! I have to admit, When I fi...</td>\n",
              "      <td>[10/10, 2/10, 1/10, 1/10, 10/10, 1/10, 10/10, ...</td>\n",
              "      <td>alics-70920</td>\n",
              "      <td>/user/ur88434867/</td>\n",
              "      <td>[4 October 2019, 13 October 2019, 2 November 2...</td>\n",
              "    </tr>\n",
              "    <tr>\n",
              "      <th>104</th>\n",
              "      <td>[ By far the best DC movie to date, Joaquin Ph...</td>\n",
              "      <td>[Wow, what a movie! I have to admit, When I fi...</td>\n",
              "      <td>[10/10, 2/10, 1/10, 1/10, 10/10, 1/10, 10/10, ...</td>\n",
              "      <td>thebradenz</td>\n",
              "      <td>/user/ur107500203/</td>\n",
              "      <td>[4 October 2019, 13 October 2019, 2 November 2...</td>\n",
              "    </tr>\n",
              "    <tr>\n",
              "      <th>105</th>\n",
              "      <td>[ By far the best DC movie to date, Joaquin Ph...</td>\n",
              "      <td>[Wow, what a movie! I have to admit, When I fi...</td>\n",
              "      <td>[10/10, 2/10, 1/10, 1/10, 10/10, 1/10, 10/10, ...</td>\n",
              "      <td>Red_Identity</td>\n",
              "      <td>/user/ur15562504/</td>\n",
              "      <td>[4 October 2019, 13 October 2019, 2 November 2...</td>\n",
              "    </tr>\n",
              "    <tr>\n",
              "      <th>106</th>\n",
              "      <td>[ By far the best DC movie to date, Joaquin Ph...</td>\n",
              "      <td>[Wow, what a movie! I have to admit, When I fi...</td>\n",
              "      <td>[10/10, 2/10, 1/10, 1/10, 10/10, 1/10, 10/10, ...</td>\n",
              "      <td>gatozangado</td>\n",
              "      <td>/user/ur23594316/</td>\n",
              "      <td>[4 October 2019, 13 October 2019, 2 November 2...</td>\n",
              "    </tr>\n",
              "  </tbody>\n",
              "</table>\n",
              "<p>107 rows × 6 columns</p>\n",
              "</div>"
            ],
            "text/plain": [
              "                                          review_title  ...                                        review_date\n",
              "0    [ As a viewer that actually went to TIFF and w...  ...  [10 September 2019, 3 October 2019, 7 October ...\n",
              "1    [ As a viewer that actually went to TIFF and w...  ...  [10 September 2019, 3 October 2019, 7 October ...\n",
              "2    [ As a viewer that actually went to TIFF and w...  ...  [10 September 2019, 3 October 2019, 7 October ...\n",
              "3    [ As a viewer that actually went to TIFF and w...  ...  [10 September 2019, 3 October 2019, 7 October ...\n",
              "4    [ As a viewer that actually went to TIFF and w...  ...  [10 September 2019, 3 October 2019, 7 October ...\n",
              "..                                                 ...  ...                                                ...\n",
              "102  [ By far the best DC movie to date, Joaquin Ph...  ...  [4 October 2019, 13 October 2019, 2 November 2...\n",
              "103  [ By far the best DC movie to date, Joaquin Ph...  ...  [4 October 2019, 13 October 2019, 2 November 2...\n",
              "104  [ By far the best DC movie to date, Joaquin Ph...  ...  [4 October 2019, 13 October 2019, 2 November 2...\n",
              "105  [ By far the best DC movie to date, Joaquin Ph...  ...  [4 October 2019, 13 October 2019, 2 November 2...\n",
              "106  [ By far the best DC movie to date, Joaquin Ph...  ...  [4 October 2019, 13 October 2019, 2 November 2...\n",
              "\n",
              "[107 rows x 6 columns]"
            ]
          },
          "metadata": {
            "tags": []
          },
          "execution_count": 8
        }
      ]
    },
    {
      "cell_type": "code",
      "metadata": {
        "id": "6VzmNhLCMEzR",
        "colab_type": "code",
        "colab": {}
      },
      "source": [
        "import urllib.request\n",
        "from bs4 import BeautifulSoup\n",
        "import pandas as pd\n",
        "url = [\"https://www.imdb.com/title/tt7286456/reviews/_ajax?ref_=undefined&paginationKey=g4wp7crmqm2dczaa7wxhfmzzrdtmsbzhzfmxvlnomwklyczuf43o6ss6oe2fjmzldj4k5tm5fjyr3a2pn6woclsokk47cma\"]\n",
        "user_names, user_links, content = [],[], []\n",
        "for u in url:\n",
        "  request = urllib.request.urlopen (u)\n",
        "  webpage  = request.read()\n",
        "  soup = BeautifulSoup(webpage)\n",
        "  #review = soup.find('select', {'class':'lister-list' })\n",
        "  content_soup=soup.find_all(\"div\", class_=\"text show-more__control\")\n",
        "  title_soup = soup.find_all(\"a\", class_=\"title\")\n",
        "  date_soup = soup.find_all(\"span\", class_=\"review-date\")\n",
        "  rating_soup = soup.find_all(\"span\", class_=\"rating-other-user-rating\")\n",
        "  users_soup = soup.find_all(\"span\", class_=\"display-name-link\" )\n",
        "  for tag in users_soup:\n",
        "    href = tag.find_all(\"a\")\n",
        "    for h in href:\n",
        "      user_links.append(h.get(\"href\"))\n",
        "      user_names. append(h.get_text())\n",
        "    content = [a.get_text() for a in content_soup]\n",
        "    title = [b.get_text() for b in title_soup]\n",
        "  date = [c.get_text() for c in date_soup]\n",
        "  rating = [(d.getText()).strip() for d in rating_soup]\n",
        "\n",
        "\n",
        "\n",
        "print(len(content_soup))\n",
        "print(len(user_names))\n",
        "print(len(user_links))\n",
        "print(len(title))\n",
        "print(len(content))\n",
        "print(len(date))\n",
        "print(len(rating))\n",
        "\n",
        "print(user_names)\n",
        "print(user_links)\n",
        "print(title)\n",
        "print(content)\n",
        "print(date)\n",
        "print(rating)\n",
        "#print(user_names[106])\n",
        "#print(rating[104])"
      ],
      "execution_count": 0,
      "outputs": []
    },
    {
      "cell_type": "code",
      "metadata": {
        "id": "7UDYmHy7Dz-B",
        "colab_type": "code",
        "colab": {}
      },
      "source": [
        "import urllib.request\n",
        "from bs4 import BeautifulSoup\n",
        "import pandas as pd\n",
        "url = [\"https://www.imdb.com/title/tt7286456/reviews/_ajax?ref_=undefined&paginationKey=g4wp7crmqm2dczaa7wxhfmzzrdtmsbzhzfmxvlnomwklyczuf43o6ss6oe2fjmzldj4k5tm5fjyr3a2pn6woclsokk47cma\"]\n",
        "user_names, user_links, title, content, date, rating = [],[], [], [], [], []\n",
        "for u in url:\n",
        "  request = urllib.request.urlopen (u)\n",
        "  webpage  = request.read()\n",
        "  soup = BeautifulSoup(webpage)\n",
        "  #review = soup.find('select', {'class':'lister-list' })\n",
        "  content_soup=soup.find_all(\"div\", class_=\"text show-more__control\")\n",
        "  title_soup = soup.find_all(\"a\", class_=\"title\")\n",
        "  date_soup = soup.find_all(\"span\", class_=\"review-date\")\n",
        "  rating_soup = soup.find_all(\"span\", class_=\"rating-other-user-rating\")\n",
        "  users_soup = soup.find_all(\"span\", class_=\"display-name-link\" )\n",
        "  for tag in users_soup:\n",
        "    href = tag.find_all(\"a\")\n",
        "    for h in href:\n",
        "      user_links.append(h.get(\"href\"))\n",
        "      user_names. append(h.get_text())\n",
        "    content.append([a.get_text() for a in content_soup])\n",
        "    title.append([b.get_text() for b in title_soup])\n",
        "    date.append([c.get_text() for c in date_soup])\n",
        "    rating.append([(d.getText()).strip() for d in rating_soup])\n",
        "\n",
        "\n",
        "\n",
        "print(len(content_soup))\n",
        "print(len(user_names))\n",
        "print(len(user_links))\n",
        "print(len(title))\n",
        "print(len(content))\n",
        "print(len(date))\n",
        "print(len(rating))\n",
        "\n",
        "print(user_names)\n",
        "print(user_links)\n",
        "print(title)\n",
        "print(content)\n",
        "print(date)\n",
        "print(rating)\n",
        "#print(user_names[106])\n",
        "#print(rating[104])"
      ],
      "execution_count": 0,
      "outputs": []
    },
    {
      "cell_type": "code",
      "metadata": {
        "id": "IshZWGtzPJrj",
        "colab_type": "code",
        "outputId": "b65fc670-7eca-4d59-e2e8-4ceeede8e321",
        "colab": {
          "base_uri": "https://localhost:8080/",
          "height": 33
        }
      },
      "source": [
        "host = [\"https://www.imdb.com/title/tt7286456/reviews?ref_=tt_urv\"]\n",
        "load_more_links = [\"https://www.imdb.com/title/tt7286456/reviews/_ajax?ref_=undefined&paginationKey=g4wp7crmqm2dczaa7wxhfmzzrdtmsbzhzfmxvlnomwklyczuf43o6ss6oe2fjmzldj4k5tm5fjyr3a2pn6woclsokk47cma\", \"https://www.imdb.com/title/tt7286456/reviews/_ajax?ref_=undefined&paginationKey=g4wp7cjmqqzde3yk7swhhmjqrxt4ohjjtzpwzouokkd2gbzgpnt6ucc2peyv5mbjb4dwdpdqzcxjfmg3k65z4tqdaz44w\", \"https://www.imdb.com/title/tt7286456/reviews/_ajax?ref_=undefined&paginationKey=g4wp7cbkqmzdizyc76wxvnzrrxs46bzhzfmxvlnomwklyczuf43o6ss6oe4vtpridv4k5vz4e43vvsqoskmtj4psbfq2qni\", \"https://www.imdb.com/title/tt7286456/reviews/_ajax?ref_=undefined&paginationKey=g4wp7cbpryzd6yab62tx7obtrtt4objhzfmxvlnomwklyczuf43o6ss6oe4f5nzldn4k4k7d72vy22axhza7lis2c2y7jzi\"]\n",
        "urls = host+load_more_links\n",
        "print(len(urls))"
      ],
      "execution_count": 0,
      "outputs": [
        {
          "output_type": "stream",
          "text": [
            "5\n"
          ],
          "name": "stdout"
        }
      ]
    },
    {
      "cell_type": "code",
      "metadata": {
        "id": "37xvw6H2QKVL",
        "colab_type": "code",
        "outputId": "81f9480b-8a24-4613-9e05-615f4cf6abe2",
        "colab": {
          "base_uri": "https://localhost:8080/",
          "height": 450
        }
      },
      "source": [
        "#generate links of loading more\n",
        "\n",
        "load_more_data = soup.find_all(\"div\", attrs={\"class\": \"load-more-data\"}) # find this button at the end of each page\n",
        "print(load_more_data)\n",
        "for item in load_more_data:\n",
        "  path_parse1 = \"https://www.imdb.com\"\n",
        "  path_parse2 = item.get(\"data-ajaxurl\")\n",
        "  path_parse3 = \"?ref_=undefined&paginationKey=\"\n",
        "  path_parse4 = item.get(\"data-key\")\n",
        "  concatenated_path = path_parse1+path_parse2+path_parse3+path_parse4\n",
        "  print(concatenated_path)\n",
        "load_more_links = [\"https://www.imdb.com/title/tt7286456/reviews/_ajax?ref_=undefined&paginationKey=g4wp7crmqm2dczaa7wxhfmzzrdtmsbzhzfmxvlnomwklyczuf43o6ss6oe2fjmzldj4k5tm5fjyr3a2pn6woclsokk47cma\", \"https://www.imdb.com/title/tt7286456/reviews/_ajax?ref_=undefined&paginationKey=g4wp7cjmqqzde3yk7swhhmjqrxt4ohjjtzpwzouokkd2gbzgpnt6ucc2peyv5mbjb4dwdpdqzcxjfmg3k65z4tqdaz44w\", \"https://www.imdb.com/title/tt7286456/reviews/_ajax?ref_=undefined&paginationKey=g4wp7cbkqmzdizyc76wxvnzrrxs46bzhzfmxvlnomwklyczuf43o6ss6oe4vtpridv4k5vz4e43vvsqoskmtj4psbfq2qni\", \"https://www.imdb.com/title/tt7286456/reviews/_ajax?ref_=undefined&paginationKey=g4wp7cbpryzd6yab62tx7obtrtt4objhzfmxvlnomwklyczuf43o6ss6oe4f5nzldn4k4k7d72vy22axhza7lis2c2y7jzi\"]\n",
        "for link in load_more_links:\n",
        "  print(link)"
      ],
      "execution_count": 0,
      "outputs": [
        {
          "output_type": "stream",
          "text": [
            "[<div class=\"load-more-data\" data-ajaxurl=\"/title/tt7286456/reviews/_ajax\" data-key=\"g4wp7crmqm2dczaa7wxhfmzzrdtmsbzhzfmxvlnomwklyczuf43o6ss6oe2fjmzldj4k5tm5fjyr3a2pn6woclsokk47cma\">\n",
            "<div class=\"ipl-load-more ipl-load-more--loaded\">\n",
            "<div class=\"ipl-load-more__load-indicator\">\n",
            "<svg class=\"ipl-dot-loader\" height=\"7px\" version=\"1.1\" viewbox=\"0 0 37 7\" width=\"37px\" xmlns=\"http://www.w3.org/2000/svg\" xmlns:xlink=\"http://www.w3.org/1999/xlink\">\n",
            "<g class=\"ipl-dot-loader__container\" fill=\"#000000\">\n",
            "<circle class=\"ipl-dot-loader__dot ipl-dot-loader__dot--one\" cx=\"3.5\" cy=\"3.5\" r=\"3.5\"></circle>\n",
            "<circle class=\"ipl-dot-loader__dot ipl-dot-loader__dot--two\" cx=\"18.5\" cy=\"3.5\" r=\"3.5\"></circle>\n",
            "<circle class=\"ipl-dot-loader__dot ipl-dot-loader__dot--three\" cx=\"33.5\" cy=\"3.5\" r=\"3.5\"></circle>\n",
            "</g>\n",
            "</svg>\n",
            "</div>\n",
            "<div class=\"ipl-message-box ipl-message-box--alert ipl-load-more__message-box ipl-load-more__message-box--hidden\">\n",
            "<svg class=\"ipl-icon ipl-alert-icon \" fill=\"#000000\" height=\"24\" viewbox=\"0 0 24 24\" width=\"24\" xmlns=\"http://www.w3.org/2000/svg\">\n",
            "<path d=\"M0 0h24v24H0z\" fill=\"none\"></path>\n",
            "<path d=\"M1 21h22L12 2 1 21zm12-3h-2v-2h2v2zm0-4h-2v-4h2v4z\"></path>\n",
            "</svg>\n",
            "<span class=\"ipl-load-more__error-text\">An error has occured. Please try again.</span>\n",
            "</div>\n",
            "<button class=\"ipl-load-more__button\" data-target-container=\"reviews-container\" id=\"load-more-trigger\">Load More</button>\n",
            "</div>\n",
            "</div>]\n",
            "https://www.imdb.com/title/tt7286456/reviews/_ajax?ref_=undefined&paginationKey=g4wp7crmqm2dczaa7wxhfmzzrdtmsbzhzfmxvlnomwklyczuf43o6ss6oe2fjmzldj4k5tm5fjyr3a2pn6woclsokk47cma\n",
            "https://www.imdb.com/title/tt7286456/reviews/_ajax?ref_=undefined&paginationKey=g4wp7crmqm2dczaa7wxhfmzzrdtmsbzhzfmxvlnomwklyczuf43o6ss6oe2fjmzldj4k5tm5fjyr3a2pn6woclsokk47cma\n",
            "https://www.imdb.com/title/tt7286456/reviews/_ajax?ref_=undefined&paginationKey=g4wp7cjmqqzde3yk7swhhmjqrxt4ohjjtzpwzouokkd2gbzgpnt6ucc2peyv5mbjb4dwdpdqzcxjfmg3k65z4tqdaz44w\n",
            "https://www.imdb.com/title/tt7286456/reviews/_ajax?ref_=undefined&paginationKey=g4wp7cbkqmzdizyc76wxvnzrrxs46bzhzfmxvlnomwklyczuf43o6ss6oe4vtpridv4k5vz4e43vvsqoskmtj4psbfq2qni\n",
            "https://www.imdb.com/title/tt7286456/reviews/_ajax?ref_=undefined&paginationKey=g4wp7cbpryzd6yab62tx7obtrtt4objhzfmxvlnomwklyczuf43o6ss6oe4f5nzldn4k4k7d72vy22axhza7lis2c2y7jzi\n"
          ],
          "name": "stdout"
        }
      ]
    },
    {
      "cell_type": "code",
      "metadata": {
        "id": "NPdP0QkuNZKm",
        "colab_type": "code",
        "outputId": "afc55f73-a8be-4aaf-ccd2-b3d2a6e3390a",
        "colab": {
          "base_uri": "https://localhost:8080/",
          "height": 33
        }
      },
      "source": [
        "from urllib.parse import urlparse\n",
        "urlparse(\"https://www.imdb.com/title/tt7286456/reviews?ref_=tt_urv\")"
      ],
      "execution_count": 0,
      "outputs": [
        {
          "output_type": "execute_result",
          "data": {
            "text/plain": [
              "ParseResult(scheme='https', netloc='www.imdb.com', path='/title/tt7286456/reviews', params='', query='ref_=tt_urv', fragment='')"
            ]
          },
          "metadata": {
            "tags": []
          },
          "execution_count": 40
        }
      ]
    },
    {
      "cell_type": "code",
      "metadata": {
        "id": "RiQF0FGegeze",
        "colab_type": "code",
        "outputId": "5fbca2a6-8615-4b53-d425-0a371c139194",
        "colab": {
          "base_uri": "https://localhost:8080/",
          "height": 100
        }
      },
      "source": [
        "# Write your code here\n",
        "# Amazon Reviews_Dell\n",
        "import requests\n",
        "from bs4 import BeautifulSoup\n",
        "import pandas as pd\n",
        "\n",
        "\n",
        "url = \"https://www.amazon.com/Dell-Inspiron-5000-5570-Laptop/product-reviews/B07N49F51N/ref=cm_cr_dp_d_show_all_btm?ie=UTF8&reviewerType=all_reviews\"\n",
        "request = requests.get (url)\n",
        "webpage  = request.text\n",
        "soup = BeautifulSoup(webpage)\n",
        "\n",
        "customer_reviews = soup.select(\"div[id='customer_review*']\")\n",
        "print(customer_reviews)\n",
        "\n",
        "content_soup=soup.find_all(\"span\", class_=\"a-size-base review-text review-text-content\")\n",
        "title_soup = soup.find_all(\"a\", attrs= {\"data-hook\": \"review-title\"})\n",
        "dateplace_soup = soup.find_all(\"span\", attrs={\"data-hook\": \"review-date\"})\n",
        "print(dateplace_soup)\n",
        "rating_soup = soup.find_all (\"i\", attrs={\"data-hook\": \"review-star-rating\"})\n",
        "print(rating_soup)\n",
        "users_soup = soup.find_all (\"div\", attrs = {\"class\": \"a-profile-content\" })\n",
        "print(users_soup)\n",
        "brand_soup = soup.find_all(\"a\", attrs = {\"data-hook\": \"format-strip\"})\n",
        "print(brand_soup)\n",
        "\n"
      ],
      "execution_count": 0,
      "outputs": [
        {
          "output_type": "stream",
          "text": [
            "[]\n",
            "[]\n",
            "[]\n",
            "[]\n",
            "[]\n"
          ],
          "name": "stdout"
        }
      ]
    },
    {
      "cell_type": "markdown",
      "metadata": {
        "id": "AfpMRCrRwN6Z",
        "colab_type": "text"
      },
      "source": [
        "# **Question 2**"
      ]
    },
    {
      "cell_type": "markdown",
      "metadata": {
        "id": "1dCQEbDawWCw",
        "colab_type": "text"
      },
      "source": [
        "(30 points). Write a python program to **clean the text data** you collected above and save the data in a new column in the csv file. The data cleaning steps include:\n",
        "\n",
        "(1) Remove noise, such as special characters and punctuations.\n",
        "\n",
        "(2) Remove numbers.\n",
        "\n",
        "(3) Remove stopwords by using the [stopwords list](https://gist.github.com/sebleier/554280).\n",
        "\n",
        "(4) Lowercase all texts\n",
        "\n",
        "(5) Stemming. \n",
        "\n",
        "(6) Lemmatization."
      ]
    },
    {
      "cell_type": "code",
      "metadata": {
        "id": "vATjQNTY8buA",
        "colab_type": "code",
        "colab": {}
      },
      "source": [
        "# Write your code here\n",
        "import nltk\n",
        "\n",
        "\n",
        "\n"
      ],
      "execution_count": 0,
      "outputs": []
    },
    {
      "cell_type": "markdown",
      "metadata": {
        "id": "E5mmYIfN8eYV",
        "colab_type": "text"
      },
      "source": [
        "# **Question 3**"
      ]
    },
    {
      "cell_type": "markdown",
      "metadata": {
        "id": "hsi2y4z88ngX",
        "colab_type": "text"
      },
      "source": [
        "(30 points). Write a python program to conduct **syntax and structure analysis** of the clean text you just saved above. The syntax and structure analysis includes: \n",
        "\n",
        "(1) Parts of Speech (POS) Tagging: Tag Parts of Speech of each word in the text, and calculate the total number of N(oun), V(erb), Adj(ective), Adv(erb), respectively.\n",
        "\n",
        "(2) Constituency Parsing and Dependency Parsing: print out the constituency parsing trees and dependency parsing trees of all the sentences. Using one sentence as an example to explain your understanding about the constituency parsing tree and dependency parsing tree.\n",
        "\n",
        "(3) Named Entity Recognition: Extract all the entities such as person names, organizations, locations, product names, and date from the clean texts, calculate the count of each entity."
      ]
    },
    {
      "cell_type": "code",
      "metadata": {
        "id": "QQKnPjPDHJHr",
        "colab_type": "code",
        "colab": {}
      },
      "source": [
        "# Write your code here\n",
        "\n",
        "\n",
        "\n",
        "\n"
      ],
      "execution_count": 0,
      "outputs": []
    },
    {
      "cell_type": "markdown",
      "metadata": {
        "id": "xWOtvT2rHNWy",
        "colab_type": "text"
      },
      "source": [
        "**Write your explanations of the constituency parsing tree and dependency parsing tree here (Question 3-2):** "
      ]
    }
  ]
}