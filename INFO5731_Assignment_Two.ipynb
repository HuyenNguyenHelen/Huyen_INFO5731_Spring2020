{
  "nbformat": 4,
  "nbformat_minor": 0,
  "metadata": {
    "colab": {
      "name": "INFO5731_Assignment_Two.ipynb",
      "provenance": [],
      "collapsed_sections": [],
      "include_colab_link": true
    },
    "kernelspec": {
      "name": "python3",
      "display_name": "Python 3"
    }
  },
  "cells": [
    {
      "cell_type": "markdown",
      "metadata": {
        "id": "view-in-github",
        "colab_type": "text"
      },
      "source": [
        "<a href=\"https://colab.research.google.com/github/HuyenNguyenHelen/Huyen_INFO5731_Spring2020/blob/master/INFO5731_Assignment_Two.ipynb\" target=\"_parent\"><img src=\"https://colab.research.google.com/assets/colab-badge.svg\" alt=\"Open In Colab\"/></a>"
      ]
    },
    {
      "cell_type": "markdown",
      "metadata": {
        "id": "USSdXHuqnwv9",
        "colab_type": "text"
      },
      "source": [
        "# **INFO5731 Assignment Two**\n",
        "\n",
        "In this assignment, you will try to gather text data from open data source via web scraping or API. After that you need to clean the text data and syntactic analysis of the data."
      ]
    },
    {
      "cell_type": "markdown",
      "metadata": {
        "id": "YWxodXh5n4xF",
        "colab_type": "text"
      },
      "source": [
        "# **Question 1**"
      ]
    },
    {
      "cell_type": "markdown",
      "metadata": {
        "id": "TenBkDJ5n95k",
        "colab_type": "text"
      },
      "source": [
        "(40 points). Write a python program to collect text data from **either of the following sources** and save the data into a **csv file**:\n",
        "\n",
        "(1) Collect all the customer reviews of the product [2019 Dell labtop](https://www.amazon.com/Dell-Inspiron-5000-5570-Laptop/dp/B07N49F51N/ref=sr_1_11?crid=1IJ7UWF2F4GHH&keywords=dell%2Bxps%2B15&qid=1580173569&sprefix=dell%2Caps%2C181&sr=8-11&th=1) on amazon.\n",
        "\n",
        "(2) Collect the top 100 User Reviews of the film [Joker](https://www.imdb.com/title/tt7286456/reviews?ref_=tt_urv) from IMDB.\n",
        "\n",
        "(3) Collect the abstracts of the top 100 research papers by using the query [natural language processing](https://citeseerx.ist.psu.edu/search?q=natural+language+processing&submit.x=0&submit.y=0&sort=rlv&t=doc) from CiteSeerX.\n",
        "\n",
        "(4) Collect the top 100 tweets by using hashtag [\"#wuhancoronovirus\"](https://twitter.com/hashtag/wuhancoronovirus) from Twitter. \n"
      ]
    },
    {
      "cell_type": "code",
      "metadata": {
        "id": "PuFPKhC0m1fd",
        "colab_type": "code",
        "outputId": "d6051cc8-ed50-4317-92ba-5bab06abfe63",
        "colab": {
          "base_uri": "https://localhost:8080/",
          "height": 137
        }
      },
      "source": [
        "# Write your code here\n",
        "import urllib.request\n",
        "from bs4 import BeautifulSoup\n",
        "url = \"https://www.imdb.com/title/tt7286456/reviews?ref_=tt_urv\"\n",
        "request = urllib.request.urlopen (url)\n",
        "webpage  = request.read()\n",
        "soup = BeautifulSoup(webpage)\n",
        "\n",
        "review = soup.find('select', {'class':'lister-list' })\n",
        "#print(review)\n",
        "title, content, date, rating = [], [], [], []\n",
        "\n",
        "content_soup=soup.find_all(\"div\", class_=\"text show-more__control\")\n",
        "title_soup = soup.find_all(\"a\", class_=\"title\")\n",
        "date_soup = soup.find_all(\"span\", class_=\"review-date\")\n",
        "rating_soup = soup.find_all(\"span\", class_=\"rating-other-user-rating\")\n",
        "users_soup = soup.find_all(\"span\", class_=\"display-name-link\" )\n",
        "for element in users_soup:\n",
        "  user_links = element.next_element\n",
        "  user_names= user_links.get_text()\n",
        "\n",
        "for a,b,c,d in zip(content_soup,title_soup, date_soup, rating_soup):\n",
        "  content.append(a.get_text())\n",
        "  title.append(b.get_text())\n",
        "  date.append(c.get_text())\n",
        "  rating.append(d.getText())\n",
        "\n",
        "\n",
        "print(content)\n",
        "print(title)\n",
        "print(date)\n",
        "print(user_links)\n",
        "print(user_names)\n",
        "print(rating)\n",
        "\n",
        "#i = item.next_element # links of users'prrofile\n",
        " # print(i.get_text())  # users'name\n",
        "#print(user)\n",
        "rating = soup.find_all(\"span\", class_=\"rating-other-user-rating\")\n",
        "\n",
        "#for r in rating:\n",
        " # print(r.getText()) # rating"
      ],
      "execution_count": 62,
      "outputs": [
        {
          "output_type": "stream",
          "text": [
            "[\"I was a person that saw all the hype and claims of masterpiece as overreacting and overblown excitement for another Joker based film. I thought this looked solid at best and even a bit too pretentious in the trailer, but in here to say I was incredibly wrong. This is a massive achievement of cinema that's extremely rare in a day and age of cgi nonsense and reboots. While this is somewhat of a reboot of sorts, the standalone origin tale is impeccable from start to finish and echoes resemblance to the best joker origin comics from the past. Joaquin bleeds, sweats, and cries his every drop into this magnificently dedicated performance. Heath Ledger would be proud. This is undoubtedly the greatest acting performance since Heath's joker. The directing and writing is slickly brilliant and the bleak settings and tones are palpable throughout. When this film was over the place was blown away and every audience member was awestruck that they witnessed a film that could still transport them into a character's world and very existence. Believe the hype. This is going to be revered as a transcending masterpiece of cinema.\", \"Every once in a while a movie comes, that truly makes an impact. Joaquin's performance and scenography in all it's brilliance. Grotesque, haunting and cringy. Hard to watch at times,... but so mesmerizing, you won't blink an eye watching it. Tragic, but with seriously funny moments. Emotional rollercoaster - sometimes, with multiple emotions popping-up at the same time.this is far from a typical action-riddled predictable super-hero movie - it's a proper psychological thriller/drama, with the single best character development I have ever seen.\", 'This is a movie that only those who have felt alone and isolated can truly relate to it. You understand the motive and you feel sorry for the character. A lot of people will see this movie and think that it encourages violence. But truly, this movie should encourage each and every one of us to become a better person, treat everyone with respect and make each other feel like they belong in this world, instead of making them feel isolated.', 'Joker is a story of an average man and a life of suffering. The rudeness, bullying, neglect of one human being to another just because he\\'s different or weaker, plus the daily psychological and materialistic life pressures and how all of this can help delivering a man to the hands of madness.The plot tells the story of a man who lives a hard life...psychological issues, financial problems, mistreated and misunderstood by most around him and his journey to madness. Not accurate to the origin stories in neither comic books nor animation, yet it\\'s a very refreshing and mature dark take on the clown prince of crime character which I hope to be developed into a mature dark DC movies universe.The film is an outstanding experience of the movie making art on every level. I practically can see an Oscar for \"Joaquin\" just for his performance in the TV show interview scene and how realistic, pure, raw angry, mad and brutal it feels, not to mention his acting throughout the whole movie!What I take on this film is the lack of an effective positive character, the plot should have shed some light on a least one positive key figures. After all, not all human beings are rude and have a negative selfish influence on their society.Joker to me is a life journey, many may feel sympathy for him, some may even feel related to him or to what he has socially experienced while others will deny his actions. It\\'s very understood to have mixed feelings about this film, I know this movie will be perceived by each viewer differently basically according to their life experiences, how they were raised and may be even their moral values.I for one believe that it should not be misunderstood as an incitement to violence but more of a wake up call for all of us, a fresh look at ourselves and our social actions towards everyone we encounter in our lives and deeply reconsider how we treat each other in our daily lives and how it can shape our future society.', \"Truly a masterpiece, The Best film of 2019, one of the Best films of the decade... And TRULY the Best film to bring a comic book so chillingly and realistically to real ife.\\nRemarkable Direction, Cinematography, Music and the Acting.\\nI don't understand why critics are surprised to find it DISTURBING and VIOLENT, when the title character is infamous for it and fans were already rooting for this.\\nOSCARS are on their way!\", 'Most of the time movies are anticipated like this they end up falling short, way short. Joker is the first time I was more than happy with the hype. Please ignore the complaints of \"pernicious violence\" as they are embarrassing to say the least. We haven\\'t seen a comic movie this real before. If we ever \"deserved\" a better class of criminal - Phillips and Phoenix have delivered. This is dark, Joker IS dark and you will fall in love with the villain as you should. The bad guys are always more romantic anyway.', \"Joaquin Phoenix gives a tour de force performance, fearless and stunning in its emotional depth and physicality. It's impossible to talk about this without referencing Heath Ledger's Oscar-winning performance from The Dark Knight, widely considered the definitive live-action portrayal of the Joker, so let's talk about it. The fact is, everyone is going to be stunned by what Phoenix accomplishes, because it's what many thought impossible - a portrayal that matches and potentially exceeds that of The Dark Knight's Clown Prince of Crime\", \"Let me start off by saying if Joaquin Phoneix doesn't get his Oscar for this movie. Then the Oscars should be cancelled. Phoneix is amazing as you might've heard from every review ever! But Todd Phillips. Is at his best here. The story lines he takes and visuals are just breathtaking. The score!! Omg the Score! Every time that score came on, I felt very uncomfortable, like something horrible was about to happen. It was GREAT. The Inspirations from Taxi Driver and King of Comedy are there, and add so much for the movie. And I got to be honest. There are scenes that are very violent. And its disturbing. But I honestly expected it to be WAYYYY more violent from all the controversy going on. Overall this movie was GREAT. Come Oscar season, it needs to be nominated for Best Picture, ScreenPlay, Cinematography, Actor, Score and Director\", \"I get why some people hate this . It's because of the political message and how some people think that you need get empathy for Arthur's madness. But come on that is not the point and it will never be. Enjoy this masterpiece because Joaquin Phoenix and Todd Phillips overdid themselves with this movie . The acting,music and cinematography are just amazing ! Please enjoy the movie without overthinking it.\", \"I have seen Joker yesterday at Venice an early ill-fated screening. We had some trouble with audio that lead to a near-hour delay, but it definitely was worth it.Joker deserved to be presented at Venice Film Festival, an event that regards cinema as a form of art, because this film is far from a blockbuster or a mere entertainer movie, as most films in the genre are.It focuses on the psyche of the main character, as it slowly crumbles under the pressure of society. And thus, Joaquin Phoenix does a wonderful performance, earning almost surely a nomination at the oscars at least.\\nIt's a take on the Joker that differs from Ledger's, but I'd say that both are equally as good. The main difference might be that Ledger's joker is a rational that acts insane, while Phoenix's is insane to the root.Despite being a movie about a superhero villain, Joker is much superior to most of the movies of the genre (I'd exclude the Dark Knight Trilogy only, but Joker is easily as good as Nolan's movies, or at least very close). It is a small-scaled film, with a distinct style and cinematography (that cannot but be appreciated) and a set of very cinephile references that however do not feel too forced or overly opressive. (most notable are the similarities to Scorsese's 'Taxi Driver' and his 'The King of Comedy', but also Chaplin's 'Modern Times' is somewhat referenced).I am eager to see more non-comedic efforts by Todd Phillips. This movie was so far probably the best of 2019 (at worst contested so far only by Dolor Y Gloria or Once Upon a Time in Hollywood), and that should be very convincing.\", \"It's sad that Joaquin missed Oscar for 'The gladiator' as he was very compelling Villain. But I am quite confident he will win it for the 'Joker'. Damn what a movie !!! Keeps u on the toes all the time. Unpredictable storyline and really a deep interesting plot. Did I forget to mention acting ? Damn Do niro and Joaquin teach u what really is 5 star acting.\\nTo enjoy this movie, get a wine in your hand, close the curtains, turn of ur cellphones and put do not disturb sign on ur door. Best Dark thriller suspense movie you will get to experience.\", 'I have just watched the Joker in Venice and I will say if Joaquin doesn\\'t get an Oscar this year then something is wrong with this world. This perfomance is just jaw-dropping, it glues you to the screen and doesn\\'t let go till the end. Story is very good and has some interesting connections with Batman lore(especially one you can\\'t guess from trailers). There are some scenes that are so tense ,well-acted and imaginative that push this movie to 10. Cinematography and direction are great, Todd has proven himself as a director. Robert is also good in his \"small\" role. Will definitely see it again as soon as it out in October.', 'This movie causes the audience to consider many topics on morality, particularly the poor choices made by the Joker. The Joker is more relatable in this movie than antagonists usually are. I think this gives a more realistic view of \"bad\" people, who are not usually 100% bad in all ways as society often judges. It is important to know when to sympathize with the Joker (towards the beginning of the movie), and when he needs to be identified as a threat (when he begins making certain bad choices). This movie is only suitable for adults who are willing to pick it apart and think critically about it. It isn\\'t for light amusement. That substance is what makes it so good.If you aren\\'t able to ponder underlying themes on your own, and you have to be handed all your thoughts to you, then this isn\\'t the best movie for you.', 'The acting, cinematography, sound design, and the script itself is phenomenal. This movie is a triumph. Joaquin Pheonix deserves an Oscar win for this tbh.', 'I will stop watching movies if Joaquin Phoenix is not awarded Oscar for his tremendous acting.', 'The movie affects you in a way that makes it physically painful to experience, but in a good way.', \"I quit relying on critic reviews years ago... I noticed for this movie that the critics ratings were low but viewer ratings were high. That being said, what is the point of a critic when for this movie, they are oh so wrong.\\nI went and saw this tonite with my mom. I went in skeptical and w some what low expectations. I knew not to expect your typical super hero movie.\\nWhat we got was a masterpiece. I went in expecting sheer boredom and I was instead on the edge of my seat the whole time. Not action edge of your seat, it was a fear of what he may do or say next edge of your seat. To see this character evolve into what we all know as the #1 villain of Batman was beyond genius and Joaquin Phoenix is a true master at perfecting the art of consuming himself into this character. I may be all over the place with this but I don't care. This movie, the story, the acting, directing, effects, everyone brought their A game and JP definitely deserves a nod and win for this role. And no, there is no comparison here to Jack Nicholson or Heath Ledger. Each actor took on this character and different levels, different story points and different points in time, so any comparison would just not be feasible or fair to any of the actors as they embraced him and made him come to life in their own genius way!\", \"Need I say more? Everything about this Movie is Masterful in every single way! Joker isn't just an awesome comic book movie, it's an awesome movie, period. It offers no easy answers to the unsettling questions it raises about a cruel society in decline. Joaquin Phoenix's fully committed performance and Todd Phillips' masterful albeit loose reinvention of the DC source material make Joker a film that should leave comic book fans and non-fans alike disturbed and moved in all the right ways.\", \"Joker is directed by Todd Philips and stars Joaquin Phoenix as Arthur Fleck, a man disregarded and thrown out of society.We live in an era in which formulaic comic book movies are more and more common. Joker not only proves that you can make a comic book movie without a villain but also proves that comic book movies can be used as psychological studies reflecting on how our society views and treats mental health issues of certain individuals.If I had to describe Joaquin Phoenix as the Joker in one word it would be mesmerising. His take on the iconic comic book character is filled with emotional depth to the point where it's almost painful to watch and flawlessly realistic making it one of the best performances of the decade.The cinematography is also something to note. It is full of gorgeous shots with a beautiful colour palette making it's shot composition and structure heavily differ from most comic book films.The score is very minimalistic but every time it comes on it feels unsettling and haunting which adds to the suspense of the story.My biggest and only issue with Joker is that it's too inspired by Scorsese's King of Comedy and Taxi Driver making the majority of the film predictable. However, making it predictable didn't take away much from its quality and only made it more unsettling because we can see the degradation of Joker's mind before it happens making this film more depressing.I wouldn't really call Joker a comic book movie. Yes, it's based on a comic book and depicts arguably the most iconic comic book character of all time, but it stands alone among dozens of its predecessors as a psychological drama that reflects on society and its issues rather than a fantasy world.Overall, Joker is a brilliant take on the character, however, it's not for the faint of heart or narrow-minded and prejudiced people.Final Grade - 9/10\", \"There is no doubt that the movie was well thought of - from the plot to execution. I must praise Phoenix's superb acting. He managed to portray very believably the awkward social reject and also the crazy murderer that he became. I really think it's a role only few could do. It was also very interesting to watch how he deteriorated mentally and little by little gave up on trying to fit into society. Gotta hand it to the script writer - the plot was unpredictable.But...There wasn't anything too complex about Arthur's mental state. No deep psychological analysis, or a web of many deep factors that created a one of a kind psychotic maniac. Could it be that I was expecting too much? Very possible since I came with very high expectations after reading some reviews.\\nWhat doesn't have anything with expectations is that at the end he didn't remind much of the original Joker. He felt more like a simply society reject that went completely crazy and started killing people. Not that much different from many other serial killers or mass murderers. He didn't have the master mind that so much designated the Joker and made him different from a simple murderer.\\nAnother thing is that there were long parts of the movie that felt very dull.\\nAlso I found it hard to buy the reason behind the riots in the city and the role the Joker played in them. Even if taken into account that the poverty and anger was cooking for a long time in that society, it still feels somewhat absurd that killing three people in the subway made the joker so notorious.\\nIn conclusion, I can identify with the character which gave me a lasting impression of the movie, and this movie could have been very great if it was a movie about how a person that's rejected by society turns slowly into a serial killer. But as a movie about the Joker I felt it was lacking. Lacking the things that made the Joker actually the Joker, and not just another crazy murderer.\", \"Joaquin Phoenix IS the joker. Phoenix gave a performance that felt like a mixture of Heath Ledger's joker, Jack Nicholson's joker, and Alex in A Clockwork Orange:Overall, this movie was a trip to say the least. Cinematography was very good, and the soundtrack set the perfect mood for the film for the most part. The acting and plot are what sold it though. Phoenix made me forget that the character was one I had seen before in other movies. His performance mixed with the overall feel and plot of the movie made me leave the theater feeling like I too had just taken a descent into madness.I've never been a very big fan of superhero movies so I was a little weary going into the movie, but this had absolutely nothing to do with anything superhero related other than the characters. I loved this movie and will definitely see it again. It was just what I hoped it would be.\", 'Do not really understand all the tens here. Sure, a good movie, good acting, nice shooting. But the plot is not so intriguing. At times it is really long and somewhat boring. I needed to double-check the genre to see if this is a drama or what. Crime, drama, thriller it said. I would put it maybe 90% in the drama and rest in thriller.I miss more dialogue, more depth, more substance. The plot is really not more then a somewhat crazy person becoming a bit crazier. Sure there is an undertone in that it is society and the system and the mean character of people that is bringing him down and creating the evil beast which later wants to destroy everything. Absolutely, but I think it is not intriguing story and plot and dialogue enough to give this a ten.Worthy of watching, yes. But not amazing', \"I thought this film was good but I just don't get the hype personally. The acting was amazing and the film was good overall but I think 'masterpiece' and 'film of the year' are a bit overused throughout the reviews. In no way did I dislike this film, I thought it was really good, just overhyped. I feel as though a lot of the 10/10 reviews are purely based on the fact that it already has amazing reviews and so people want to carry the praise further and that it is about the joker. If this film was released and was about some random guy in the same situation, I don't think the reviews would be as high but maybe that's the point.\", \"I went into this film expecting an all-time classic based on the reviews I had read & what I ended up watching was just a decent film overall. Phoenix is outstanding...so he definitely did his part. But I feel like if you've seen the trailers you've seen the movie because the best way I can describe this film is it feels like a 2 hour version of the trailer. At 2 hours it's a relatively common runtime, but it felt a lot longer...which isn't good. I'd say this is much more of a rental than a theater movie. Kinda just....eh.\", \"Joaquin Phoenix gives Heath Ledger a run for his money, true story. This is not a popcorn fluff comic book flick. DO NOT TAKE YOUR KIDS TO SEE THIS MOVIE. Shut down all ballots for the Oscar, Joaquin is taking that one home hands down. One of the best origin stories EVER put out. The only downside to this movie, is that it is a stand alone film that will have no sequels or ties to the DC Universe. Todd Philips take on the Joker is one of pure brilliance and Joaquin Phoenix was the Joker we deserved. He didn't steal from Jack or Heath but yet you got a taste of both.\"]\n",
            "[\" As a viewer that actually went to TIFF and witnessed this film and didn't want to believe the hype, it is an absolute MASTERPIECE and Phoenix is a certified legend.\\n\", ' Outstanding movie with a haunting performance and best character development ever seen\\n', ' Only certain people can relate\\n', ' Unique in Almost Every Way.\\n', \" Must have put a SMILE of Satisfaction on Heath Ledger's Face, right in the Heaven!\\n\", ' The Hype is real\\n', ' MASTERPIECE 😍\\n', ' JUST AMAZING. How does this movie exist.\\n', ' Went for a second time to watch\\n', ' A psychological study, rather than a superhero flick\\n', \" Joaquin 'OSCAR', Joker = best Dark suspense thriller ... Darker than dark Knight.\\n\", ' Venice 76 review\\n', ' Finally, a REAL movie\\n', ' Good lord\\n', ' Oscar for Phoenix\\n', ' Not a spoon feeding of CGI fueled faux drama.\\n', ' Critics are useless!\\n', ' Joker > Endgame\\n', \" Don't (forget to) smile.\\n\", ' I would not call it a masterpiece as some did\\n', \" One of the best acting performances I've ever seen\\n\", ' OK film\\n', ' Between a 7 and an 8\\n', ' Extremely overrated\\n', ' BELIEVE THE HYPE\\n']\n",
            "['10 September 2019', '3 October 2019', '7 October 2019', '1 January 2020', '1 September 2019', '4 October 2019', '1 September 2019', '4 October 2019', '3 October 2019', '1 September 2019', '1 September 2019', '1 September 2019', '4 October 2019', '6 October 2019', '3 October 2019', '5 October 2019', '6 October 2019', '2 September 2019', '1 December 2019', '15 October 2019', '4 October 2019', '9 January 2020', '6 October 2019', '23 October 2019', '4 October 2019']\n",
            "<a href=\"/user/ur75241525/\">j_bone-43816</a>\n",
            "j_bone-43816\n",
            "['\\n\\n\\n\\n\\n\\n10/10\\n', '\\n\\n\\n\\n\\n\\n10/10\\n', '\\n\\n\\n\\n\\n\\n10/10\\n', '\\n\\n\\n\\n\\n\\n8/10\\n', '\\n\\n\\n\\n\\n\\n10/10\\n', '\\n\\n\\n\\n\\n\\n10/10\\n', '\\n\\n\\n\\n\\n\\n10/10\\n', '\\n\\n\\n\\n\\n\\n10/10\\n', '\\n\\n\\n\\n\\n\\n10/10\\n', '\\n\\n\\n\\n\\n\\n10/10\\n', '\\n\\n\\n\\n\\n\\n10/10\\n', '\\n\\n\\n\\n\\n\\n10/10\\n', '\\n\\n\\n\\n\\n\\n10/10\\n', '\\n\\n\\n\\n\\n\\n10/10\\n', '\\n\\n\\n\\n\\n\\n10/10\\n', '\\n\\n\\n\\n\\n\\n9/10\\n', '\\n\\n\\n\\n\\n\\n10/10\\n', '\\n\\n\\n\\n\\n\\n10/10\\n', '\\n\\n\\n\\n\\n\\n9/10\\n', '\\n\\n\\n\\n\\n\\n7/10\\n', '\\n\\n\\n\\n\\n\\n9/10\\n', '\\n\\n\\n\\n\\n\\n7/10\\n', '\\n\\n\\n\\n\\n\\n7/10\\n', '\\n\\n\\n\\n\\n\\n6/10\\n', '\\n\\n\\n\\n\\n\\n10/10\\n']\n"
          ],
          "name": "stdout"
        }
      ]
    },
    {
      "cell_type": "code",
      "metadata": {
        "id": "NPdP0QkuNZKm",
        "colab_type": "code",
        "colab": {}
      },
      "source": [
        "from tweepy.streaming import StreamListener\n",
        "from tweepy import OAuthHandler\n",
        "from tweepy import Stream"
      ],
      "execution_count": 0,
      "outputs": []
    },
    {
      "cell_type": "markdown",
      "metadata": {
        "id": "AfpMRCrRwN6Z",
        "colab_type": "text"
      },
      "source": [
        "# **Question 2**"
      ]
    },
    {
      "cell_type": "markdown",
      "metadata": {
        "id": "1dCQEbDawWCw",
        "colab_type": "text"
      },
      "source": [
        "(30 points). Write a python program to **clean the text data** you collected above and save the data in a new column in the csv file. The data cleaning steps include:\n",
        "\n",
        "(1) Remove noise, such as special characters and punctuations.\n",
        "\n",
        "(2) Remove numbers.\n",
        "\n",
        "(3) Remove stopwords by using the [stopwords list](https://gist.github.com/sebleier/554280).\n",
        "\n",
        "(4) Lowercase all texts\n",
        "\n",
        "(5) Stemming. \n",
        "\n",
        "(6) Lemmatization."
      ]
    },
    {
      "cell_type": "code",
      "metadata": {
        "id": "vATjQNTY8buA",
        "colab_type": "code",
        "colab": {}
      },
      "source": [
        "# Write your code here\n",
        "\n",
        "\n",
        "\n"
      ],
      "execution_count": 0,
      "outputs": []
    },
    {
      "cell_type": "markdown",
      "metadata": {
        "id": "E5mmYIfN8eYV",
        "colab_type": "text"
      },
      "source": [
        "# **Question 3**"
      ]
    },
    {
      "cell_type": "markdown",
      "metadata": {
        "id": "hsi2y4z88ngX",
        "colab_type": "text"
      },
      "source": [
        "(30 points). Write a python program to conduct **syntax and structure analysis** of the clean text you just saved above. The syntax and structure analysis includes: \n",
        "\n",
        "(1) Parts of Speech (POS) Tagging: Tag Parts of Speech of each word in the text, and calculate the total number of N(oun), V(erb), Adj(ective), Adv(erb), respectively.\n",
        "\n",
        "(2) Constituency Parsing and Dependency Parsing: print out the constituency parsing trees and dependency parsing trees of all the sentences. Using one sentence as an example to explain your understanding about the constituency parsing tree and dependency parsing tree.\n",
        "\n",
        "(3) Named Entity Recognition: Extract all the entities such as person names, organizations, locations, product names, and date from the clean texts, calculate the count of each entity."
      ]
    },
    {
      "cell_type": "code",
      "metadata": {
        "id": "QQKnPjPDHJHr",
        "colab_type": "code",
        "colab": {}
      },
      "source": [
        "# Write your code here\n",
        "\n",
        "\n",
        "\n",
        "\n"
      ],
      "execution_count": 0,
      "outputs": []
    },
    {
      "cell_type": "markdown",
      "metadata": {
        "id": "xWOtvT2rHNWy",
        "colab_type": "text"
      },
      "source": [
        "**Write your explanations of the constituency parsing tree and dependency parsing tree here (Question 3-2):** "
      ]
    }
  ]
}