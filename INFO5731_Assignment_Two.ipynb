{
  "nbformat": 4,
  "nbformat_minor": 0,
  "metadata": {
    "colab": {
      "name": "INFO5731_Assignment_Two.ipynb",
      "provenance": [],
      "collapsed_sections": [],
      "include_colab_link": true
    },
    "kernelspec": {
      "name": "python3",
      "display_name": "Python 3"
    }
  },
  "cells": [
    {
      "cell_type": "markdown",
      "metadata": {
        "id": "view-in-github",
        "colab_type": "text"
      },
      "source": [
        "<a href=\"https://colab.research.google.com/github/HuyenNguyenHelen/Huyen_INFO5731_Spring2020/blob/master/INFO5731_Assignment_Two.ipynb\" target=\"_parent\"><img src=\"https://colab.research.google.com/assets/colab-badge.svg\" alt=\"Open In Colab\"/></a>"
      ]
    },
    {
      "cell_type": "markdown",
      "metadata": {
        "id": "USSdXHuqnwv9",
        "colab_type": "text"
      },
      "source": [
        "# **INFO5731 Assignment Two**\n",
        "\n",
        "In this assignment, you will try to gather text data from open data source via web scraping or API. After that you need to clean the text data and syntactic analysis of the data."
      ]
    },
    {
      "cell_type": "markdown",
      "metadata": {
        "id": "YWxodXh5n4xF",
        "colab_type": "text"
      },
      "source": [
        "# **Question 1**"
      ]
    },
    {
      "cell_type": "markdown",
      "metadata": {
        "id": "TenBkDJ5n95k",
        "colab_type": "text"
      },
      "source": [
        "(40 points). Write a python program to collect text data from **either of the following sources** and save the data into a **csv file**:\n",
        "\n",
        "(1) Collect all the customer reviews of the product [2019 Dell labtop](https://www.amazon.com/Dell-Inspiron-5000-5570-Laptop/dp/B07N49F51N/ref=sr_1_11?crid=1IJ7UWF2F4GHH&keywords=dell%2Bxps%2B15&qid=1580173569&sprefix=dell%2Caps%2C181&sr=8-11&th=1) on amazon.\n",
        "\n",
        "(2) Collect the top 100 User Reviews of the film [Joker](https://www.imdb.com/title/tt7286456/reviews?ref_=tt_urv) from IMDB.\n",
        "\n",
        "(3) Collect the abstracts of the top 100 research papers by using the query [natural language processing](https://citeseerx.ist.psu.edu/search?q=natural+language+processing&submit.x=0&submit.y=0&sort=rlv&t=doc) from CiteSeerX.\n",
        "\n",
        "(4) Collect the top 100 tweets by using hashtag [\"#wuhancoronovirus\"](https://twitter.com/hashtag/wuhancoronovirus) from Twitter. \n"
      ]
    },
    {
      "cell_type": "code",
      "metadata": {
        "id": "PuFPKhC0m1fd",
        "colab_type": "code",
        "colab": {}
      },
      "source": [
        "# Write your code here\n",
        "import urllib.request\n",
        "from bs4 import BeautifulSoup\n",
        "import pandas as pd\n",
        "\n",
        "url = \"https://www.imdb.com/title/tt7286456/reviews?ref_=tt_urv\"\n",
        "request = urllib.request.urlopen (url)\n",
        "webpage  = request.read()\n",
        "soup = BeautifulSoup(webpage)\n",
        "\n",
        "review = soup.find('select', {'class':'lister-list' })\n",
        "#print(review)\n",
        "\n",
        "content_soup=soup.find_all(\"div\", class_=\"text show-more__control\")\n",
        "title_soup = soup.find_all(\"a\", class_=\"title\")\n",
        "date_soup = soup.find_all(\"span\", class_=\"review-date\")\n",
        "rating_soup = soup.find_all(\"span\", class_=\"rating-other-user-rating\")\n",
        "users_soup = soup.find_all(\"span\", class_=\"display-name-link\" )\n",
        "\n",
        "user_names, user_links = [],[]\n",
        "for tag in users_soup:\n",
        "  href = tag.find_all(\"a\")\n",
        "  for h in href:\n",
        "   user_links.append(h.get(\"href\"))\n",
        "   user_names. append(h.get_text())\n",
        "\n",
        "title, content, date, rating = [], [], [], []\n",
        "for a,b,c,d,e in zip(content_soup,title_soup, date_soup, rating_soup, users_soup):\n",
        "  content.append(a.get_text())\n",
        "  title.append(b.get_text())\n",
        "  date.append(c.get_text())\n",
        "  rating.append((d.getText()).strip())\n",
        "\n",
        "dict = {\"review_title\": title, \"review_content\": content, \"rates\": rating,  \"reviewer\": user_names, \"reviewer_profile_link\": user_links, \"review_date\": date}\n",
        "df = pd.DataFrame(dict)\n",
        "df\n",
        "with open(\"E:\\Helen\\INFO5731_Assignment2\\Joke_reviews.csv\", \"w\", newline=\"\") as file:\n",
        "  df.to_csv(file)\n",
        "with open(\"E:\\Helen\\INFO5731_Assignment2\\Joke_reviews.csv\", \"r\") as file:\n",
        "  pd.read_csv(file)\n",
        "\n"
      ],
      "execution_count": 0,
      "outputs": []
    },
    {
      "cell_type": "code",
      "metadata": {
        "id": "37xvw6H2QKVL",
        "colab_type": "code",
        "outputId": "40282213-d351-42a5-d888-0563af7cdb07",
        "colab": {
          "base_uri": "https://localhost:8080/",
          "height": 33
        }
      },
      "source": [
        "#generate links of loading more\n",
        "def next_page ():\n",
        "  load_more_data = soup.find(\"div\", class_=\"load-more-data\" ) # find this button at the end of each page\n",
        "  #print(load_more_data)\n",
        "  path_parse1 = \"https://www.imdb.com\"\n",
        "  path_parse2 = load_more_data.get(\"data-ajaxurl\")\n",
        "  path_parse3 = \"?ref_=undefined&paginationKey=\"\n",
        "  path_parse4 = load_more_data.get(\"data-key\")\n",
        "  concatenated_path = path_parse1+path_parse2+path_parse3+path_parse4\n",
        "  print(concatenated_path)\n"
      ],
      "execution_count": 0,
      "outputs": [
        {
          "output_type": "stream",
          "text": [
            "https://www.imdb.com/title/tt7286456/reviews/_ajax?ref_=undefined&paginationKey=g4wp7crnqq5dgzqh7kwxtnrzrdtmwbbhzfmxvlnomwklyczuf43o6ss6oe3v3nzidb4k4b2nzddokl2hrk4s66zdfw4aidq\n"
          ],
          "name": "stdout"
        }
      ]
    },
    {
      "cell_type": "code",
      "metadata": {
        "id": "NPdP0QkuNZKm",
        "colab_type": "code",
        "outputId": "afc55f73-a8be-4aaf-ccd2-b3d2a6e3390a",
        "colab": {
          "base_uri": "https://localhost:8080/",
          "height": 33
        }
      },
      "source": [
        "from urllib.parse import urlparse\n",
        "urlparse(\"https://www.imdb.com/title/tt7286456/reviews?ref_=tt_urv\")"
      ],
      "execution_count": 0,
      "outputs": [
        {
          "output_type": "execute_result",
          "data": {
            "text/plain": [
              "ParseResult(scheme='https', netloc='www.imdb.com', path='/title/tt7286456/reviews', params='', query='ref_=tt_urv', fragment='')"
            ]
          },
          "metadata": {
            "tags": []
          },
          "execution_count": 40
        }
      ]
    },
    {
      "cell_type": "code",
      "metadata": {
        "id": "RiQF0FGegeze",
        "colab_type": "code",
        "outputId": "d715f78f-1839-4c07-fc3b-8f497af840b7",
        "colab": {
          "base_uri": "https://localhost:8080/",
          "height": 100
        }
      },
      "source": [
        "# Write your code here\n",
        "# Amazon Reviews_Dell\n",
        "import requests\n",
        "from bs4 import BeautifulSoup\n",
        "import pandas as pd\n",
        "\n",
        "\n",
        "url = \"https://www.amazon.com/Dell-Inspiron-5000-5570-Laptop/product-reviews/B07N49F51N/ref=cm_cr_dp_d_show_all_btm?ie=UTF8&reviewerType=all_reviews\"\n",
        "request = requests.get (url)\n",
        "webpage  = request.text\n",
        "soup = BeautifulSoup(webpage)\n",
        "\n",
        "customer_reviews = soup.select(\"div[id='customer_review*']\")\n",
        "print(customer_reviews)\n",
        "\n",
        "content_soup=soup.find_all(\"span\", class_=\"a-size-base review-text review-text-content\")\n",
        "title_soup = soup.find_all(\"a\", attrs= {\"data-hook\": \"review-title\"})\n",
        "dateplace_soup = soup.find_all(\"span\", attrs={\"data-hook\": \"review-date\"})\n",
        "print(dateplace_soup)\n",
        "rating_soup = soup.find_all (\"i\", attrs={\"data-hook\": \"review-star-rating\"})\n",
        "print(rating_soup)\n",
        "users_soup = soup.find_all (\"div\", attrs = {\"class\": \"a-profile-content\" })\n",
        "print(users_soup)\n",
        "brand_soup = soup.find_all(\"a\", attrs = {\"data-hook\": \"format-strip\"})\n",
        "print(brand_soup)\n",
        "\n"
      ],
      "execution_count": 80,
      "outputs": [
        {
          "output_type": "stream",
          "text": [
            "[]\n",
            "[]\n",
            "[]\n",
            "[]\n",
            "[]\n"
          ],
          "name": "stdout"
        }
      ]
    },
    {
      "cell_type": "code",
      "metadata": {
        "id": "wBj4af7mhJ5V",
        "colab_type": "code",
        "colab": {}
      },
      "source": [
        "review = soup.find('select', {'class':'lister-list' })\n",
        "#print(review)\n",
        "\n",
        "content_soup=soup.find_all(\"div\", class_=\"text show-more__control\")\n",
        "title_soup = soup.find_all(\"a\", class_=\"title\")\n",
        "date_soup = soup.find_all(\"span\", class_=\"review-date\")\n",
        "rating_soup = soup.find_all(\"span\", class_=\"rating-other-user-rating\")\n",
        "users_soup = soup.find_all(\"span\", class_=\"display-name-link\" )\n",
        "\n",
        "user_names, user_links = [],[]\n",
        "for tag in users_soup:\n",
        "  href = tag.find_all(\"a\")\n",
        "  for h in href:\n",
        "   user_links.append(h.get(\"href\"))\n",
        "   user_names. append(h.get_text())\n",
        "\n",
        "title, content, date, rating = [], [], [], []\n",
        "for a,b,c,d,e in zip(content_soup,title_soup, date_soup, rating_soup, users_soup):\n",
        "  content.append(a.get_text())\n",
        "  title.append(b.get_text())\n",
        "  date.append(c.get_text())\n",
        "  rating.append((d.getText()).strip())\n",
        "\n",
        "dict = {\"review_title\": title, \"review_content\": content, \"rates\": rating,  \"reviewer\": user_names, \"reviewer_profile_link\": user_links, \"review_date\": date}\n",
        "df = pd.DataFrame(dict)\n",
        "df\n",
        "with open(\"E:\\Helen\\INFO5731_Assignment2\\Joke_reviews.csv\", \"w\", newline=\"\") as file:\n",
        "  df.to_csv(file)\n",
        "with open(\"E:\\Helen\\INFO5731_Assignment2\\Joke_reviews.csv\", \"r\") as file:\n",
        "  pd.read_csv(file)\n"
      ],
      "execution_count": 0,
      "outputs": []
    },
    {
      "cell_type": "markdown",
      "metadata": {
        "id": "AfpMRCrRwN6Z",
        "colab_type": "text"
      },
      "source": [
        "# **Question 2**"
      ]
    },
    {
      "cell_type": "markdown",
      "metadata": {
        "id": "1dCQEbDawWCw",
        "colab_type": "text"
      },
      "source": [
        "(30 points). Write a python program to **clean the text data** you collected above and save the data in a new column in the csv file. The data cleaning steps include:\n",
        "\n",
        "(1) Remove noise, such as special characters and punctuations.\n",
        "\n",
        "(2) Remove numbers.\n",
        "\n",
        "(3) Remove stopwords by using the [stopwords list](https://gist.github.com/sebleier/554280).\n",
        "\n",
        "(4) Lowercase all texts\n",
        "\n",
        "(5) Stemming. \n",
        "\n",
        "(6) Lemmatization."
      ]
    },
    {
      "cell_type": "code",
      "metadata": {
        "id": "vATjQNTY8buA",
        "colab_type": "code",
        "colab": {}
      },
      "source": [
        "# Write your code here\n",
        "\n",
        "\n",
        "\n"
      ],
      "execution_count": 0,
      "outputs": []
    },
    {
      "cell_type": "markdown",
      "metadata": {
        "id": "E5mmYIfN8eYV",
        "colab_type": "text"
      },
      "source": [
        "# **Question 3**"
      ]
    },
    {
      "cell_type": "markdown",
      "metadata": {
        "id": "hsi2y4z88ngX",
        "colab_type": "text"
      },
      "source": [
        "(30 points). Write a python program to conduct **syntax and structure analysis** of the clean text you just saved above. The syntax and structure analysis includes: \n",
        "\n",
        "(1) Parts of Speech (POS) Tagging: Tag Parts of Speech of each word in the text, and calculate the total number of N(oun), V(erb), Adj(ective), Adv(erb), respectively.\n",
        "\n",
        "(2) Constituency Parsing and Dependency Parsing: print out the constituency parsing trees and dependency parsing trees of all the sentences. Using one sentence as an example to explain your understanding about the constituency parsing tree and dependency parsing tree.\n",
        "\n",
        "(3) Named Entity Recognition: Extract all the entities such as person names, organizations, locations, product names, and date from the clean texts, calculate the count of each entity."
      ]
    },
    {
      "cell_type": "code",
      "metadata": {
        "id": "QQKnPjPDHJHr",
        "colab_type": "code",
        "colab": {}
      },
      "source": [
        "# Write your code here\n",
        "\n",
        "\n",
        "\n",
        "\n"
      ],
      "execution_count": 0,
      "outputs": []
    },
    {
      "cell_type": "markdown",
      "metadata": {
        "id": "xWOtvT2rHNWy",
        "colab_type": "text"
      },
      "source": [
        "**Write your explanations of the constituency parsing tree and dependency parsing tree here (Question 3-2):** "
      ]
    }
  ]
}