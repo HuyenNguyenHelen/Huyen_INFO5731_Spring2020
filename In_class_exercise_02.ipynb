{
  "nbformat": 4,
  "nbformat_minor": 0,
  "metadata": {
    "colab": {
      "name": "In_class_exercise_02.ipynb",
      "provenance": [],
      "collapsed_sections": [],
      "include_colab_link": true
    },
    "kernelspec": {
      "name": "python3",
      "display_name": "Python 3"
    }
  },
  "cells": [
    {
      "cell_type": "markdown",
      "metadata": {
        "id": "view-in-github",
        "colab_type": "text"
      },
      "source": [
        "<a href=\"https://colab.research.google.com/github/HuyenNguyenHelen/Huyen_INFO5731_Spring2020/blob/master/In_class_exercise_02.ipynb\" target=\"_parent\"><img src=\"https://colab.research.google.com/assets/colab-badge.svg\" alt=\"Open In Colab\"/></a>"
      ]
    },
    {
      "cell_type": "markdown",
      "metadata": {
        "id": "oo5bsEh2eeWi",
        "colab_type": "text"
      },
      "source": [
        "# **The second In-class-exercise**\n"
      ]
    },
    {
      "cell_type": "markdown",
      "metadata": {
        "id": "2sPQ58dIeqgp",
        "colab_type": "text"
      },
      "source": [
        "(1) Write a Python program to find the duplicate elements in a given array of integers. Return -1 If there are no such elements."
      ]
    },
    {
      "cell_type": "code",
      "metadata": {
        "id": "mnrvKMFTeoJR",
        "colab_type": "code",
        "outputId": "afa84dff-cc9d-4456-e9c6-00d82de7342f",
        "colab": {
          "base_uri": "https://localhost:8080/",
          "height": 35
        }
      },
      "source": [
        "# write your answer here\n",
        "import array as arr\n",
        "a=arr.array('d',[3,9,-1,7,-1])\n",
        "for i in range (0, len(a)):\n",
        "  for j in range (i+1,len(a)):\n",
        "    if a[i]==a[j]:\n",
        "      print(a[j])\n",
        "\n"
      ],
      "execution_count": 0,
      "outputs": [
        {
          "output_type": "stream",
          "text": [
            "-1.0\n"
          ],
          "name": "stdout"
        }
      ]
    },
    {
      "cell_type": "markdown",
      "metadata": {
        "id": "YYrH6n6IhZoQ",
        "colab_type": "text"
      },
      "source": [
        "(2) Write a Python program to select all the Sundays of a specified year.\n",
        "\n"
      ]
    },
    {
      "cell_type": "code",
      "metadata": {
        "id": "OSfPLd23eLpX",
        "colab_type": "code",
        "outputId": "cd5756fe-2922-4674-8c72-f82b5ab55267",
        "colab": {
          "base_uri": "https://localhost:8080/",
          "height": 919
        }
      },
      "source": [
        "# write your answer here\n",
        "from datetime import date, timedelta\n",
        "def all_sundays (year):\n",
        "  d=date(year,1,1)\n",
        "  d=d+ timedelta(days=6-d.weekday())\n",
        "  d_list=[]\n",
        "  while d.year==year:\n",
        "    d=d+ timedelta(days=6-d.weekday())\n",
        "    d+= timedelta(days=7)\n",
        "    d_list.append(d)\n",
        "  return d_list\n",
        "\n",
        " \n",
        "all_sundays(2020)\n"
      ],
      "execution_count": 0,
      "outputs": [
        {
          "output_type": "execute_result",
          "data": {
            "text/plain": [
              "[datetime.date(2020, 1, 12),\n",
              " datetime.date(2020, 1, 19),\n",
              " datetime.date(2020, 1, 26),\n",
              " datetime.date(2020, 2, 2),\n",
              " datetime.date(2020, 2, 9),\n",
              " datetime.date(2020, 2, 16),\n",
              " datetime.date(2020, 2, 23),\n",
              " datetime.date(2020, 3, 1),\n",
              " datetime.date(2020, 3, 8),\n",
              " datetime.date(2020, 3, 15),\n",
              " datetime.date(2020, 3, 22),\n",
              " datetime.date(2020, 3, 29),\n",
              " datetime.date(2020, 4, 5),\n",
              " datetime.date(2020, 4, 12),\n",
              " datetime.date(2020, 4, 19),\n",
              " datetime.date(2020, 4, 26),\n",
              " datetime.date(2020, 5, 3),\n",
              " datetime.date(2020, 5, 10),\n",
              " datetime.date(2020, 5, 17),\n",
              " datetime.date(2020, 5, 24),\n",
              " datetime.date(2020, 5, 31),\n",
              " datetime.date(2020, 6, 7),\n",
              " datetime.date(2020, 6, 14),\n",
              " datetime.date(2020, 6, 21),\n",
              " datetime.date(2020, 6, 28),\n",
              " datetime.date(2020, 7, 5),\n",
              " datetime.date(2020, 7, 12),\n",
              " datetime.date(2020, 7, 19),\n",
              " datetime.date(2020, 7, 26),\n",
              " datetime.date(2020, 8, 2),\n",
              " datetime.date(2020, 8, 9),\n",
              " datetime.date(2020, 8, 16),\n",
              " datetime.date(2020, 8, 23),\n",
              " datetime.date(2020, 8, 30),\n",
              " datetime.date(2020, 9, 6),\n",
              " datetime.date(2020, 9, 13),\n",
              " datetime.date(2020, 9, 20),\n",
              " datetime.date(2020, 9, 27),\n",
              " datetime.date(2020, 10, 4),\n",
              " datetime.date(2020, 10, 11),\n",
              " datetime.date(2020, 10, 18),\n",
              " datetime.date(2020, 10, 25),\n",
              " datetime.date(2020, 11, 1),\n",
              " datetime.date(2020, 11, 8),\n",
              " datetime.date(2020, 11, 15),\n",
              " datetime.date(2020, 11, 22),\n",
              " datetime.date(2020, 11, 29),\n",
              " datetime.date(2020, 12, 6),\n",
              " datetime.date(2020, 12, 13),\n",
              " datetime.date(2020, 12, 20),\n",
              " datetime.date(2020, 12, 27),\n",
              " datetime.date(2021, 1, 3)]"
            ]
          },
          "metadata": {
            "tags": []
          },
          "execution_count": 46
        }
      ]
    },
    {
      "cell_type": "code",
      "metadata": {
        "id": "GnjUtGCTa0aM",
        "colab_type": "code",
        "colab": {}
      },
      "source": [
        ""
      ],
      "execution_count": 0,
      "outputs": []
    },
    {
      "cell_type": "markdown",
      "metadata": {
        "id": "UIpziZ6Sjie-",
        "colab_type": "text"
      },
      "source": [
        "(3) Python files reading and writing. Download the “[exercise_02_data _collection.zip](https://github.com/unt-iialab/INFO5731_Spring2020/blob/master/In_class_exercise/exercise_02_data_collection.zip)” to your local and un-zip it.\n",
        "\n",
        "*   Write a program to read all the txt files and save the sentences in all the files into one csv file with two columns, the first column is sentence id (txt file name+sentence line number), the second column is the sentence text content.\n",
        "*   Remove all the punctuations from the sentences, save the processed sentences into a new column in the same csv file.\n",
        "*   Ask the user to enter a word, return all the sentences that include this word, three kinds of information should be returned: sentence id, sentence text content, the count that user input word appear in the sentence..\n",
        "\n"
      ]
    },
    {
      "cell_type": "code",
      "metadata": {
        "id": "f3CUsrWOj1Xy",
        "colab_type": "code",
        "colab": {
          "base_uri": "https://localhost:8080/",
          "height": 129
        },
        "outputId": "1557ee7e-f9a6-4a04-c5ba-fa8d992e5809"
      },
      "source": [
        "# write your answer here\n",
        "import os\n",
        "import csv\n",
        "from itertools import zip_longest\n",
        "col1=[]\n",
        "col2=[]\n",
        "for i in range (1,100):\n",
        "  path=\"C:\\exercise_02_data_collection\\exercise_02_data_collection\"\n",
        "  with open (path,\"r\") as fo:\n",
        "    content=fo.read()\n",
        "    col2.append(content)\n",
        "    col1.append(\"ARTHROTEC.{}\".format(i) + \"_\"+str(n)+'.txt\")\n",
        "with open(\"output.csv\", \"w\") as output_file:\n",
        "  file_writer=csv.writer(output_file,delimiter=\",\")\n",
        "  file_writer.writerow(col1,col2)\n",
        "\n",
        "  \n",
        "\n"
      ],
      "execution_count": 18,
      "outputs": [
        {
          "output_type": "error",
          "ename": "SyntaxError",
          "evalue": "ignored",
          "traceback": [
            "\u001b[0;36m  File \u001b[0;32m\"<ipython-input-18-946543f99d45>\"\u001b[0;36m, line \u001b[0;32m11\u001b[0m\n\u001b[0;31m    col1.append(\"ARTHROTEC.{}\".format(i) + \"_\"+str(n)+'.txt\")\u001b[0m\n\u001b[0m                                                             ^\u001b[0m\n\u001b[0;31mSyntaxError\u001b[0m\u001b[0;31m:\u001b[0m EOL while scanning string literal\n"
          ]
        }
      ]
    },
    {
      "cell_type": "markdown",
      "metadata": {
        "id": "-12cqmJEpZOh",
        "colab_type": "text"
      },
      "source": [
        "(4) Install packages nltk, numpy, scipy, pandas, and sklearn on Google Colab. Write a program to test whether they are installed successfully. "
      ]
    },
    {
      "cell_type": "code",
      "metadata": {
        "id": "Bo-LRPqN1OfL",
        "colab_type": "code",
        "outputId": "774b69ef-2aa4-46d4-ff75-a916b17b9856",
        "colab": {
          "base_uri": "https://localhost:8080/",
          "height": 125
        }
      },
      "source": [
        "!pip install nltk\n",
        "nltk.download ('stopwords')\n",
        "from nltk.corpus import stopwords\n",
        "\n",
        "stop_w=stopwords.words('english')\n",
        "print(stop_w)\n",
        "\n"
      ],
      "execution_count": 0,
      "outputs": [
        {
          "output_type": "stream",
          "text": [
            "Requirement already satisfied: nltk in /usr/local/lib/python3.6/dist-packages (3.2.5)\n",
            "Requirement already satisfied: six in /usr/local/lib/python3.6/dist-packages (from nltk) (1.12.0)\n",
            "[nltk_data] Downloading package stopwords to /root/nltk_data...\n",
            "[nltk_data]   Package stopwords is already up-to-date!\n",
            "['i', 'me', 'my', 'myself', 'we', 'our', 'ours', 'ourselves', 'you', \"you're\", \"you've\", \"you'll\", \"you'd\", 'your', 'yours', 'yourself', 'yourselves', 'he', 'him', 'his', 'himself', 'she', \"she's\", 'her', 'hers', 'herself', 'it', \"it's\", 'its', 'itself', 'they', 'them', 'their', 'theirs', 'themselves', 'what', 'which', 'who', 'whom', 'this', 'that', \"that'll\", 'these', 'those', 'am', 'is', 'are', 'was', 'were', 'be', 'been', 'being', 'have', 'has', 'had', 'having', 'do', 'does', 'did', 'doing', 'a', 'an', 'the', 'and', 'but', 'if', 'or', 'because', 'as', 'until', 'while', 'of', 'at', 'by', 'for', 'with', 'about', 'against', 'between', 'into', 'through', 'during', 'before', 'after', 'above', 'below', 'to', 'from', 'up', 'down', 'in', 'out', 'on', 'off', 'over', 'under', 'again', 'further', 'then', 'once', 'here', 'there', 'when', 'where', 'why', 'how', 'all', 'any', 'both', 'each', 'few', 'more', 'most', 'other', 'some', 'such', 'no', 'nor', 'not', 'only', 'own', 'same', 'so', 'than', 'too', 'very', 's', 't', 'can', 'will', 'just', 'don', \"don't\", 'should', \"should've\", 'now', 'd', 'll', 'm', 'o', 're', 've', 'y', 'ain', 'aren', \"aren't\", 'couldn', \"couldn't\", 'didn', \"didn't\", 'doesn', \"doesn't\", 'hadn', \"hadn't\", 'hasn', \"hasn't\", 'haven', \"haven't\", 'isn', \"isn't\", 'ma', 'mightn', \"mightn't\", 'mustn', \"mustn't\", 'needn', \"needn't\", 'shan', \"shan't\", 'shouldn', \"shouldn't\", 'wasn', \"wasn't\", 'weren', \"weren't\", 'won', \"won't\", 'wouldn', \"wouldn't\"]\n"
          ],
          "name": "stdout"
        }
      ]
    },
    {
      "cell_type": "code",
      "metadata": {
        "id": "3rd2fGWDHtsl",
        "colab_type": "code",
        "colab": {
          "base_uri": "https://localhost:8080/",
          "height": 34
        },
        "outputId": "23cc4007-ad20-49e3-a51a-87b88089b84a"
      },
      "source": [
        "import numpy as np\n",
        "arr=np.array([13,90,2.4,8.9])\n",
        "arr*2\n",
        "\n"
      ],
      "execution_count": 20,
      "outputs": [
        {
          "output_type": "execute_result",
          "data": {
            "text/plain": [
              "array([ 26. , 180. ,   4.8,  17.8])"
            ]
          },
          "metadata": {
            "tags": []
          },
          "execution_count": 20
        }
      ]
    },
    {
      "cell_type": "code",
      "metadata": {
        "id": "iZp1ITjABtZK",
        "colab_type": "code",
        "colab": {}
      },
      "source": [
        "import spicy"
      ],
      "execution_count": 0,
      "outputs": []
    }
  ]
}