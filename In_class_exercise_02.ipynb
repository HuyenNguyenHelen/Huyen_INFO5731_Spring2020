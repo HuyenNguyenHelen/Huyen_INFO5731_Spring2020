{
  "nbformat": 4,
  "nbformat_minor": 0,
  "metadata": {
    "colab": {
      "name": "In_class_exercise_02.ipynb",
      "provenance": [],
      "collapsed_sections": [],
      "include_colab_link": true
    },
    "kernelspec": {
      "name": "python3",
      "display_name": "Python 3"
    }
  },
  "cells": [
    {
      "cell_type": "markdown",
      "metadata": {
        "id": "view-in-github",
        "colab_type": "text"
      },
      "source": [
        "<a href=\"https://colab.research.google.com/github/HuyenNguyenHelen/Huyen_INFO5731_Spring2020/blob/master/In_class_exercise_02.ipynb\" target=\"_parent\"><img src=\"https://colab.research.google.com/assets/colab-badge.svg\" alt=\"Open In Colab\"/></a>"
      ]
    },
    {
      "cell_type": "markdown",
      "metadata": {
        "id": "oo5bsEh2eeWi",
        "colab_type": "text"
      },
      "source": [
        "# **The second In-class-exercise**\n"
      ]
    },
    {
      "cell_type": "markdown",
      "metadata": {
        "id": "2sPQ58dIeqgp",
        "colab_type": "text"
      },
      "source": [
        "(1) Write a Python program to find the duplicate elements in a given array of integers. Return -1 If there are no such elements."
      ]
    },
    {
      "cell_type": "code",
      "metadata": {
        "id": "mnrvKMFTeoJR",
        "colab_type": "code",
        "outputId": "afa84dff-cc9d-4456-e9c6-00d82de7342f",
        "colab": {
          "base_uri": "https://localhost:8080/",
          "height": 35
        }
      },
      "source": [
        "# write your answer here\n",
        "import array as arr\n",
        "a=arr.array('d',[3,9,-1,7,-1])\n",
        "for i in range (0, len(a)):\n",
        "  for j in range (i+1,len(a)):\n",
        "    if a[i]==a[j]:\n",
        "      print(a[j])\n",
        "\n"
      ],
      "execution_count": 0,
      "outputs": [
        {
          "output_type": "stream",
          "text": [
            "-1.0\n"
          ],
          "name": "stdout"
        }
      ]
    },
    {
      "cell_type": "markdown",
      "metadata": {
        "id": "YYrH6n6IhZoQ",
        "colab_type": "text"
      },
      "source": [
        "(2) Write a Python program to select all the Sundays of a specified year.\n",
        "\n"
      ]
    },
    {
      "cell_type": "code",
      "metadata": {
        "id": "OSfPLd23eLpX",
        "colab_type": "code",
        "outputId": "cd5756fe-2922-4674-8c72-f82b5ab55267",
        "colab": {
          "base_uri": "https://localhost:8080/",
          "height": 919
        }
      },
      "source": [
        "# write your answer here\n",
        "from datetime import date, timedelta\n",
        "def all_sundays (year):\n",
        "  d=date(year,1,1)\n",
        "  d=d+ timedelta(days=6-d.weekday())\n",
        "  d_list=[]\n",
        "  while d.year==year:\n",
        "    d=d+ timedelta(days=6-d.weekday())\n",
        "    d+= timedelta(days=7)\n",
        "    d_list.append(d)\n",
        "  return d_list\n",
        "\n",
        " \n",
        "all_sundays(2020)\n"
      ],
      "execution_count": 0,
      "outputs": [
        {
          "output_type": "execute_result",
          "data": {
            "text/plain": [
              "[datetime.date(2020, 1, 12),\n",
              " datetime.date(2020, 1, 19),\n",
              " datetime.date(2020, 1, 26),\n",
              " datetime.date(2020, 2, 2),\n",
              " datetime.date(2020, 2, 9),\n",
              " datetime.date(2020, 2, 16),\n",
              " datetime.date(2020, 2, 23),\n",
              " datetime.date(2020, 3, 1),\n",
              " datetime.date(2020, 3, 8),\n",
              " datetime.date(2020, 3, 15),\n",
              " datetime.date(2020, 3, 22),\n",
              " datetime.date(2020, 3, 29),\n",
              " datetime.date(2020, 4, 5),\n",
              " datetime.date(2020, 4, 12),\n",
              " datetime.date(2020, 4, 19),\n",
              " datetime.date(2020, 4, 26),\n",
              " datetime.date(2020, 5, 3),\n",
              " datetime.date(2020, 5, 10),\n",
              " datetime.date(2020, 5, 17),\n",
              " datetime.date(2020, 5, 24),\n",
              " datetime.date(2020, 5, 31),\n",
              " datetime.date(2020, 6, 7),\n",
              " datetime.date(2020, 6, 14),\n",
              " datetime.date(2020, 6, 21),\n",
              " datetime.date(2020, 6, 28),\n",
              " datetime.date(2020, 7, 5),\n",
              " datetime.date(2020, 7, 12),\n",
              " datetime.date(2020, 7, 19),\n",
              " datetime.date(2020, 7, 26),\n",
              " datetime.date(2020, 8, 2),\n",
              " datetime.date(2020, 8, 9),\n",
              " datetime.date(2020, 8, 16),\n",
              " datetime.date(2020, 8, 23),\n",
              " datetime.date(2020, 8, 30),\n",
              " datetime.date(2020, 9, 6),\n",
              " datetime.date(2020, 9, 13),\n",
              " datetime.date(2020, 9, 20),\n",
              " datetime.date(2020, 9, 27),\n",
              " datetime.date(2020, 10, 4),\n",
              " datetime.date(2020, 10, 11),\n",
              " datetime.date(2020, 10, 18),\n",
              " datetime.date(2020, 10, 25),\n",
              " datetime.date(2020, 11, 1),\n",
              " datetime.date(2020, 11, 8),\n",
              " datetime.date(2020, 11, 15),\n",
              " datetime.date(2020, 11, 22),\n",
              " datetime.date(2020, 11, 29),\n",
              " datetime.date(2020, 12, 6),\n",
              " datetime.date(2020, 12, 13),\n",
              " datetime.date(2020, 12, 20),\n",
              " datetime.date(2020, 12, 27),\n",
              " datetime.date(2021, 1, 3)]"
            ]
          },
          "metadata": {
            "tags": []
          },
          "execution_count": 46
        }
      ]
    },
    {
      "cell_type": "code",
      "metadata": {
        "id": "GnjUtGCTa0aM",
        "colab_type": "code",
        "colab": {}
      },
      "source": [
        ""
      ],
      "execution_count": 0,
      "outputs": []
    },
    {
      "cell_type": "code",
      "metadata": {
        "id": "eFN8_qTGYLZC",
        "colab_type": "code",
        "outputId": "65045b20-ab47-4e5b-afe3-605b41935dff",
        "colab": {
          "base_uri": "https://localhost:8080/",
          "height": 52
        }
      },
      "source": [
        "from datetime import date, timedelta\n",
        "today=date.today()\n",
        "print(today)\n",
        "today.weekday()\n",
        "future_day=today+timedelta(days=2)\n",
        "print(future_day)"
      ],
      "execution_count": 0,
      "outputs": [
        {
          "output_type": "stream",
          "text": [
            "2020-01-28\n",
            "2020-01-30\n"
          ],
          "name": "stdout"
        }
      ]
    },
    {
      "cell_type": "markdown",
      "metadata": {
        "id": "UIpziZ6Sjie-",
        "colab_type": "text"
      },
      "source": [
        "(3) Python files reading and writing. Download the “[exercise_02_data _collection.zip](https://github.com/unt-iialab/INFO5731_Spring2020/blob/master/In_class_exercise/exercise_02_data_collection.zip)” to your local and un-zip it.\n",
        "\n",
        "*   Write a program to read all the txt files and save the sentences in all the files into one csv file with two columns, the first column is sentence id (txt file name+sentence line number), the second column is the sentence text content.\n",
        "*   Remove all the punctuations from the sentences, save the processed sentences into a new column in the same csv file.\n",
        "*   Ask the user to enter a word, return all the sentences that include this word, three kinds of information should be returned: sentence id, sentence text content, the count that user input word appear in the sentence..\n",
        "\n"
      ]
    },
    {
      "cell_type": "code",
      "metadata": {
        "id": "f3CUsrWOj1Xy",
        "colab_type": "code",
        "colab": {}
      },
      "source": [
        "# write your answer here\n",
        "import pandas as pd\n",
        "import csv\n",
        "csv.reader\n",
        "\n"
      ],
      "execution_count": 0,
      "outputs": []
    },
    {
      "cell_type": "markdown",
      "metadata": {
        "id": "-12cqmJEpZOh",
        "colab_type": "text"
      },
      "source": [
        "(4) Install packages nltk, numpy, scipy, pandas, and sklearn on Google Colab. Write a program to test whether they are installed successfully. "
      ]
    },
    {
      "cell_type": "code",
      "metadata": {
        "id": "f1pn1Zl2qK77",
        "colab_type": "code",
        "colab": {}
      },
      "source": [
        "# write your answer here\n",
        "\n",
        "\n",
        "\n"
      ],
      "execution_count": 0,
      "outputs": []
    }
  ]
}