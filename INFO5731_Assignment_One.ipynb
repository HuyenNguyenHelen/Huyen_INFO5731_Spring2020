{
  "nbformat": 4,
  "nbformat_minor": 0,
  "metadata": {
    "colab": {
      "name": "INFO5731_Assignment_One.ipynb",
      "provenance": [],
      "collapsed_sections": [],
      "include_colab_link": true
    },
    "kernelspec": {
      "name": "python3",
      "display_name": "Python 3"
    }
  },
  "cells": [
    {
      "cell_type": "markdown",
      "metadata": {
        "id": "view-in-github",
        "colab_type": "text"
      },
      "source": [
        "<a href=\"https://colab.research.google.com/github/HuyenNguyenHelen/Huyen_INFO5731_Spring2020/blob/master/INFO5731_Assignment_One.ipynb\" target=\"_parent\"><img src=\"https://colab.research.google.com/assets/colab-badge.svg\" alt=\"Open In Colab\"/></a>"
      ]
    },
    {
      "cell_type": "markdown",
      "metadata": {
        "id": "Ryk8D1Q4Wsrp",
        "colab_type": "text"
      },
      "source": [
        "# **INFO5731 Assignment One**"
      ]
    },
    {
      "cell_type": "markdown",
      "metadata": {
        "id": "90_NR8c5XGWc",
        "colab_type": "text"
      },
      "source": [
        "# Question 1\n",
        "\n",
        "(20 points). Write a Python program to generate 12 random numbers between 1 and 100. Sort the list of numbers in ascending order and print it out. Sort the list of numbers in descending order and print it out. Calculate the average for the group and print it out."
      ]
    },
    {
      "cell_type": "code",
      "metadata": {
        "id": "5QX6bJjGWXY9",
        "colab_type": "code",
        "outputId": "b6b66171-df6f-46a4-cf62-6be19aa7deac",
        "colab": {
          "base_uri": "https://localhost:8080/",
          "height": 52
        }
      },
      "source": [
        "# Your code here\n",
        "# Your code here\n",
        "import random\n",
        "list_rand=[]\n",
        "def random_list():\n",
        "  for x in range(12):\n",
        "    list_rand.append(random.randint(1,100))\n",
        "    list_rand.sort(reverse=True)\n",
        "  print(list_rand)\n",
        "def avg_list():\n",
        "  print(sum(list_rand)/len(list_rand))\n",
        "random_list()\n",
        "avg_list()\n",
        "\n"
      ],
      "execution_count": 0,
      "outputs": [
        {
          "output_type": "stream",
          "text": [
            "[86, 79, 65, 41, 38, 27, 25, 19, 18, 17, 12, 7]\n",
            "36.166666666666664\n"
          ],
          "name": "stdout"
        }
      ]
    },
    {
      "cell_type": "markdown",
      "metadata": {
        "id": "1F_PZdH9Sh49",
        "colab_type": "text"
      },
      "source": [
        "# Question 2\n",
        "(25 points). Write a program that will do the following string formatting tasks:\n",
        "\n",
        "(1) Ask the user to enter two sentences.\n",
        "\n",
        "(2) Make each sentence into a list. Each element in the list should correspond to a word in the sentence. For example, if the sentence is \"Alas! Am I alive? This is my first python program\", the program should print out ['Alas, '!', 'Am', 'I', 'alive, '?', 'This', 'is', 'my', 'first', 'python', 'program'].\n",
        "\n",
        "(3) Compare the two sentences. Print out a list of words that occur in both sentences.\n",
        "\n",
        "(4) Remove any punctuation from the sentence and print it back out. It should remove at least the following characters, but it can remove more: period(“.”), comma (“,”), semicolon (“;”), and colon (“:”)\n",
        "\n",
        "(5) Count the number of vowels in the sentences. Print out each vowel and the number of times it appears in the sentences, such as: a:2, e:1, i:0, etc"
      ]
    },
    {
      "cell_type": "code",
      "metadata": {
        "id": "Y0oOSlsOS0cq",
        "colab_type": "code",
        "outputId": "21546713-0946-4598-c0bd-0d82592f0de3",
        "colab": {
          "base_uri": "https://localhost:8080/",
          "height": 157
        }
      },
      "source": [
        "# Your code here\n",
        "import nltk\n",
        "nltk.download('punkt')\n",
        "from nltk.tokenize import WordPunctTokenizer\n",
        "import string\n",
        "input1= str(input(\" your first sentence: \"))\n",
        "input2=str(input(\" your second sentence: \"))\n",
        "punct=[char for char in string.punctuation]\n",
        "list1=WordPunctTokenizer().tokenize(input1)\n",
        "list2=WordPunctTokenizer().tokenize(input2)\n",
        "def join_list():\n",
        "  list3= list1 + list2\n",
        "  return list3\n",
        "\n",
        "def compare_lists():\n",
        "  coocurrence=[]\n",
        "  for word in list1:\n",
        "    if word in list2:\n",
        "      coocurrence.append(word)\n",
        "  return coocurrence\n",
        "\n",
        "def remove_punct(list3):\n",
        "  for element in list3:\n",
        "    if element in punct:\n",
        "      list3.remove(element)\n",
        "  return list3\n",
        "\n",
        "def vowels_fre (list3):\n",
        "  vowels=[\"u\",\"e\",\"o\",\"a\",\"i\"]\n",
        "  hist={}\n",
        "  for ele in vowels:\n",
        "    for word in list3:\n",
        "      if ele in word:\n",
        "        hist[ele]=hist.get(ele,0)+1\n",
        "  return hist\n",
        "\n",
        "print(\"Here are all input words: \", join_list() )\n",
        "print(\"Here are all occurrence words:  \", compare_lists() )\n",
        "print(\"The list without the punctuations is : \", remove_punct(list3))\n",
        "print(\"The frequency of vowels: \",  vowels_fre(list3))\n",
        "\n",
        "                                         \n",
        "      \n",
        " \n"
      ],
      "execution_count": 77,
      "outputs": [
        {
          "output_type": "stream",
          "text": [
            "[nltk_data] Downloading package punkt to /root/nltk_data...\n",
            "[nltk_data]   Package punkt is already up-to-date!\n",
            " your first sentence: Hello. How are you?\n",
            " your second sentence: Hi. I am good.\n",
            "Here are all input words:  ['Hello', '.', 'How', 'are', 'you', '?', 'Hi', '.', 'I', 'am', 'good', '.']\n",
            "Here are all occurrence words:   ['.']\n",
            "The list without the punctuations is :  ['Hello', 'How', 'are', 'you', 'Hello', 'I', 'am', 'great', 'How', 'are', 'you', 'doing']\n",
            "The frequency of vowels:  {'u': 2, 'e': 5, 'o': 7, 'a': 4, 'i': 1}\n"
          ],
          "name": "stdout"
        }
      ]
    },
    {
      "cell_type": "code",
      "metadata": {
        "id": "EZL0IY2XSQpC",
        "colab_type": "code",
        "colab": {}
      },
      "source": [
        ""
      ],
      "execution_count": 0,
      "outputs": []
    },
    {
      "cell_type": "markdown",
      "metadata": {
        "id": "CmFoI4jDS9nx",
        "colab_type": "text"
      },
      "source": [
        "# Question 3 \n",
        "\n",
        "(15 points). The formula that describes the volume V of a sphere with radius r is the following:\n",
        "\n",
        "$ V=\\frac{4}{3}\\ast\\ \\pi\\ast\\ r^3 $\n",
        "\n",
        "Write a program to calculate the value of V when r is in the range of 1–10. Output the result in the following format:\n",
        "\n",
        "\tr\tV\n",
        "\t1\t…\n",
        "\t2\t…\n",
        "\t3\t…\n"
      ]
    },
    {
      "cell_type": "code",
      "metadata": {
        "id": "pEyqeioAT95b",
        "colab_type": "code",
        "outputId": "175829de-4e7f-43fd-dcc1-0b9dd02360bb",
        "colab": {
          "base_uri": "https://localhost:8080/",
          "height": 193
        }
      },
      "source": [
        "# Your code here\n",
        "import math\n",
        "def volume (r):\n",
        "  v=(4/3*math.pi* (r**3) for r in range(1,11))\n",
        "  for i,j in enumerate(v,1):\n",
        "    print(i,\"\\t\", j)\n",
        "    \n",
        "volume(3)\n"
      ],
      "execution_count": 4,
      "outputs": [
        {
          "output_type": "stream",
          "text": [
            "1 \t 4.1887902047863905\n",
            "2 \t 33.510321638291124\n",
            "3 \t 113.09733552923254\n",
            "4 \t 268.082573106329\n",
            "5 \t 523.5987755982989\n",
            "6 \t 904.7786842338603\n",
            "7 \t 1436.7550402417319\n",
            "8 \t 2144.660584850632\n",
            "9 \t 3053.6280592892786\n",
            "10 \t 4188.790204786391\n"
          ],
          "name": "stdout"
        }
      ]
    },
    {
      "cell_type": "markdown",
      "metadata": {
        "id": "z3tBE7E-Xn5X",
        "colab_type": "text"
      },
      "source": [
        "# Question 4\n",
        "\n",
        "(40 points). In the field of Data Science, data is often formatted as a comma-delimited (CSV) file, where each line in a file corresponds to a field's value. Refer to Chapter 9 (p. 106) for more information on comma-delimited files. To answer this question, you will need to download the file Assignment1_denton_housing.csv included with this assignment. The file Assignment1_denton_housing.csv contains statistics about housing in the city of Denton from 2008 to 2014. Write a program to implement the following questions.\n",
        "\n",
        "(1) (10 pts) Calculate the difference in the number of Occupied Housing Units from year to year and print it. The difference must be calculated for the consecutive years such as 2008-2009, 2009-2010 etc. Finally, print the values in the ascending order.\n",
        "\n",
        "(2) (10 pts) For all the years, calculate the percentage of housing units which are vacant an occupied. Print the results in the following format:\n",
        "\n",
        "Year Vacant Housing Units Occupied Housing Units\n",
        "\n",
        "    2008  30%   70%                          \n",
        "\t2009 ----- -----\n",
        "\t2010 ----- -----\n",
        "    2011 ----- -----\n",
        "\t2012 ----- -----\n",
        "    2013 ----- -----\n",
        "\t2014 ----- -----\n",
        "  \n",
        "  \n",
        "\n",
        "(3) (10 pts) Calculate and print the valued and years in which the highest number of housing units were vacant and occupied. Print the results in the following format:  \n",
        "\n",
        "                              Year\tValue\n",
        "\tVacant Housing Units\t  -----   -----\n",
        "\tOccupied Housing Units\t-----   -----\n",
        "\n",
        "(4) (10 pts) Calculate the harmonic mean of the total housing units and print it out. You can find the information about harmonic mean here: https://ncalculators.com/statistics/harmonic-mean-calculator.htm"
      ]
    },
    {
      "cell_type": "code",
      "metadata": {
        "id": "lqGYuHBhcsRH",
        "colab_type": "code",
        "colab": {
          "base_uri": "https://localhost:8080/",
          "height": 34
        },
        "outputId": "3b4f536e-02f9-4dde-9c44-39f09b272579"
      },
      "source": [
        "# Your code here\n",
        "# Your code here\n",
        "import os\n",
        "import pandas as pd\n",
        "url = 'https://raw.githubusercontent.com/unt-iialab/INFO5731_Spring2020/master/Assignments/Assignment1_denton_housing.csv'\n",
        "df = pd.read_csv(url)\n",
        "occ_list=[]\n",
        "i=2\n",
        "while i <= len(df[\"value\"])-3:\n",
        "  a=df[\"value\"][i+3]-df[\"value\"][i]\n",
        "  occ_list.append(a)\n",
        "  i+=3\n",
        "print(sorted(occ_list))\n",
        "\n",
        "\n",
        "  \n",
        "\n",
        "\n",
        "\n",
        "\n",
        "\n"
      ],
      "execution_count": 147,
      "outputs": [
        {
          "output_type": "stream",
          "text": [
            "[-16954, -15866, -5091, -3173, -2622, -1565, -1404, -1008, -84, -53, 303, 795, 1195]\n"
          ],
          "name": "stdout"
        }
      ]
    },
    {
      "cell_type": "code",
      "metadata": {
        "id": "kbQtOaggOiMj",
        "colab_type": "code",
        "colab": {}
      },
      "source": [
        "f=pd.DataFrame(my_data)\n",
        "my_data = pd.read_csv('sales_data.csv')\n",
        "i=0\n",
        "j=1\n",
        "while j < len(df['Target_column']):\n",
        "    j=df['Target_column'][i+1] - df['Target_column'][i] #the difference btwn two values in a column.\n",
        "    i+=1 #move to the next value in the column.\n",
        "    j+=1 #next value in the new column.\n",
        "    print(j)"
      ],
      "execution_count": 0,
      "outputs": []
    }
  ]
}