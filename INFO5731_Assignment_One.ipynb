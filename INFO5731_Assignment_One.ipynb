{
  "nbformat": 4,
  "nbformat_minor": 0,
  "metadata": {
    "colab": {
      "name": "INFO5731_Assignment_One.ipynb",
      "provenance": [],
      "collapsed_sections": [],
      "include_colab_link": true
    },
    "kernelspec": {
      "name": "python3",
      "display_name": "Python 3"
    }
  },
  "cells": [
    {
      "cell_type": "markdown",
      "metadata": {
        "id": "view-in-github",
        "colab_type": "text"
      },
      "source": [
        "<a href=\"https://colab.research.google.com/github/HuyenNguyenHelen/Huyen_INFO5731_Spring2020/blob/master/INFO5731_Assignment_One.ipynb\" target=\"_parent\"><img src=\"https://colab.research.google.com/assets/colab-badge.svg\" alt=\"Open In Colab\"/></a>"
      ]
    },
    {
      "cell_type": "markdown",
      "metadata": {
        "id": "Ryk8D1Q4Wsrp",
        "colab_type": "text"
      },
      "source": [
        "# **INFO5731 Assignment One**"
      ]
    },
    {
      "cell_type": "markdown",
      "metadata": {
        "id": "90_NR8c5XGWc",
        "colab_type": "text"
      },
      "source": [
        "# Question 1\n",
        "\n",
        "(20 points). Write a Python program to generate 12 random numbers between 1 and 100. Sort the list of numbers in ascending order and print it out. Sort the list of numbers in descending order and print it out. Calculate the average for the group and print it out."
      ]
    },
    {
      "cell_type": "code",
      "metadata": {
        "id": "5QX6bJjGWXY9",
        "colab_type": "code",
        "outputId": "b6b66171-df6f-46a4-cf62-6be19aa7deac",
        "colab": {
          "base_uri": "https://localhost:8080/",
          "height": 52
        }
      },
      "source": [
        "# Your code here\n",
        "# Your code here\n",
        "import random\n",
        "list_rand=[]\n",
        "def random_list():\n",
        "  for x in range(12):\n",
        "    list_rand.append(random.randint(1,100))\n",
        "    list_rand.sort(reverse=True)\n",
        "  print(list_rand)\n",
        "def avg_list():\n",
        "  print(sum(list_rand)/len(list_rand))\n",
        "random_list()\n",
        "avg_list()\n",
        "\n"
      ],
      "execution_count": 0,
      "outputs": [
        {
          "output_type": "stream",
          "text": [
            "[86, 79, 65, 41, 38, 27, 25, 19, 18, 17, 12, 7]\n",
            "36.166666666666664\n"
          ],
          "name": "stdout"
        }
      ]
    },
    {
      "cell_type": "markdown",
      "metadata": {
        "id": "1F_PZdH9Sh49",
        "colab_type": "text"
      },
      "source": [
        "# Question 2\n",
        "(25 points). Write a program that will do the following string formatting tasks:\n",
        "\n",
        "(1) Ask the user to enter two sentences.\n",
        "\n",
        "(2) Make each sentence into a list. Each element in the list should correspond to a word in the sentence. For example, if the sentence is \"Alas! Am I alive? This is my first python program\", the program should print out ['Alas, '!', 'Am', 'I', 'alive, '?', 'This', 'is', 'my', 'first', 'python', 'program'].\n",
        "\n",
        "(3) Compare the two sentences. Print out a list of words that occur in both sentences.\n",
        "\n",
        "(4) Remove any punctuation from the sentence and print it back out. It should remove at least the following characters, but it can remove more: period(“.”), comma (“,”), semicolon (“;”), and colon (“:”)\n",
        "\n",
        "(5) Count the number of vowels in the sentences. Print out each vowel and the number of times it appears in the sentences, such as: a:2, e:1, i:0, etc"
      ]
    },
    {
      "cell_type": "code",
      "metadata": {
        "id": "Y0oOSlsOS0cq",
        "colab_type": "code",
        "outputId": "21546713-0946-4598-c0bd-0d82592f0de3",
        "colab": {
          "base_uri": "https://localhost:8080/",
          "height": 159
        }
      },
      "source": [
        "# Your code here\n",
        "import nltk\n",
        "nltk.download('punkt')\n",
        "from nltk.tokenize import WordPunctTokenizer\n",
        "import string\n",
        "input1= str(input(\" your first sentence: \"))\n",
        "input2=str(input(\" your second sentence: \"))\n",
        "punct=[char for char in string.punctuation]\n",
        "list1=WordPunctTokenizer().tokenize(input1)\n",
        "list2=WordPunctTokenizer().tokenize(input2)\n",
        "def join_list():\n",
        "  list3= list1 + list2\n",
        "  return list3\n",
        "\n",
        "def compare_lists():\n",
        "  coocurrence=[]\n",
        "  for word in list1:\n",
        "    if word in list2:\n",
        "      coocurrence.append(word)\n",
        "  return coocurrence\n",
        "\n",
        "def remove_punct(list3):\n",
        "  for element in list3:\n",
        "    if element in punct:\n",
        "      list3.remove(element)\n",
        "  return list3\n",
        "\n",
        "def vowels_fre (list3):\n",
        "  vowels=[\"u\",\"e\",\"o\",\"a\",\"i\"]\n",
        "  hist={}\n",
        "  for ele in vowels:\n",
        "    for word in list3:\n",
        "      if ele in word:\n",
        "        hist[ele]=hist.get(ele,0)+1\n",
        "  return hist\n",
        "\n",
        "print(\"Here are all input words: \", join_list() )\n",
        "print(\"Here are all occurrence words:  \", compare_lists() )\n",
        "print(\"The list without the punctuations is : \", remove_punct(list3))\n",
        "print(\"The frequency of vowels: \",  vowels_fre(list3))\n",
        "\n",
        "                                         \n",
        "      \n",
        " \n"
      ],
      "execution_count": 0,
      "outputs": [
        {
          "output_type": "stream",
          "text": [
            "[nltk_data] Downloading package punkt to /root/nltk_data...\n",
            "[nltk_data]   Package punkt is already up-to-date!\n",
            " your first sentence: Hello. How are you?\n",
            " your second sentence: Hi. I am good.\n",
            "Here are all input words:  ['Hello', '.', 'How', 'are', 'you', '?', 'Hi', '.', 'I', 'am', 'good', '.']\n",
            "Here are all occurrence words:   ['.']\n",
            "The list without the punctuations is :  ['Hello', 'How', 'are', 'you', 'Hello', 'I', 'am', 'great', 'How', 'are', 'you', 'doing']\n",
            "The frequency of vowels:  {'u': 2, 'e': 5, 'o': 7, 'a': 4, 'i': 1}\n"
          ],
          "name": "stdout"
        }
      ]
    },
    {
      "cell_type": "code",
      "metadata": {
        "id": "EZL0IY2XSQpC",
        "colab_type": "code",
        "colab": {}
      },
      "source": [
        ""
      ],
      "execution_count": 0,
      "outputs": []
    },
    {
      "cell_type": "markdown",
      "metadata": {
        "id": "CmFoI4jDS9nx",
        "colab_type": "text"
      },
      "source": [
        "# Question 3 \n",
        "\n",
        "(15 points). The formula that describes the volume V of a sphere with radius r is the following:\n",
        "\n",
        "$ V=\\frac{4}{3}\\ast\\ \\pi\\ast\\ r^3 $\n",
        "\n",
        "Write a program to calculate the value of V when r is in the range of 1–10. Output the result in the following format:\n",
        "\n",
        "\tr\tV\n",
        "\t1\t…\n",
        "\t2\t…\n",
        "\t3\t…\n"
      ]
    },
    {
      "cell_type": "code",
      "metadata": {
        "id": "pEyqeioAT95b",
        "colab_type": "code",
        "outputId": "16813e17-3dfd-4078-d916-9c6fab892d29",
        "colab": {
          "base_uri": "https://localhost:8080/",
          "height": 212
        }
      },
      "source": [
        "# Your code here\n",
        "import math\n",
        "def volume (r):\n",
        "  v=(4/3*math.pi* (r**3) for r in range(1,11))\n",
        "  print(\"r\",\"\\t\", \"V\")\n",
        "  for i,j in enumerate(v,1):\n",
        "    print(i,\"\\t\", j)\n",
        "    \n",
        "volume(3)\n"
      ],
      "execution_count": 0,
      "outputs": [
        {
          "output_type": "stream",
          "text": [
            "r \t V\n",
            "1 \t 4.1887902047863905\n",
            "2 \t 33.510321638291124\n",
            "3 \t 113.09733552923254\n",
            "4 \t 268.082573106329\n",
            "5 \t 523.5987755982989\n",
            "6 \t 904.7786842338603\n",
            "7 \t 1436.7550402417319\n",
            "8 \t 2144.660584850632\n",
            "9 \t 3053.6280592892786\n",
            "10 \t 4188.790204786391\n"
          ],
          "name": "stdout"
        }
      ]
    },
    {
      "cell_type": "markdown",
      "metadata": {
        "id": "z3tBE7E-Xn5X",
        "colab_type": "text"
      },
      "source": [
        "# Question 4\n",
        "\n",
        "(40 points). In the field of Data Science, data is often formatted as a comma-delimited (CSV) file, where each line in a file corresponds to a field's value. Refer to Chapter 9 (p. 106) for more information on comma-delimited files. To answer this question, you will need to download the file Assignment1_denton_housing.csv included with this assignment. The file Assignment1_denton_housing.csv contains statistics about housing in the city of Denton from 2008 to 2014. Write a program to implement the following questions.\n",
        "\n",
        "(1) (10 pts) Calculate the difference in the number of Occupied Housing Units from year to year and print it. The difference must be calculated for the consecutive years such as 2008-2009, 2009-2010 etc. Finally, print the values in the ascending order.\n",
        "\n",
        "(2) (10 pts) For all the years, calculate the percentage of housing units which are vacant an occupied. Print the results in the following format:\n",
        "\n",
        "Year Vacant Housing Units Occupied Housing Units\n",
        "\n",
        "    2008  30%   70%                          \n",
        "\t2009 ----- -----\n",
        "\t2010 ----- -----\n",
        "    2011 ----- -----\n",
        "\t2012 ----- -----\n",
        "    2013 ----- -----\n",
        "\t2014 ----- -----\n",
        "  \n",
        "  \n",
        "\n",
        "(3) (10 pts) Calculate and print the valued and years in which the highest number of housing units were vacant and occupied. Print the results in the following format:  \n",
        "\n",
        "                              Year\tValue\n",
        "\tVacant Housing Units\t  -----   -----\n",
        "\tOccupied Housing Units\t-----   -----\n",
        "\n",
        "(4) (10 pts) Calculate the harmonic mean of the total housing units and print it out. You can find the information about harmonic mean here: https://ncalculators.com/statistics/harmonic-mean-calculator.htm"
      ]
    },
    {
      "cell_type": "markdown",
      "metadata": {
        "id": "QjPi9TUA6Yzs",
        "colab_type": "text"
      },
      "source": [
        "**3.1. Calculate the difference in the number of Occupied Housing Units from year to year and print it. The difference must be calculated for the consecutive years such as 2008-2009, 2009-2010 etc. Finally, print the values in the ascending order.**"
      ]
    },
    {
      "cell_type": "code",
      "metadata": {
        "id": "SMr9N8h2DMVg",
        "colab_type": "code",
        "outputId": "260ee592-60de-493d-cc7f-3a09e532e99d",
        "colab": {
          "base_uri": "https://localhost:8080/",
          "height": 117
        }
      },
      "source": [
        "\n",
        "import os\n",
        "import pandas as pd\n",
        "url = 'https://raw.githubusercontent.com/unt-iialab/INFO5731_Spring2020/master/Assignments/Assignment1_denton_housing.csv'\n",
        "df = pd.read_csv(url)\n",
        "year=[year for year in df[\"year\"]]\n",
        "#print(year)\n",
        "title_field=[title for title in df[\"title_field\"]]\n",
        "#print(title_field)\n",
        "value=[value for value in df[\"value\"]]\n",
        "#print(value)\n",
        "total_housing_unit=[]\n",
        "vacant_housing_units=[]\n",
        "occupied_housing_units=[]\n",
        "for i in range(0,len(title_field)):\n",
        "  for j in range(0, len(value)):\n",
        "    if title_field[i]==\"Total Housing Units\":\n",
        "      total_housing_unit.append(value[i])\n",
        "      break\n",
        "    elif title_field[i]==\"Vacant Housing Units\":\n",
        "      vacant_housing_units.append(value[i])\n",
        "      break\n",
        "    elif title_field[i]==\"Occupied Housing Units\":\n",
        "      occupied_housing_units.append(value[i])\n",
        "      break\n",
        "    else:\n",
        "      pass\n",
        "\n",
        "\n",
        "y_list=[]\n",
        "for y in range(2008, 2014):\n",
        "  y_list.append(str(y)+ '-'+ str(y+1))\n",
        "  y+=1\n",
        "diff=[]\n",
        "for i in range(0,len(occupied_housing_units)-1):\n",
        "  d=abs(occupied_housing_units[i+1] - occupied_housing_units[i])\n",
        "  diff.append(d)\n",
        "  i+=1\n",
        "diff.reverse()\n",
        "diff_dict={}\n",
        "for i, y in zip(y_list, diff):\n",
        "  diff_dict[i]=y\n",
        "for k,v in diff_dict.items():\n",
        "  print(k,\"\\t\", v)\n",
        "\n",
        "\n",
        "\n",
        "\n"
      ],
      "execution_count": 119,
      "outputs": [
        {
          "output_type": "stream",
          "text": [
            "2008-2009 \t 795\n",
            "2009-2010 \t 5091\n",
            "2010-2011 \t 303\n",
            "2011-2012 \t 1404\n",
            "2012-2013 \t 1565\n",
            "2013-2014 \t 2622\n"
          ],
          "name": "stdout"
        }
      ]
    },
    {
      "cell_type": "markdown",
      "metadata": {
        "id": "hqGDSLA-IjOQ",
        "colab_type": "text"
      },
      "source": [
        "**3.2. For all the years, calculate the percentage of housing units which are vacant an occupied. Print the results in the following format:**\n",
        "\n",
        "Year Vacant Housing Units Occupied Housing Units "
      ]
    },
    {
      "cell_type": "code",
      "metadata": {
        "id": "3GvH-I6859_d",
        "colab_type": "code",
        "outputId": "62ad3317-5d37-4414-cf19-6560fe13a4f0",
        "colab": {
          "base_uri": "https://localhost:8080/",
          "height": 150
        }
      },
      "source": [
        "#For all the years, calculate the percentage of housing units which are vacant an occupied. Print the results in the following format:\n",
        "#def per_vacant():\n",
        "vac_list=[]\n",
        "for v, t in zip(vacant_housing_units,total_housing_unit ):\n",
        "  vac_per=round((v/t)*100)\n",
        "  vac_list.append(vac_per)\n",
        "  v+=1\n",
        "  t+=1\n",
        "\n",
        "occ_list=[]\n",
        "for v, t in zip(occupied_housing_units,total_housing_unit ):\n",
        "  occ_per=round((v/t)*100)\n",
        "  occ_list.append(occ_per)\n",
        "  v+=1\n",
        "  t+=1\n",
        "\n",
        "print(\"Year\", \"\\t\", \"Vacant Housing Units\", \"\\t\", \"Occupied Housing Units\")\n",
        "y=2008\n",
        "while y<=2014:\n",
        "  for v,c in zip(vac_list, occ_list):\n",
        "    print(y,\"\\t\"*2,v,\"%\",\"\\t\"*3, c, \"%\")\n",
        "    y+=1\n",
        "\n"
      ],
      "execution_count": 0,
      "outputs": [
        {
          "output_type": "stream",
          "text": [
            "Year \t Vacant Housing Units \t Occupied Housing Units\n",
            "2008 \t\t 6 % \t\t\t 94 %\n",
            "2009 \t\t 9 % \t\t\t 91 %\n",
            "2010 \t\t 7 % \t\t\t 93 %\n",
            "2011 \t\t 9 % \t\t\t 91 %\n",
            "2012 \t\t 8 % \t\t\t 92 %\n",
            "2013 \t\t 9 % \t\t\t 91 %\n",
            "2014 \t\t 11 % \t\t\t 89 %\n"
          ],
          "name": "stdout"
        }
      ]
    },
    {
      "cell_type": "markdown",
      "metadata": {
        "id": "oCaq29zUj-gO",
        "colab_type": "text"
      },
      "source": [
        "**3.3. Calculate and print the valued and years in which the highest number of housing units were vacant and occupied:**\n",
        "\n",
        "                           Year    Value\n",
        "Vacant Housing Units      -----   -----\n",
        "\n",
        "Occupied Housing Units    -----   -----"
      ]
    },
    {
      "cell_type": "code",
      "metadata": {
        "id": "_F08gJmr6GUy",
        "colab_type": "code",
        "colab": {
          "base_uri": "https://localhost:8080/",
          "height": 33
        },
        "outputId": "d72a563c-71aa-4bd1-b6ce-11dbfa951fb1"
      },
      "source": [
        "df = pd.read_csv(url)\n",
        "vac_dict={}\n",
        "occ_dict={}\n",
        "i=0\n",
        "for row in df:\n",
        "  if row[1] ==\"Vacant Housing Units\":\n",
        "    vac_dict[row[0]]=row[3]\n",
        "  if row[1] == \"Occupied Housing Units\":   \n",
        "  occ_dict[int(row[0])] = int(row[2])\n",
        "print(vac_dict)\n",
        "\n",
        "#for y in \n",
        "#print(set_year, \"\\n\", per1, \"\\n\", per2)\n",
        "# Calculate and print the valued and years in which the highest number of housing units were vacant and occupied. Print the results in the following format:\n",
        "#max_vacant=max(vacant_housing_units)\n",
        "#max_occupied=max(occupied_housing_units)\n",
        "#for i in range(len(vacant_housing_units)):\n",
        " # if vacant_housing_units[i]==max_vacant:\n",
        "   # print( list_year[i], max_vacant)\n",
        "#for j in range(len(occupied_housing_units)):\n",
        " # if occupied_housing_units[j]=max_occupied:\n",
        "  #  print( list_year[j], max_occupied)"
      ],
      "execution_count": 130,
      "outputs": [
        {
          "output_type": "stream",
          "text": [
            "{}\n"
          ],
          "name": "stdout"
        }
      ]
    },
    {
      "cell_type": "code",
      "metadata": {
        "id": "lqGYuHBhcsRH",
        "colab_type": "code",
        "outputId": "a73dc294-8875-4da3-f83e-cc66f9d5955f",
        "colab": {
          "base_uri": "https://localhost:8080/",
          "height": 35
        }
      },
      "source": [
        "# Your code here\n",
        "# Your code here\n",
        "import os\n",
        "import pandas as pd\n",
        "url = 'https://raw.githubusercontent.com/unt-iialab/INFO5731_Spring2020/master/Assignments/Assignment1_denton_housing.csv'\n",
        "df = pd.read_csv(url)\n",
        "occ_list=[]\n",
        "i=2\n",
        "while i <= len(df[\"value\"])-3:\n",
        "  a=abs(df[\"value\"][i+3]-df[\"value\"][i])\n",
        "  occ_list.append(a)\n",
        "  i+=3\n",
        "print(sorted(occ_list))\n",
        "\n",
        "\n",
        "  \n"
      ],
      "execution_count": 0,
      "outputs": [
        {
          "output_type": "stream",
          "text": [
            "[53, 84, 303, 795, 1008, 1195, 1404, 1565, 2622, 3173, 5091, 15866, 16954]\n"
          ],
          "name": "stdout"
        }
      ]
    },
    {
      "cell_type": "code",
      "metadata": {
        "id": "kbQtOaggOiMj",
        "colab_type": "code",
        "colab": {}
      },
      "source": [
        "f=pd.DataFrame(my_data)\n",
        "my_data = pd.read_csv('sales_data.csv')\n",
        "i=0\n",
        "j=1\n",
        "while j < len(df['Target_column']):\n",
        "    j=df['Target_column'][i+1] - df['Target_column'][i] #the difference btwn two values in a column.\n",
        "    i+=1 #move to the next value in the column.\n",
        "    j+=1 #next value in the new column.\n",
        "    print(j)"
      ],
      "execution_count": 0,
      "outputs": []
    }
  ]
}