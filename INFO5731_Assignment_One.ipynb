{
  "nbformat": 4,
  "nbformat_minor": 0,
  "metadata": {
    "colab": {
      "name": "INFO5731_Assignment_One.ipynb",
      "provenance": [],
      "collapsed_sections": [],
      "include_colab_link": true
    },
    "kernelspec": {
      "name": "python3",
      "display_name": "Python 3"
    }
  },
  "cells": [
    {
      "cell_type": "markdown",
      "metadata": {
        "id": "view-in-github",
        "colab_type": "text"
      },
      "source": [
        "<a href=\"https://colab.research.google.com/github/HuyenNguyenHelen/Huyen_INFO5731_Spring2020/blob/master/INFO5731_Assignment_One.ipynb\" target=\"_parent\"><img src=\"https://colab.research.google.com/assets/colab-badge.svg\" alt=\"Open In Colab\"/></a>"
      ]
    },
    {
      "cell_type": "markdown",
      "metadata": {
        "id": "Ryk8D1Q4Wsrp",
        "colab_type": "text"
      },
      "source": [
        "# **INFO5731 Assignment One**"
      ]
    },
    {
      "cell_type": "markdown",
      "metadata": {
        "id": "90_NR8c5XGWc",
        "colab_type": "text"
      },
      "source": [
        "# Question 1\n",
        "\n",
        "(20 points). Write a Python program to generate 12 random numbers between 1 and 100. Sort the list of numbers in ascending order and print it out. Sort the list of numbers in descending order and print it out. Calculate the average for the group and print it out."
      ]
    },
    {
      "cell_type": "code",
      "metadata": {
        "id": "5QX6bJjGWXY9",
        "colab_type": "code",
        "outputId": "d0d43957-0742-4299-a7a2-bb67982b2ece",
        "colab": {
          "base_uri": "https://localhost:8080/",
          "height": 85
        }
      },
      "source": [
        "\n",
        "import random\n",
        "list_rand=[]\n",
        "\n",
        "#function to generate a list of 12 random numbers between 1 and 100\n",
        "def random_list():\n",
        "  for x in range(12):\n",
        "    list_rand.append(random.randint(1,100))\n",
        "  return list_rand\n",
        "\n",
        "# function to sort the list in ascending order \n",
        "def asc_list():\n",
        "  list_rand.sort()\n",
        "  return list_rand\n",
        "\n",
        "#function to  sort the list in descending order \n",
        "def des_list():\n",
        " list_rand.sort(reverse=True)\n",
        " return list_rand\n",
        "\n",
        " #function to calculate the average for the list\n",
        "def avg_list():\n",
        "  avg=round(sum(list_rand)/len(list_rand),2)\n",
        "  return avg\n",
        "\n",
        "#call all defined functions\n",
        "print(\"The random list of random numbers between 1 and 100:\", random_list())\n",
        "print(\"The random list in ascending order:\", asc_list())\n",
        "print(\"The random list in ascending order:\", des_list())\n",
        "print(\"Average value of the list:\", avg_list())\n",
        "\n"
      ],
      "execution_count": 0,
      "outputs": [
        {
          "output_type": "stream",
          "text": [
            "The random list of random numbers between 1 and 100: [68, 82, 37, 58, 39, 32, 44, 9, 4, 7, 45, 94]\n",
            "The random list in ascending order: [4, 7, 9, 32, 37, 39, 44, 45, 58, 68, 82, 94]\n",
            "The random list in ascending order: [94, 82, 68, 58, 45, 44, 39, 37, 32, 9, 7, 4]\n",
            "Average value of the list: 43.25\n"
          ],
          "name": "stdout"
        }
      ]
    },
    {
      "cell_type": "markdown",
      "metadata": {
        "id": "1F_PZdH9Sh49",
        "colab_type": "text"
      },
      "source": [
        "# Question 2\n",
        "(25 points). Write a program that will do the following string formatting tasks:\n",
        "\n",
        "(1) Ask the user to enter two sentences.\n",
        "\n",
        "(2) Make each sentence into a list. Each element in the list should correspond to a word in the sentence. For example, if the sentence is \"Alas! Am I alive? This is my first python program\", the program should print out ['Alas, '!', 'Am', 'I', 'alive, '?', 'This', 'is', 'my', 'first', 'python', 'program'].\n",
        "\n",
        "(3) Compare the two sentences. Print out a list of words that occur in both sentences.\n",
        "\n",
        "(4) Remove any punctuation from the sentence and print it back out. It should remove at least the following characters, but it can remove more: period(“.”), comma (“,”), semicolon (“;”), and colon (“:”)\n",
        "\n",
        "(5) Count the number of vowels in the sentences. Print out each vowel and the number of times it appears in the sentences, such as: a:2, e:1, i:0, etc"
      ]
    },
    {
      "cell_type": "code",
      "metadata": {
        "id": "Y0oOSlsOS0cq",
        "colab_type": "code",
        "outputId": "0cc8a791-dcb3-40d5-99e9-1274086c6f26",
        "colab": {
          "base_uri": "https://localhost:8080/",
          "height": 153
        }
      },
      "source": [
        "# Your code here\n",
        "import nltk\n",
        "nltk.download('punkt')\n",
        "from nltk.tokenize import WordPunctTokenizer\n",
        "import string\n",
        "\n",
        "# 2.1. Ask users to input two strings \n",
        "input1= str(input(\" your first sentence: \"))\n",
        "input2=str(input(\" your second sentence: \"))\n",
        "\n",
        "#2.2. Create two lists from two inputs and tokenize each of them\n",
        "punct=[char for char in string.punctuation]\n",
        "list1=WordPunctTokenizer().tokenize(input1)\n",
        "list2=WordPunctTokenizer().tokenize(input2)\n",
        "\n",
        "# concatenate two tokenized lists \n",
        "list3= list1 + list2\n",
        "\n",
        "# 2.3. function to make a list of words that occur in both sentences\n",
        "def compare_lists():\n",
        "  coocurrence=[]\n",
        "  for word in list1:\n",
        "    if word in list2:\n",
        "      coocurrence.append(word)\n",
        "  return coocurrence\n",
        "\n",
        "# 2.4. Function to remove any punctuation from the sentence\n",
        "def remove_punct(list3):\n",
        "  for element in list3:\n",
        "    if element in punct:\n",
        "      list3.remove(element)\n",
        "  return list3\n",
        "\n",
        "#2.5. Count the number of vowels in the sentences\n",
        "def vowels_fre (list3):\n",
        "  vowels=[\"u\",\"e\",\"o\",\"a\",\"i\"]\n",
        "  hist={}\n",
        "  for ele in vowels:\n",
        "    for word in list3:\n",
        "      if ele in word:\n",
        "        hist[ele]=hist.get(ele,0)+1\n",
        "  return hist\n",
        "\n",
        "#Call all defined functions and print out results\n",
        "print(\"Here are all input words: \",list3)\n",
        "print(\"Here are all occurrence words:  \", compare_lists() )\n",
        "print(\"The list without the punctuations is : \", remove_punct(list3))\n",
        "print(\"The frequency of vowels: \",  vowels_fre(list3))\n",
        "\n",
        "                                         "
      ],
      "execution_count": 26,
      "outputs": [
        {
          "output_type": "stream",
          "text": [
            "[nltk_data] Downloading package punkt to /root/nltk_data...\n",
            "[nltk_data]   Package punkt is already up-to-date!\n",
            " your first sentence: Hello Python!\n",
            " your second sentence: This is my first Python assignment. \n",
            "Here are all input words:  ['Hello', 'Python', '!', 'This', 'is', 'my', 'first', 'Python', 'assignment', '.']\n",
            "Here are all occurrence words:   ['Python']\n",
            "The list without the punctuations is :  ['Hello', 'Python', 'This', 'is', 'my', 'first', 'Python', 'assignment']\n",
            "The frequency of vowels:  {'e': 2, 'o': 3, 'a': 1, 'i': 4}\n"
          ],
          "name": "stdout"
        }
      ]
    },
    {
      "cell_type": "code",
      "metadata": {
        "id": "EZL0IY2XSQpC",
        "colab_type": "code",
        "colab": {}
      },
      "source": [
        ""
      ],
      "execution_count": 0,
      "outputs": []
    },
    {
      "cell_type": "markdown",
      "metadata": {
        "id": "CmFoI4jDS9nx",
        "colab_type": "text"
      },
      "source": [
        "# Question 3 \n",
        "\n",
        "(15 points). The formula that describes the volume V of a sphere with radius r is the following:\n",
        "\n",
        "$ V=\\frac{4}{3}\\ast\\ \\pi\\ast\\ r^3 $\n",
        "\n",
        "Write a program to calculate the value of V when r is in the range of 1–10. Output the result in the following format:\n",
        "\n",
        "\tr\tV\n",
        "\t1\t…\n",
        "\t2\t…\n",
        "\t3\t…\n"
      ]
    },
    {
      "cell_type": "code",
      "metadata": {
        "id": "pEyqeioAT95b",
        "colab_type": "code",
        "outputId": "f4ecf9fe-8006-4962-bef0-8115d5c101d1",
        "colab": {
          "base_uri": "https://localhost:8080/",
          "height": 204
        }
      },
      "source": [
        "import math\n",
        "# function to calculate the value of V when r is in the range of 1–10\n",
        "def volume ():\n",
        "  v=(round(4/3*math.pi* (r**3),3) for r in range(1,11))\n",
        "  print(\"r\",\"\\t\", \"V\")\n",
        "  for i,j in enumerate(v,1):\n",
        "    print(i,\"\\t\", j)\n",
        "\n",
        "# call the defined function    \n",
        "volume()\n"
      ],
      "execution_count": 28,
      "outputs": [
        {
          "output_type": "stream",
          "text": [
            "r \t V\n",
            "1 \t 4.189\n",
            "2 \t 33.51\n",
            "3 \t 113.097\n",
            "4 \t 268.083\n",
            "5 \t 523.599\n",
            "6 \t 904.779\n",
            "7 \t 1436.755\n",
            "8 \t 2144.661\n",
            "9 \t 3053.628\n",
            "10 \t 4188.79\n"
          ],
          "name": "stdout"
        }
      ]
    },
    {
      "cell_type": "markdown",
      "metadata": {
        "id": "z3tBE7E-Xn5X",
        "colab_type": "text"
      },
      "source": [
        "# Question 4\n",
        "\n",
        "(40 points). In the field of Data Science, data is often formatted as a comma-delimited (CSV) file, where each line in a file corresponds to a field's value. Refer to Chapter 9 (p. 106) for more information on comma-delimited files. To answer this question, you will need to download the file Assignment1_denton_housing.csv included with this assignment. The file Assignment1_denton_housing.csv contains statistics about housing in the city of Denton from 2008 to 2014. Write a program to implement the following questions.\n",
        "\n",
        "(1) (10 pts) Calculate the difference in the number of Occupied Housing Units from year to year and print it. The difference must be calculated for the consecutive years such as 2008-2009, 2009-2010 etc. Finally, print the values in the ascending order.\n",
        "\n",
        "(2) (10 pts) For all the years, calculate the percentage of housing units which are vacant an occupied. Print the results in the following format:\n",
        "\n",
        "Year Vacant Housing Units Occupied Housing Units\n",
        "\n",
        "    2008  30%   70%                          \n",
        "\t2009 ----- -----\n",
        "\t2010 ----- -----\n",
        "    2011 ----- -----\n",
        "\t2012 ----- -----\n",
        "    2013 ----- -----\n",
        "\t2014 ----- -----\n",
        "  \n",
        "  \n",
        "\n",
        "(3) (10 pts) Calculate and print the valued and years in which the highest number of housing units were vacant and occupied. Print the results in the following format:  \n",
        "\n",
        "                              Year\tValue\n",
        "\tVacant Housing Units\t  -----   -----\n",
        "\tOccupied Housing Units\t-----   -----\n",
        "\n",
        "(4) (10 pts) Calculate the harmonic mean of the total housing units and print it out. You can find the information about harmonic mean here: https://ncalculators.com/statistics/harmonic-mean-calculator.htm"
      ]
    },
    {
      "cell_type": "markdown",
      "metadata": {
        "id": "QjPi9TUA6Yzs",
        "colab_type": "text"
      },
      "source": [
        "**3.1. Calculate the difference in the number of Occupied Housing Units from year to year and print it. The difference must be calculated for the consecutive years such as 2008-2009, 2009-2010 etc. Finally, print the values in the ascending order.**"
      ]
    },
    {
      "cell_type": "code",
      "metadata": {
        "id": "SMr9N8h2DMVg",
        "colab_type": "code",
        "outputId": "b6a8f17f-e5a3-4a47-c504-0451dfef72a2",
        "colab": {
          "base_uri": "https://localhost:8080/",
          "height": 136
        }
      },
      "source": [
        "#read file csv\n",
        "import os\n",
        "import pandas as pd\n",
        "url = 'https://raw.githubusercontent.com/unt-iialab/INFO5731_Spring2020/master/Assignments/Assignment1_denton_housing.csv'\n",
        "df = pd.read_csv(url)\n",
        "\n",
        "#create three lists from values in three fields in csv file\n",
        "year=[year for year in df[\"year\"]]\n",
        "title_field=[title for title in df[\"title_field\"]]\n",
        "value=[value for value in df[\"value\"]]\n",
        "\n",
        "# save values of total housing unit, vacant housing units, occupied housing units into three lists\n",
        "total_housing_unit=[]\n",
        "vacant_housing_units=[]\n",
        "occupied_housing_units=[]\n",
        "for i in range(0,len(title_field)):\n",
        "  for j in range(0, len(value)):\n",
        "    if title_field[i]==\"Total Housing Units\":\n",
        "      total_housing_unit.append(value[i])\n",
        "      break\n",
        "    elif title_field[i]==\"Vacant Housing Units\":\n",
        "      vacant_housing_units.append(value[i])\n",
        "      break\n",
        "    elif title_field[i]==\"Occupied Housing Units\":\n",
        "      occupied_housing_units.append(value[i])\n",
        "      break\n",
        "    else:\n",
        "      pass\n",
        "\n",
        "# Calculate the difference in the number of Occupied Housing Units from year to year\n",
        "#Create a list of year period\n",
        "y_list=[]\n",
        "for y in range(2008, 2014):\n",
        "  y_list.append(str(y)+ '-'+ str(y+1))\n",
        "  y+=1\n",
        "#Create a list of the difference in the number of Occupied Housing Units from year to year\n",
        "diff=[]\n",
        "for i in range(0,len(occupied_housing_units)-1):\n",
        "  d=abs(occupied_housing_units[i+1] - occupied_housing_units[i])\n",
        "  diff.append(d)\n",
        "  i+=1\n",
        "\n",
        "diff.reverse() #reverse the order of the list  corresponding year period \n",
        "\n",
        "#Create a dictionary with key and value from two above lists\n",
        "diff_dict={}\n",
        "for i, y in zip(y_list, diff):\n",
        "  diff_dict[i]=y\n",
        "print(\"Year period\", \"\\t\", \"Changes in occupied housing units\")\n",
        "\n",
        "#Print out both year and difference as format.\n",
        "for k,v in diff_dict.items():\n",
        "  print(k,\"\\t\", v)\n",
        "\n",
        "\n",
        "\n",
        "\n"
      ],
      "execution_count": 20,
      "outputs": [
        {
          "output_type": "stream",
          "text": [
            "Year period \t Changes in occupied housing units\n",
            "2008-2009 \t 795\n",
            "2009-2010 \t 5091\n",
            "2010-2011 \t 303\n",
            "2011-2012 \t 1404\n",
            "2012-2013 \t 1565\n",
            "2013-2014 \t 2622\n"
          ],
          "name": "stdout"
        }
      ]
    },
    {
      "cell_type": "markdown",
      "metadata": {
        "id": "hqGDSLA-IjOQ",
        "colab_type": "text"
      },
      "source": [
        "**3.2. For all the years, calculate the percentage of housing units which are vacant an occupied. Print the results in the following format:**\n",
        "\n",
        "Year Vacant Housing Units Occupied Housing Units "
      ]
    },
    {
      "cell_type": "code",
      "metadata": {
        "id": "3GvH-I6859_d",
        "colab_type": "code",
        "outputId": "3371e1df-555a-4539-ea2a-8a0aff787585",
        "colab": {
          "base_uri": "https://localhost:8080/",
          "height": 153
        }
      },
      "source": [
        "#For all the years, calculate the percentage of housing units which are vacant an occupied\n",
        "#Create a list of Vacant Housing Units \n",
        "vac_list=[]\n",
        "for v, t in zip(vacant_housing_units,total_housing_unit ):\n",
        "  vac_per=round((v/t)*100)\n",
        "  vac_list.append(vac_per)\n",
        "  v+=1\n",
        "  t+=1\n",
        "vac_list.reverse() #reverse the order of the list  corresponding year period \n",
        "\n",
        "# Create a list of Occupied Housing Units\n",
        "occ_list=[]\n",
        "for v, t in zip(occupied_housing_units,total_housing_unit ):\n",
        "  occ_per=round((v/t)*100)\n",
        "  occ_list.append(occ_per)\n",
        "  v+=1\n",
        "  t+=1\n",
        "occ_list.reverse()  #reverse the order of the list  corresponding year period\n",
        "\n",
        "print(\"Year\", \"\\t\", \"Vacant Housing Units\", \"\\t\", \"Occupied Housing Units\")\n",
        "y=2008\n",
        "while y<=2014:\n",
        "  for v,c in zip(vac_list, occ_list):\n",
        "    print(y,\"\\t\\t\",v,\"%\",\"\\t\\t\\t\", c,\"%\")\n",
        "    y+=1\n",
        "\n"
      ],
      "execution_count": 43,
      "outputs": [
        {
          "output_type": "stream",
          "text": [
            "Year \t Vacant Housing Units \t Occupied Housing Units\n",
            "2008 \t\t 11 % \t\t\t 89 %\n",
            "2009 \t\t 9 % \t\t\t 91 %\n",
            "2010 \t\t 8 % \t\t\t 92 %\n",
            "2011 \t\t 9 % \t\t\t 91 %\n",
            "2012 \t\t 7 % \t\t\t 93 %\n",
            "2013 \t\t 9 % \t\t\t 91 %\n",
            "2014 \t\t 6 % \t\t\t 94 %\n"
          ],
          "name": "stdout"
        }
      ]
    },
    {
      "cell_type": "markdown",
      "metadata": {
        "id": "oCaq29zUj-gO",
        "colab_type": "text"
      },
      "source": [
        "**3.3. Calculate and print the valued and years in which the highest number of housing units were vacant and occupied:**\n",
        "\n",
        "                           Year    Value\n",
        "Vacant Housing Units      -----   -----\n",
        "\n",
        "Occupied Housing Units    -----   -----"
      ]
    },
    {
      "cell_type": "code",
      "metadata": {
        "id": "_F08gJmr6GUy",
        "colab_type": "code",
        "outputId": "a735200b-4040-4615-b8ff-a54c2d242078",
        "colab": {
          "base_uri": "https://localhost:8080/",
          "height": 68
        }
      },
      "source": [
        "#Create two dictionaries of Vacant Housing Units and Occupied Housing Units\n",
        "vac_dict={}\n",
        "occ_dict={}\n",
        "i=0\n",
        "for row in df.values:\n",
        "  if row[1] ==\"Vacant Housing Units\":\n",
        "    vac_dict[row[0]]=row[2]\n",
        "  if row[1] == \"Occupied Housing Units\":\n",
        "    occ_dict[int(row[0])] = int(row[2])\n",
        "\n",
        "# inverse dictionaries to find the maximums\n",
        "inverse_vac_dict=[(value,key) for key, value in vac_dict.items()]\n",
        "inverse_occ_dict=[(value, key) for key, value in occ_dict.items()]\n",
        "max_vac= max(inverse_vac_dict)\n",
        "max_occ=max(inverse_occ_dict)\n",
        "\n",
        "#Call fucntions and print out\n",
        "print(\"\\t\"*3, \"Year\",\"\\t\", \"Value\")\n",
        "print(\"Vacant Housing Units\", \"\\t\", max_vac[1],\"\\t\", max_vac[0])\n",
        "print(\"Occupied Housing Units\", \"\\t\", max_occ[1],\"\\t\", max_occ[0])\n"
      ],
      "execution_count": 22,
      "outputs": [
        {
          "output_type": "stream",
          "text": [
            "\t\t\t Year \t Value\n",
            "Vacant Housing Units \t 2008 \t 4483\n",
            "Occupied Housing Units \t 2014 \t 46295\n"
          ],
          "name": "stdout"
        }
      ]
    },
    {
      "cell_type": "markdown",
      "metadata": {
        "id": "4eJpjvNbG8PM",
        "colab_type": "text"
      },
      "source": [
        "**4. Calculate the harmonic mean of the total housing units and print it out**"
      ]
    },
    {
      "cell_type": "code",
      "metadata": {
        "id": "lqGYuHBhcsRH",
        "colab_type": "code",
        "outputId": "6bbd727d-54e4-4d25-8177-6d8f73f93271",
        "colab": {
          "base_uri": "https://localhost:8080/",
          "height": 34
        }
      },
      "source": [
        "# create a list containing value of total housing unit\n",
        "total_houses=[]\n",
        "for row in df.values:\n",
        "  if row[1]==\"Total Housing Units\":\n",
        "    total_houses.append(row[2])\n",
        "\n",
        "#Calculate the harmonic mean\n",
        "for i in range(0, len(total_houses)-1):\n",
        "  h= len(total_houses)/((1/total_houses[i])+(1/total_houses[i+1]))\n",
        "  i+=1\n",
        "print(\" The harmonic mean of the total housing units:\", round(h,4))\n",
        "  \n"
      ],
      "execution_count": 45,
      "outputs": [
        {
          "output_type": "stream",
          "text": [
            " The harmonic mean of the total housing units: 141150.4423\n"
          ],
          "name": "stdout"
        }
      ]
    }
  ]
}