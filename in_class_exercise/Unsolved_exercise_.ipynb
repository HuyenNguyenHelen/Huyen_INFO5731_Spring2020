{
  "nbformat": 4,
  "nbformat_minor": 0,
  "metadata": {
    "colab": {
      "name": "Unsolved exercise .ipynb",
      "provenance": [],
      "collapsed_sections": [],
      "include_colab_link": true
    },
    "kernelspec": {
      "name": "python3",
      "display_name": "Python 3"
    }
  },
  "cells": [
    {
      "cell_type": "markdown",
      "metadata": {
        "id": "view-in-github",
        "colab_type": "text"
      },
      "source": [
        "<a href=\"https://colab.research.google.com/github/HuyenNguyenHelen/Huyen_INFO5731_Spring2020/blob/master/in_class_exercise/Unsolved_exercise_.ipynb\" target=\"_parent\"><img src=\"https://colab.research.google.com/assets/colab-badge.svg\" alt=\"Open In Colab\"/></a>"
      ]
    },
    {
      "cell_type": "code",
      "metadata": {
        "id": "DZRAWiQQwwG1",
        "colab_type": "code",
        "colab": {}
      },
      "source": [
        "# why did it nor run and print result???\n",
        "def find_letter (word, letter):\n",
        "  index=0\n",
        "  while index < len(word):\n",
        "    if word[index]==letter:\n",
        "      return index\n",
        "    index = index +1\n",
        "  return -1\n",
        "  find_letter (\"a\", \"banana\")"
      ],
      "execution_count": 0,
      "outputs": []
    },
    {
      "cell_type": "code",
      "metadata": {
        "id": "kTlnoj0XBslz",
        "colab_type": "code",
        "outputId": "3ed379c4-3d4e-4dc1-a936-045502f380dd",
        "colab": {
          "base_uri": "https://localhost:8080/",
          "height": 35
        }
      },
      "source": [
        "# I want to build a fucntion count(), but it doesnt work.\n",
        "def count(word, letter):\n",
        "  count=0\n",
        "  index=0\n",
        "  for letter in word:\n",
        "    if word[index] ==letter:\n",
        "      count= count+1\n",
        "    index+=1\n",
        "  print(count,index)\n",
        "count(\"banana\", \"a\")"
      ],
      "execution_count": 3,
      "outputs": [
        {
          "output_type": "stream",
          "text": [
            "6 6\n"
          ],
          "name": "stdout"
        }
      ]
    },
    {
      "cell_type": "code",
      "metadata": {
        "id": "_PDoCBXJ9ym6",
        "colab_type": "code",
        "colab": {}
      },
      "source": [
        "cgcghjclvklv;lv"
      ],
      "execution_count": 0,
      "outputs": []
    }
  ]
}