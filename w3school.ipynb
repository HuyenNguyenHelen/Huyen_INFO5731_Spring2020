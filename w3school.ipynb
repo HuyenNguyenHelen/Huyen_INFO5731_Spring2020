{
  "nbformat": 4,
  "nbformat_minor": 0,
  "metadata": {
    "colab": {
      "name": "w3school.ipynb",
      "provenance": [],
      "include_colab_link": true
    },
    "kernelspec": {
      "name": "python3",
      "display_name": "Python 3"
    }
  },
  "cells": [
    {
      "cell_type": "markdown",
      "metadata": {
        "id": "view-in-github",
        "colab_type": "text"
      },
      "source": [
        "<a href=\"https://colab.research.google.com/github/HuyenNguyenHelen/Huyen_INFO5731_Spring2020/blob/master/w3school.ipynb\" target=\"_parent\"><img src=\"https://colab.research.google.com/assets/colab-badge.svg\" alt=\"Open In Colab\"/></a>"
      ]
    },
    {
      "cell_type": "code",
      "metadata": {
        "id": "awDc6SB8Aud1",
        "colab_type": "code",
        "outputId": "95e476ea-ef2b-4eb6-9fde-43596a77de18",
        "colab": {
          "base_uri": "https://localhost:8080/",
          "height": 52
        }
      },
      "source": [
        "#create a class with property x\n",
        "class my_class:\n",
        "  x=5\n",
        "  print(my_class)\n",
        "  p1=my_class()\n",
        "  print(p1.x)"
      ],
      "execution_count": 0,
      "outputs": [
        {
          "output_type": "stream",
          "text": [
            "<class '__main__.my_class'>\n",
            "5\n"
          ],
          "name": "stdout"
        }
      ]
    },
    {
      "cell_type": "markdown",
      "metadata": {
        "id": "6KX3_VdpG3xz",
        "colab_type": "text"
      },
      "source": [
        "Built-in __init___() function\n",
        "All classes have the name called ___init___(), which is used to assign value to object property "
      ]
    },
    {
      "cell_type": "code",
      "metadata": {
        "id": "X6n42VuKG3Cy",
        "colab_type": "code",
        "outputId": "52de400e-b592-4c29-95ca-0c9f4f582e1a",
        "colab": {
          "base_uri": "https://localhost:8080/",
          "height": 52
        }
      },
      "source": [
        "class Person:\n",
        "  def __init__(self, name, age):\n",
        "    self.name=name\n",
        "    self.age=age\n",
        "\n",
        "p1=Person(\"Johny\",25)\n",
        "print(p1.name)\n",
        "print(p1.age)"
      ],
      "execution_count": 0,
      "outputs": [
        {
          "output_type": "stream",
          "text": [
            "Johny\n",
            "25\n"
          ],
          "name": "stdout"
        }
      ]
    },
    {
      "cell_type": "code",
      "metadata": {
        "id": "dbRA6a4zKHjh",
        "colab_type": "code",
        "outputId": "e59190d7-78f5-436d-b3d2-19449e83ec64",
        "colab": {
          "base_uri": "https://localhost:8080/",
          "height": 87
        }
      },
      "source": [
        "# object method\n",
        "class Person:\n",
        "  def __init__(self, name, age):\n",
        "    self.name=name\n",
        "    self.age=age\n",
        "  def myfunct(self):\n",
        "    print(\"Hello! My name is\\n\" + self.name)\n",
        "p2=Person(\"Tommy\",32)\n",
        "p2.myfunct()\n",
        "p3=Person(\"Helen\",29)\n",
        "p3.myfunct()\n"
      ],
      "execution_count": 0,
      "outputs": [
        {
          "output_type": "stream",
          "text": [
            "Hello! My name is\n",
            "Tommy\n",
            "Hello! My name is\n",
            "Helen\n"
          ],
          "name": "stdout"
        }
      ]
    },
    {
      "cell_type": "code",
      "metadata": {
        "id": "A5NDWvhxOwZq",
        "colab_type": "code",
        "outputId": "42c4933b-f656-40e5-ef9b-949dd862931d",
        "colab": {
          "base_uri": "https://localhost:8080/",
          "height": 35
        }
      },
      "source": [
        "# I can have any names instead of self, but it must be the first, the defined function can take any name\n",
        "class Person:\n",
        "  def __init__(mysillyobject, name, age):\n",
        "    mysillyobject.name = name\n",
        "    mysillyobject.age = age\n",
        "\n",
        "  def myfunc(mysillyobject):\n",
        "    print(\"Hello my name is \" + mysillyobject.name)\n",
        "\n",
        "p1 = Person(\"John\", 36)\n",
        "p1.myfunc()"
      ],
      "execution_count": 0,
      "outputs": [
        {
          "output_type": "stream",
          "text": [
            "Hello my name is John\n"
          ],
          "name": "stdout"
        }
      ]
    },
    {
      "cell_type": "code",
      "metadata": {
        "id": "PV8GCNmdQ6ro",
        "colab_type": "code",
        "outputId": "c42cc56b-e5c9-4024-d7e6-dfe68cc9ebce",
        "colab": {
          "base_uri": "https://localhost:8080/",
          "height": 52
        }
      },
      "source": [
        "# Modify object\n",
        "p1.age=20\n",
        "p1.name=\"Birdy\"\n",
        "p1.myfunc()\n",
        "print(p1.age)"
      ],
      "execution_count": 0,
      "outputs": [
        {
          "output_type": "stream",
          "text": [
            "Hello my name is Birdy\n",
            "20\n"
          ],
          "name": "stdout"
        }
      ]
    },
    {
      "cell_type": "code",
      "metadata": {
        "id": "gOolEOuISEhr",
        "colab_type": "code",
        "outputId": "026d742b-35af-49e3-9212-419095827976",
        "colab": {
          "base_uri": "https://localhost:8080/",
          "height": 201
        }
      },
      "source": [
        "# delete objects and delete object properties\n",
        "del p1.age\n",
        "del p1\n",
        "\n"
      ],
      "execution_count": 0,
      "outputs": [
        {
          "output_type": "error",
          "ename": "AttributeError",
          "evalue": "ignored",
          "traceback": [
            "\u001b[0;31m---------------------------------------------------------------------------\u001b[0m",
            "\u001b[0;31mAttributeError\u001b[0m                            Traceback (most recent call last)",
            "\u001b[0;32m<ipython-input-32-018dc39c86a0>\u001b[0m in \u001b[0;36m<module>\u001b[0;34m()\u001b[0m\n\u001b[0;32m----> 1\u001b[0;31m \u001b[0;32mdel\u001b[0m \u001b[0mp1\u001b[0m\u001b[0;34m.\u001b[0m\u001b[0mage\u001b[0m\u001b[0;34m\u001b[0m\u001b[0;34m\u001b[0m\u001b[0m\n\u001b[0m\u001b[1;32m      2\u001b[0m \u001b[0;32mdel\u001b[0m \u001b[0mp1\u001b[0m\u001b[0;34m\u001b[0m\u001b[0;34m\u001b[0m\u001b[0m\n\u001b[1;32m      3\u001b[0m \u001b[0;34m\u001b[0m\u001b[0m\n",
            "\u001b[0;31mAttributeError\u001b[0m: age"
          ]
        }
      ]
    },
    {
      "cell_type": "code",
      "metadata": {
        "id": "xTVbd9N8Thzz",
        "colab_type": "code",
        "outputId": "630eecbb-82df-4a84-828e-48c83a52cf9d",
        "colab": {
          "base_uri": "https://localhost:8080/",
          "height": 35
        }
      },
      "source": [
        "class Person:\n",
        "  def __init__(self, fname, lname):\n",
        "    self.firstname = fname\n",
        "    self.lastname = lname\n",
        "\n",
        "  def printname(self):\n",
        "    print(self.firstname, self.lastname)\n",
        "\n",
        "#Use the Person class to create an object, and then execute the printname method:\n",
        "\n",
        "x = Person(\"John\", \"Doe\")\n",
        "x.printname()"
      ],
      "execution_count": 0,
      "outputs": [
        {
          "output_type": "stream",
          "text": [
            "John Doe\n"
          ],
          "name": "stdout"
        }
      ]
    },
    {
      "cell_type": "code",
      "metadata": {
        "id": "GvmgaM6FWoBY",
        "colab_type": "code",
        "colab": {}
      },
      "source": [
        ""
      ],
      "execution_count": 0,
      "outputs": []
    },
    {
      "cell_type": "markdown",
      "metadata": {
        "id": "1rmY6Vv3WvYG",
        "colab_type": "text"
      },
      "source": [
        "PYTHON INHERITANCE - \n",
        "parent and chilren classes - \n",
        "Class and object"
      ]
    },
    {
      "cell_type": "code",
      "metadata": {
        "id": "P4qANuc-W6ND",
        "colab_type": "code",
        "colab": {
          "base_uri": "https://localhost:8080/",
          "height": 35
        },
        "outputId": "fcc25885-a2bf-41c7-d819-b794f85993b8"
      },
      "source": [
        "#create a parent class\n",
        "class Person:\n",
        "  def __init__(self, firstname, lastname):\n",
        "    self.firstname=firstname\n",
        "    self.lastname=lastname\n",
        "  def print_name(self):\n",
        "    print(self.firstname, self.lastname)\n",
        "# create children classes\n",
        "class Student(Person):\n",
        "  pass\n",
        "\n",
        "s1=Student(\"Myami\",\"Young\")\n",
        "s1.print_name()\n"
      ],
      "execution_count": 10,
      "outputs": [
        {
          "output_type": "stream",
          "text": [
            "Myami Young\n"
          ],
          "name": "stdout"
        }
      ]
    },
    {
      "cell_type": "code",
      "metadata": {
        "id": "Jn4E67smiGh1",
        "colab_type": "code",
        "colab": {}
      },
      "source": [
        "#create a parent class\n",
        "class Person:\n",
        "  def __init__(self, firstname, lastname):\n",
        "    self.firstname=firstname\n",
        "    self.lastname=lastname\n",
        "  def print_name(self):\n",
        "    print(self.firstname, self.lastname)\n",
        "# create children classes\n",
        "class Student(Person):\n",
        "  pass\n",
        "\n",
        "s1=Student(\"Myami\",\"Young\")\n",
        "s1.print_name()\n"
      ],
      "execution_count": 0,
      "outputs": []
    }
  ]
}